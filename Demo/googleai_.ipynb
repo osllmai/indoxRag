{
 "cells": [
  {
   "metadata": {},
   "cell_type": "markdown",
   "source": [
    "## Retrieval Augmentation Using GoogleAi\n",
    "Here, we will explore how to work with Indox Retrieval Augmentation. We are using GoogleAi from Indox , we should set our GOOGLE_API_KEY as an environment variable."
   ],
   "id": "162764b9c74ed2bb"
  },
  {
   "metadata": {},
   "cell_type": "markdown",
   "source": "[![Open In Colab](https://colab.research.google.com/assets/colab-badge.svg)](https://colab.research.google.com/github/osllmai/inDox/blob/master/Demo/googleai.ipynb)\n",
   "id": "c94a217a4ce22dd0"
  },
  {
   "metadata": {},
   "cell_type": "code",
   "outputs": [],
   "execution_count": null,
   "source": [
    "!pip install -q -U google-generativeai\n",
    "!pip install chromadb\n",
    "!pip install indox"
   ],
   "id": "dd52bc7606a5ca75"
  },
  {
   "metadata": {},
   "cell_type": "markdown",
   "source": [
    "## Setting Up the Python Environment\n",
    "\n",
    "If you are running this project in your local IDE, please create a Python environment to ensure all dependencies are correctly managed. You can follow the steps below to set up a virtual environment named `indox`:\n",
    "\n",
    "### Windows\n",
    "\n",
    "1. **Create the virtual environment:**\n",
    "```bash\n",
    "python -m venv indox\n",
    "```\n",
    "2. **Activate the virtual environment:**\n",
    "```bash\n",
    "indox_judge\\Scripts\\activate\n",
    "```\n",
    "\n",
    "### macOS/Linux\n",
    "\n",
    "1. **Create the virtual environment:**\n",
    "   ```bash\n",
    "   python3 -m venv indox\n",
    "```\n",
    "\n",
    "2. **Activate the virtual environment:**\n",
    "    ```bash\n",
    "   source indox/bin/activate\n",
    "```\n",
    "### Install Dependencies\n",
    "\n",
    "Once the virtual environment is activated, install the required dependencies by running:\n",
    "\n",
    "```bash\n",
    "pip install -r requirements.txt\n",
    "```\n"
   ],
   "id": "976814842ce40e92"
  },
  {
   "metadata": {
    "ExecuteTime": {
     "end_time": "2024-07-09T15:35:08.259318Z",
     "start_time": "2024-07-09T15:35:08.203356Z"
    }
   },
   "cell_type": "code",
   "source": [
    "import os\n",
    "from dotenv import load_dotenv\n",
    "\n",
    "load_dotenv()\n",
    "HUGGINGFACE_API_KEY = os.getenv('HUGGINGFACE_API_KEY')\n",
    "GOOGLE_API_KEY = os.getenv('GOOGLE_API_KEY')"
   ],
   "id": "initial_id",
   "outputs": [],
   "execution_count": 1
  },
  {
   "metadata": {
    "ExecuteTime": {
     "end_time": "2024-07-09T15:35:20.933230Z",
     "start_time": "2024-07-09T15:35:08.611989Z"
    }
   },
   "cell_type": "code",
   "source": [
    "from indox import IndoxRetrievalAugmentation\n",
    "from indox.llms import GoogleAi\n",
    "from indox.embeddings import HuggingFaceEmbedding\n",
    "from indox.data_loader_splitter import ClusteredSplit"
   ],
   "id": "f5bf0c429718d8a2",
   "outputs": [],
   "execution_count": 2
  },
  {
   "metadata": {},
   "cell_type": "markdown",
   "source": [
    "### Creating an instance of IndoxTetrivalAugmentation\n",
    "\n",
    "To effectively utilize the Indox Retrieval Augmentation capabilities, you must first create an instance of the IndoxRetrievalAugmentation class. This instance will allow you to access the methods and properties defined within the class, enabling the augmentation and retrieval functionalities."
   ],
   "id": "fbd579f0c46d666"
  },
  {
   "metadata": {
    "ExecuteTime": {
     "end_time": "2024-07-09T15:35:20.938839Z",
     "start_time": "2024-07-09T15:35:20.934239Z"
    }
   },
   "cell_type": "code",
   "source": "indox = IndoxRetrievalAugmentation()",
   "id": "a0df2482140a045f",
   "outputs": [
    {
     "name": "stdout",
     "output_type": "stream",
     "text": [
      "\u001B[32mINFO\u001B[0m: \u001B[1mIndoxRetrievalAugmentation initialized\u001B[0m\n",
      "\n",
      "            ██  ███    ██  ██████   ██████  ██       ██\n",
      "            ██  ████   ██  ██   ██ ██    ██   ██  ██\n",
      "            ██  ██ ██  ██  ██   ██ ██    ██     ██\n",
      "            ██  ██  ██ ██  ██   ██ ██    ██   ██   ██\n",
      "            ██  ██  █████  ██████   ██████  ██       ██\n",
      "            \n"
     ]
    }
   ],
   "execution_count": 3
  },
  {
   "metadata": {
    "ExecuteTime": {
     "end_time": "2024-07-09T15:35:28.003902Z",
     "start_time": "2024-07-09T15:35:21.724485Z"
    }
   },
   "cell_type": "code",
   "source": [
    "google_qa = GoogleAi(api_key=GOOGLE_API_KEY,model=\"gemini-1.5-flash-latest\")\n",
    "embed = HuggingFaceEmbedding(model=\"multi-qa-mpnet-base-cos-v1\")"
   ],
   "id": "522c45523919543e",
   "outputs": [
    {
     "name": "stdout",
     "output_type": "stream",
     "text": [
      "\u001B[32mINFO\u001B[0m: \u001B[1mInitializing GoogleAi with model: gemini-1.5-flash-latest\u001B[0m\n",
      "\u001B[32mINFO\u001B[0m: \u001B[1mGoogleAi initialized successfully\u001B[0m\n"
     ]
    },
    {
     "name": "stderr",
     "output_type": "stream",
     "text": [
      "2024-07-09 19:05:25,239 INFO:Load pretrained SentenceTransformer: multi-qa-mpnet-base-cos-v1\n",
      "2024-07-09 19:05:28,000 INFO:Use pytorch device: cpu\n"
     ]
    },
    {
     "name": "stdout",
     "output_type": "stream",
     "text": [
      "\u001B[32mINFO\u001B[0m: \u001B[1mInitialized HuggingFace embeddings with model: multi-qa-mpnet-base-cos-v1\u001B[0m\n"
     ]
    }
   ],
   "execution_count": 4
  },
  {
   "metadata": {},
   "cell_type": "code",
   "source": "!wget https://raw.githubusercontent.com/osllmai/inDox/master/Demo/sample.txt",
   "id": "faec85a50b0102a3",
   "outputs": [],
   "execution_count": null
  },
  {
   "metadata": {
    "ExecuteTime": {
     "end_time": "2024-07-09T15:35:34.448960Z",
     "start_time": "2024-07-09T15:35:34.445635Z"
    }
   },
   "cell_type": "code",
   "source": "file_path = \"sample.txt\"",
   "id": "5de8165e3423511e",
   "outputs": [],
   "execution_count": 6
  },
  {
   "metadata": {},
   "cell_type": "markdown",
   "source": [
    "## Data Loader Setup\n",
    "\n",
    "We set up the data loader using the `ClusteredSplit` class. This step involves loading documents, configuring embeddings, and setting options for processing the text.\n"
   ],
   "id": "f793d71798ad25e6"
  },
  {
   "metadata": {},
   "cell_type": "code",
   "source": [
    "load_splitter = ClusteredSplit(file_path=file_path,summary_model=google_qa,embeddings=embed)\n",
    "docs = load_splitter.load_and_chunk()"
   ],
   "id": "be71fc01b5102508",
   "outputs": [],
   "execution_count": null
  },
  {
   "metadata": {
    "ExecuteTime": {
     "end_time": "2024-06-30T14:43:01.727597Z",
     "start_time": "2024-06-30T14:43:01.722922Z"
    }
   },
   "cell_type": "code",
   "source": "docs",
   "id": "9c6b76fbf6c244b5",
   "outputs": [
    {
     "data": {
      "text/plain": [
       "[\"The wife of a rich man fell sick, and as she felt that her end was drawing near, she called her only daughter to her bedside and said, dear child, be good and pious, and then the good God will always protect you, and I will look down on you from heaven and be near you   Thereupon she closed her eyes and departed   Every day the maiden went out to her mother's grave, and wept, and she remained pious and good   When winter came\",\n",
       " 'the snow spread a white sheet over the grave, and by the time the spring sun had drawn it off again, the man had taken another wife The woman had brought with her into the house two daughters, who were beautiful and fair of face, but vile and black of heart Now began a bad time for the poor step-child   Is the stupid goose to sit in the parlor with us, they said   He who wants to eat bread must earn it   Out with the kitchen-wench',\n",
       " '  They took her pretty clothes away from her, put an old grey bedgown on her, and gave her wooden shoes   Just look at the proud princess, how decked out she is, they cried, and laughed, and led her into the kitchen There she had to do hard work from morning till night, get up before daybreak, carry water, light fires, cook and wash   Besides this, the sisters did her every imaginable injury - they mocked her',\n",
       " 'and emptied her peas and lentils into the ashes, so that she was forced to sit and pick them out again   In the evening when she had worked till she was weary she had no bed to go to, but had to sleep by the hearth in the cinders   And as on that account she always looked dusty and dirty, they called her cinderella It happened that the father was once going to the fair, and he',\n",
       " 'asked his two step-daughters what he should bring back for them Beautiful dresses, said one, pearls and jewels, said the second And you, cinderella, said he, what will you have   Father break off for me the first branch which knocks against your hat on your way home   So he bought beautiful dresses, pearls and jewels for his two step-daughters, and on his way home, as he was riding through a green thicket, a hazel twig brushed against him and',\n",
       " \"knocked off his hat   Then he broke off the branch and took it with him   When he reached home he gave his step-daughters the things which they had wished for, and to cinderella he gave the branch from the hazel-bush   Cinderella thanked him, went to her mother's grave and planted the branch on it, and wept so much that the tears fell down on it and watered it   And it grew and became a handsome tree\",\n",
       " ' Thrice a day cinderella went and sat beneath it, and wept and prayed, and a little white bird always came on the tree, and if cinderella expressed a wish, the bird threw down to her what she had wished for It happened, however, that the king gave orders for a festival which was to last three days, and to which all the beautiful young girls in the country were invited, in order that his son might choose himself a bride',\n",
       " \"  When the two step-sisters heard that they too were to appear among the number, they were delighted, called cinderella and said, comb our hair for us, brush our shoes and fasten our buckles, for we are going to the wedding at the king's palace Cinderella obeyed, but wept, because she too would have liked to go with them to the dance, and begged her step-mother to allow her to do so\",\n",
       " '  You go, cinderella, said she, covered in dust and dirt as you are, and would go to the festival   You have no clothes and shoes, and yet would dance   As, however, cinderella went on asking, the step-mother said at last, I have emptied a dish of lentils into the ashes for you, if you have picked them out again in two hours, you shall go with us   The maiden went through the',\n",
       " 'back-door into the garden, and called, you tame pigeons, you turtle-doves, and all you birds beneath the sky, come and help me to pick      the good into the pot,      the bad into the crop Then two white pigeons came in by the kitchen window, and afterwards the turtle-doves, and at last all the birds beneath the sky, came whirring and crowding in, and alighted amongst the ashes',\n",
       " 'And the pigeons nodded with their heads and began pick, pick, pick, pick, and the rest began also pick, pick, pick, pick, and gathered all the good grains into the dish   Hardly had one hour passed before they had finished, and all flew out again   Then the girl took the dish to her step-mother, and was glad, and believed that now she would be allowed to go with them to the festival',\n",
       " 'But the step-mother said, no, cinderella, you have no clothes and you can not dance   You would only be laughed at   And as cinderella wept at this, the step-mother said, if you can pick two dishes of lentils out of the ashes for me in one hour, you shall go with us   And she thought to herself, that she most certainly cannot do again   When the step-mother had emptied the two',\n",
       " 'dishes of lentils amongst the ashes, the maiden went through the back-door into the garden and cried, you tame pigeons, you turtle-doves, and all you birds beneath the sky, come and help me to pick      the good into the pot,      the bad into the crop Then two white pigeons came in by the kitchen-window, and afterwards the turtle-doves, and at length all the birds beneath the',\n",
       " 'sky, came whirring and crowding in, and alighted amongst the ashes   And the doves nodded with their heads and began pick, pick, pick, pick, and the others began also pick, pick, pick, pick, and gathered all the good seeds into the dishes, and before half an hour was over they had already finished, and all flew out again Then the maiden was delighted, and believed that she might now go with them to the wedding',\n",
       " \"  But the step-mother said, all this will not help   You cannot go with us, for you have no clothes and can not dance   We should be ashamed of you   On this she turned her back on cinderella, and hurried away with her two proud daughters As no one was now at home, cinderella went to her mother's grave beneath the hazel-tree, and cried -      shiver and quiver, little tree,      silver and gold throw down over me\",\n",
       " 'Then the bird threw a gold and silver dress down to her, and slippers embroidered with silk and silver   She put on the dress with all speed, and went to the wedding   Her step-sisters and the step-mother however did not know her, and thought she must be a foreign princess, for she looked so beautiful in the golden dress They never once thought of cinderella, and believed that she was sitting at home in the dirt, picking lentils out of the ashes   The',\n",
       " \"prince approached her, took her by the hand and danced with her He would dance with no other maiden, and never let loose of her hand, and if any one else came to invite her, he said, this is my partner She danced till it was evening, and then she wanted to go home But the king's son said, I will go with you and bear you company, for he wished to see to whom the beautiful maiden belonged She escaped from him, however, and sprang into the\",\n",
       " \"pigeon-house   The king's son waited until her father came, and then he told him that the unknown maiden had leapt into the pigeon-house   The old man thought, can it be cinderella   And they had to bring him an axe and a pickaxe that he might hew the pigeon-house to pieces, but no one was inside it   And when they got home cinderella lay in her dirty clothes among the ashes, and\",\n",
       " 'a dim little oil-lamp was burning on the mantle-piece, for cinderella had jumped quickly down from the back of the pigeon-house and had run to the little hazel-tree, and there she had taken off her beautiful clothes and laid them on the grave, and the bird had taken them away again, and then she had seated herself in the kitchen amongst the ashes in her grey gown Next day when the festival began afresh, and her parents and',\n",
       " \"the step-sisters had gone once more, cinderella went to the hazel-tree and said -      shiver and quiver, my little tree,      silver and gold throw down over me Then the bird threw down a much more beautiful dress than on the preceding day  And when cinderella appeared at the wedding in this dress, every one was astonished at her beauty   The king's son had waited until she came, and instantly took her by the hand\",\n",
       " \"and danced with no one but her   When others came and invited her, he said, this is my partner   When evening came she wished to leave, and the king's son followed her and wanted to see into which house she went   But she sprang away from him, and into the garden behind the house   Therein stood a beautiful tall tree on which hung the most magnificent pears   She clambered so nimbly\",\n",
       " \"between the branches like a squirrel that the king's son did not know where she was gone   He waited until her father came, and said to him, the unknown maiden has escaped from me, and I believe she has climbed up the pear-tree   The father thought, can it be cinderella   And had an axe brought and cut the tree down, but no one was on it   And when they got into the\",\n",
       " \"kitchen, cinderella lay there among the ashes, as usual, for she had jumped down on the other side of the tree, had taken the beautiful dress to the bird on the little hazel-tree, and put on her grey gown On the third day, when the parents and sisters had gone away, cinderella went once more to her mother's grave and said to the little tree -      shiver and quiver, my little tree,      silver and gold throw down over me\",\n",
       " \"And now the bird threw down to her a dress which was more splendid and magnificent than any she had yet had, and the slippers were golden   And when she went to the festival in the dress, no one knew how to speak for astonishment   The king's son danced with her only, and if any one invited her to dance, he said this is my partner When evening came, cinderella wished to leave, and the king's\",\n",
       " \"son was anxious to go with her, but she escaped from him so quickly that he could not follow her   The king's son, however, had employed a ruse, and had caused the whole staircase to be smeared with pitch, and there, when she ran down, had the maiden's left slipper remained stuck   The king's son picked it up, and it was small and dainty, and all golden   Next morning, he went with it to\",\n",
       " 'the father, and said to him, no one shall be my wife but she whose foot this golden slipper fits   Then were the two sisters glad, for they had pretty feet   The eldest went with the shoe into her room and wanted to try it on, and her mother stood by   But she could not get her big toe into it, and the shoe was too small for her   Then her mother gave her a knife and said, cut the toe off,',\n",
       " \"when you are queen you will have no more need to go on foot   The maiden cut the toe off, forced the foot into the shoe, swallowed the pain, and went out to the king's son   Then he took her on his his horse as his bride and rode away with her   They were obliged, however, to pass the grave, and there, on the hazel-tree, sat the two pigeons and cried -      turn and peep, turn and peep,\",\n",
       " \"     there's blood within the shoe,      the shoe it is too small for her,      the true bride waits for you Then he looked at her foot and saw how the blood was trickling from it   He turned his horse round and took the false bride home again, and said she was not the true one, and that the other sister was to put the shoe on   Then this one went into her chamber and got her toes safely into the shoe, but her heel was too large\",\n",
       " \"  So her mother gave her a knife and said,  cut a bit off your heel, when you are queen you will have no more need to go on foot   The maiden cut a bit off her heel, forced her foot into the shoe, swallowed the pain, and went out to the king's son   He took her on his horse as his bride, and rode away with her, but when they passed by the hazel-tree, the two pigeons sat on it and cried -\",\n",
       " \"     turn and peep, turn and peep,      there's blood within the shoe,      the shoe it is too small for her,      the true bride waits for you He looked down at her foot and saw how the blood was running out of her shoe, and how it had stained her white stocking quite red   Then he turned his horse and took the false bride home again   This also is not the right one, said he, have you no other daughter\",\n",
       " \"  No, said the man, there is still a little stunted kitchen-wench which my late wife left behind her, but she cannot possibly be the bride   The king's son said he was to send her up to him, but the mother answered, oh, no, she is much too dirty, she cannot show herself   But he absolutely insisted on it, and cinderella had to be called   She first washed her hands and face clean, and then went and bowed down\",\n",
       " \"before the king's son, who gave her the golden shoe   Then she seated herself on a stool, drew her foot out of the heavy wooden shoe, and put it into the slipper, which fitted like a glove   And when she rose up and the king's son looked at her face he recognized the beautiful maiden who had danced with him and cried, that is the true bride   The step-mother and the two sisters were horrified and became pale with rage, he,\",\n",
       " \"however, took cinderella on his horse and rode away with her   As they passed by the hazel-tree, the two white doves cried -      turn and peep, turn and peep,      no blood is in the shoe,      the shoe is not too small for her,      the true bride rides with you, and when they had cried that, the two came flying down and placed themselves on cinderella's shoulders, one on the right,\",\n",
       " \"the other on the left, and remained sitting there When the wedding with the king's son was to be celebrated, the two false sisters came and wanted to get into favor with cinderella and share her good fortune   When the betrothed couple went to church, the elder was at the right side and the younger at the left, and the pigeons pecked out one eye from each of them   Afterwards as they came back the elder was at\",\n",
       " 'the left, and the younger at the right, and then the pigeons pecked out the other eye from each   And thus, for their wickedness and falsehood, they were punished with blindness all their days',\n",
       " 'This story recounts the tragic tale of Cinderella, a young girl who loses her mother and is subjected to cruel treatment by her stepmother and stepsisters. Despite her misfortune, Cinderella remains kind and pious, seeking solace at her mother\\'s grave. She possesses a magical connection to a little hazel tree, which allows her to change into beautiful clothes and attend a fair with her family. However, her transformation is temporary, and she returns to her life of hardship in the kitchen, earning the name \"Cinderella\" due to her ash-covered appearance.',\n",
       " 'RetryError[<Future at 0x1d6ab0fde80 state=finished raised ValueError>]',\n",
       " \"This documentation tells the story of Cinderella. Cinderella's father returns from a trip and brings gifts for his step-daughters but only a hazel twig for Cinderella. Cinderella plants the twig on her mother's grave and it grows into a magical tree. When the king's son is holding a wedding, Cinderella's step-sisters refuse to let her go because she has no nice clothes. Despite their obstacles, Cinderella makes a wish at the magical tree and is gifted with a beautiful dress. She attends the wedding and the king's son instantly falls in love with her. The step-sisters, hoping to share in Cinderella's fortune, attend the wedding but are punished for their cruelty when pigeons peck out their eyes.\",\n",
       " \"This documentation appears to be snippets from a Cinderella story. It details Cinderella's interactions with a magical bird that grants her wishes. The bird provides her with beautiful dresses and slippers, allowing her to attend a three-day festival where the king's son is looking for a bride. Cinderella's step-family doesn't recognize her and believe she's a foreign princess. The story also describes the king's son's attempts to find Cinderella, first by searching a pigeon-house and then by cutting down a pear tree. Finally, the king's son insists on seeing Cinderella, despite her step-mother's initial objections.\",\n",
       " 'This documentation tells the story of a young maiden who was tasked with separating lentils from ashes.  She called upon pigeons and turtle-doves to help her, and they swiftly sorted the lentils.  This success allowed the maiden to attend a festival or wedding.  In contrast, a step-mother and her daughter were punished for their deceit and wickedness by being blinded.',\n",
       " 'The documentation describes a scene from a fairy tale, likely Cinderella. A prince is searching for the woman whose foot fits a golden slipper.  Two of his sisters try to deceive him by cutting off their toes and heel to fit the shoe.  However, blood betrays them, and the prince realizes they are not the true bride.  Finally, Cinderella, the true bride, tries on the slipper and it fits perfectly. Two white doves confirm her identity and the prince rides away with Cinderella.',\n",
       " \"This documentation presents variations of the Cinderella story. It details Cinderella's hardships with her stepmother and stepsisters, her connection to a magical hazel tree granting her beautiful clothes, and her attendance at a royal event where she meets the king's son. The stories also highlight Cinderella's kindness, the punishment of her stepfamily for their cruelty, and the use of magical elements like birds and a golden slipper to identify the true bride.  There are mentions of Cinderella's wish-granting tree, magical birds, and the prince's search for the woman who fits the golden slipper.\"]"
      ]
     },
     "execution_count": 15,
     "metadata": {},
     "output_type": "execute_result"
    }
   ],
   "execution_count": 15
  },
  {
   "metadata": {},
   "cell_type": "markdown",
   "source": [
    "## Vector Store Connection and Document Storage\n",
    "\n",
    "In this step, we connect the Indox application to the vector store and store the processed documents.\n"
   ],
   "id": "1fc4947b39af7a2b"
  },
  {
   "metadata": {
    "ExecuteTime": {
     "end_time": "2024-06-30T14:38:15.146212Z",
     "start_time": "2024-06-30T14:38:14.853347Z"
    }
   },
   "cell_type": "code",
   "source": [
    "from indox.vector_stores import Chroma\n",
    "db = Chroma(collection_name=\"sample\",embedding=embed)"
   ],
   "id": "e759f83f18e54ad0",
   "outputs": [
    {
     "name": "stderr",
     "output_type": "stream",
     "text": [
      "2024-06-30 18:08:15,026 INFO:Anonymized telemetry enabled. See                     https://docs.trychroma.com/telemetry for more information.\n"
     ]
    }
   ],
   "execution_count": 6
  },
  {
   "metadata": {
    "ExecuteTime": {
     "end_time": "2024-06-30T14:38:15.926353Z",
     "start_time": "2024-06-30T14:38:15.919425Z"
    }
   },
   "cell_type": "code",
   "source": "db.add(docs=docs)",
   "id": "b0b38ae389dac2cf",
   "outputs": [
    {
     "name": "stderr",
     "output_type": "stream",
     "text": [
      "2024-06-30 18:08:15,920 INFO:Attempting to connect to the vector store database\n",
      "2024-06-30 18:08:15,921 INFO:Connection to the vector store database established successfully\n"
     ]
    },
    {
     "data": {
      "text/plain": [
       "<indox.vector_stores.Chroma.ChromaVectorStore at 0x1d69c598890>"
      ]
     },
     "execution_count": 7,
     "metadata": {},
     "output_type": "execute_result"
    }
   ],
   "execution_count": 7
  },
  {
   "metadata": {},
   "cell_type": "markdown",
   "source": [
    "## Querying and Interpreting the Response\n",
    "\n",
    "In this step, we query the Indox application with a specific question and use the QA model to get the response. \n",
    "\n"
   ],
   "id": "406ea4c69d522590"
  },
  {
   "metadata": {
    "ExecuteTime": {
     "end_time": "2024-06-30T14:38:22.417573Z",
     "start_time": "2024-06-30T14:38:22.414798Z"
    }
   },
   "cell_type": "code",
   "source": "query = \"How cinderella reach her happy ending?\"",
   "id": "803f7d211e83d807",
   "outputs": [],
   "execution_count": 9
  },
  {
   "metadata": {
    "ExecuteTime": {
     "end_time": "2024-06-30T14:38:22.421544Z",
     "start_time": "2024-06-30T14:38:22.418578Z"
    }
   },
   "cell_type": "code",
   "source": "retriever = indox.QuestionAnswer(vector_database=db,llm=google_qa,top_k=5)",
   "id": "978d7cea54f08f19",
   "outputs": [],
   "execution_count": 10
  },
  {
   "metadata": {},
   "cell_type": "code",
   "source": "answer = retriever.invoke(query=query)",
   "id": "b7a6fd77009af7a6",
   "outputs": [],
   "execution_count": null
  },
  {
   "metadata": {
    "ExecuteTime": {
     "end_time": "2024-06-30T14:38:43.120287Z",
     "start_time": "2024-06-30T14:38:43.115576Z"
    }
   },
   "cell_type": "code",
   "source": "answer",
   "id": "bd99cb2b27580ebb",
   "outputs": [
    {
     "data": {
      "text/plain": [
       "\"Cinderella reaches her happy ending through a combination of kindness, resourcefulness, and a little bit of magic.  She uses the hazel-tree gifted by her father to communicate with a helpful bird that grants her wishes.  This bird provides her with beautiful dresses and golden slippers, allowing her to attend the king's ball and capture the prince's attention.  Despite her step-family's attempts to sabotage her, Cinderella's kindness and good nature shine through, and the prince, recognizing her true beauty, seeks her out.  The golden slipper, a symbol of her grace and charm, ultimately leads the prince to her, proving that despite adversity, true love and kindness prevail.\""
      ]
     },
     "execution_count": 12,
     "metadata": {},
     "output_type": "execute_result"
    }
   ],
   "execution_count": 12
  },
  {
   "metadata": {
    "ExecuteTime": {
     "end_time": "2024-06-30T14:34:29.902514Z",
     "start_time": "2024-06-30T14:34:29.897796Z"
    }
   },
   "cell_type": "code",
   "source": "retriever.context",
   "id": "40f2b50b5cb304ca",
   "outputs": [
    {
     "data": {
      "text/plain": [
       "[\"Beautiful dresses, said one, pearls and jewels, said the second. And you, cinderella, said he, what will you have.  Father break off for me the first branch which knocks against your hat on your way home.  So he bought beautiful dresses, pearls and jewels for his two step-daughters, and on his way home, as he was riding through a green thicket, a hazel twig brushed against him and knocked off his hat.  Then he broke off the branch and took it with him.  When he reached home he gave his step-daughters the things which they had wished for, and to cinderella he gave the branch from the hazel-bush.  Cinderella thanked him, went to her mother's grave and planted the branch on it, and wept so much that the tears fell down on it and watered it.  And it grew and became a handsome tree. Thrice a day cinderella went and sat beneath it, and wept and prayed, and a little white bird always came on the tree, and if cinderella expressed a wish, the bird threw down to her what she had wished for. It happened, however, that the king gave orders for a festival which was to last three days, and to which all the beautiful young girls in the country were invited, in order that his son might choose himself a bride.  When the two step-sisters heard that they too were to appear among the number, they were delighted, called cinderella and said, comb our hair for us, brush our shoes and fasten our buckles, for we are going to the wedding at the king's palace. Cinderella obeyed, but wept, because she too would have liked to go with them to the dance, and begged her step-mother to allow her to do so.  You go, cinderella, said she, covered in dust and dirt as you are, and would go to the festival.  You have no clothes and shoes, and yet would dance.  As, however, cinderella went on\",\n",
       " \"said to him, the unknown maiden has escaped from me, and I believe she has climbed up the pear-tree.  The father thought, can it be cinderella.  And had an axe brought and cut the tree down, but no one was on it.  And when they got into the kitchen, cinderella lay there among the ashes, as usual, for she had jumped down on the other side of the tree, had taken the beautiful dress to the bird on the little hazel-tree, and put on her grey gown. On the third day, when the parents and sisters had gone away, cinderella went once more to her mother's grave and said to the little tree -      shiver and quiver, my little tree,      silver and gold throw down over me. And now the bird threw down to her a dress which was more splendid and magnificent than any she had yet had, and the slippers were golden.  And when she went to the festival in the dress, no one knew how to speak for astonishment.  The king's son danced with her only, and if any one invited her to dance, he said this is my partner. When evening came, cinderella wished to leave, and the king's son was anxious to go with her, but she escaped from him so quickly that he could not follow her.  The king's son, however, had employed a ruse, and had caused the whole staircase to be smeared with pitch, and there, when she ran down, had the maiden's left slipper remained stuck.  The king's son picked it up, and it was small and dainty, and all golden.  Next morning, he went with it to the father, and said to him, no one shall be my wife but she whose foot this golden slipper fits.  Then were the two sisters glad, for they had pretty feet.  The eldest went with the shoe into her room and wanted to try it on, and her mother stood by.  But she\",\n",
       " \"afterwards the turtle-doves, and at length all the birds beneath the sky, came whirring and crowding in, and alighted amongst the ashes.  And the doves nodded with their heads and began pick, pick, pick, pick, and the others began also pick, pick, pick, pick, and gathered all the good seeds into the dishes, and before half an hour was over they had already finished, and all flew out again. Then the maiden was delighted, and believed that she might now go with them to the wedding.  But the step-mother said, all this will not help.  You cannot go with us, for you have no clothes and can not dance.  We should be ashamed of you.  On this she turned her back on cinderella, and hurried away with her two proud daughters. As no one was now at home, cinderella went to her mother's grave beneath the hazel-tree, and cried -      shiver and quiver, little tree,      silver and gold throw down over me. Then the bird threw a gold and silver dress down to her, and slippers embroidered with silk and silver.  She put on the dress with all speed, and went to the wedding.  Her step-sisters and the step-mother however did not know her, and thought she must be a foreign princess, for she looked so beautiful in the golden dress. They never once thought of cinderella, and believed that she was sitting at home in the dirt, picking lentils out of the ashes.  The prince approached her, took her by the hand and danced with her. He would dance with no other maiden, and never let loose of her hand, and if any one else came to invite her, he said, this is my partner. She danced till it was evening, and then she wanted to go home. But the king's son said, I will go with you and bear you company, for he wished to see to whom the beautiful maiden belonged.\",\n",
       " \"The wife of a rich man fell sick, and as she felt that her end was drawing near, she called her only daughter to her bedside and said, dear child, be good and pious, and then the good God will always protect you, and I will look down on you from heaven and be near you.  Thereupon she closed her eyes and departed.  Every day the maiden went out to her mother's grave, and wept, and she remained pious and good.  When winter came the snow spread a white sheet over the grave, and by the time the spring sun had drawn it off again, the man had taken another wife. The woman had brought with her into the house two daughters, who were beautiful and fair of face, but vile and black of heart. Now began a bad time for the poor step-child.  Is the stupid goose to sit in the parlor with us, they said.  He who wants to eat bread must earn it.  Out with the kitchen-wench.  They took her pretty clothes away from her, put an old grey bedgown on her, and gave her wooden shoes.  Just look at the proud princess, how decked out she is, they cried, and laughed, and led her into the kitchen. There she had to do hard work from morning till night, get up before daybreak, carry water, light fires, cook and wash.  Besides this, the sisters did her every imaginable injury - they mocked her and emptied her peas and lentils into the ashes, so that she was forced to sit and pick them out again.  In the evening when she had worked till she was weary she had no bed to go to, but had to sleep by the hearth in the cinders.  And as on that account she always looked dusty and dirty, they called her cinderella. It happened that the father was once going to the fair, and he asked his two step-daughters what he should bring back for them.\",\n",
       " \"She escaped from him, however, and sprang into the pigeon-house.  The king's son waited until her father came, and then he told him that the unknown maiden had leapt into the pigeon-house.  The old man thought, can it be cinderella.  And they had to bring him an axe and a pickaxe that he might hew the pigeon-house to pieces, but no one was inside it.  And when they got home cinderella lay in her dirty clothes among the ashes, and a dim little oil-lamp was burning on the mantle-piece, for cinderella had jumped quickly down from the back of the pigeon-house and had run to the little hazel-tree, and there she had taken off her beautiful clothes and laid them on the grave, and the bird had taken them away again, and then she had seated herself in the kitchen amongst the ashes in her grey gown. Next day when the festival began afresh, and her parents and the step-sisters had gone once more, cinderella went to the hazel-tree and said -      shiver and quiver, my little tree,      silver and gold throw down over me. Then the bird threw down a much more beautiful dress than on the preceding day. And when cinderella appeared at the wedding in this dress, every one was astonished at her beauty.  The king's son had waited until she came, and instantly took her by the hand and danced with no one but her.  When others came and invited her, he said, this is my partner.  When evening came she wished to leave, and the king's son followed her and wanted to see into which house she went.  But she sprang away from him, and into the garden behind the house.  Therein stood a beautiful tall tree on which hung the most magnificent pears.  She clambered so nimbly between the branches like a squirrel that the king's son did not know where she was gone.  He waited until her father came, and\"]"
      ]
     },
     "execution_count": 15,
     "metadata": {},
     "output_type": "execute_result"
    }
   ],
   "execution_count": 15
  }
 ],
 "metadata": {
  "kernelspec": {
   "display_name": "Python 3",
   "language": "python",
   "name": "python3"
  },
  "language_info": {
   "codemirror_mode": {
    "name": "ipython",
    "version": 2
   },
   "file_extension": ".py",
   "mimetype": "text/x-python",
   "name": "python",
   "nbconvert_exporter": "python",
   "pygments_lexer": "ipython2",
   "version": "2.7.6"
  }
 },
 "nbformat": 4,
 "nbformat_minor": 5
}
