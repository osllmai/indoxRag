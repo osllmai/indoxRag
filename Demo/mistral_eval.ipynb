{
 "cells": [
  {
   "cell_type": "markdown",
   "source": [
    "# Mistral as a Question Answering \n",
    "\n",
    "In this notebook, we will demonstrate how to securely handle `inDox` as system for question answering system with open source models which are available on internet like `Mistral`. so firstly you should buil environment variables and API keys in Python using the `dotenv` library. Environment variables are a crucial part of configuring your applications, especially when dealing with sensitive information like API keys.\n",
    "\n",
    "::: {.callout-note}\n",
    "Because we are using **HuggingFace** models you need to define your `HUGGINGFACE_API_KEY` in `.env` file. This allows us to keep our API keys and other sensitive information out of our codebase, enhancing security and maintainability.\n",
    ":::\n",
    "\n",
    "Let's start by importing the required libraries and loading our environment variables.\n",
    "\n",
    "[![Open In Colab](https://colab.research.google.com/assets/colab-badge.svg)](https://colab.research.google.com/github/osllmai/inDox/blob/master/Demo/mistral_eval.ipynb)"
   ],
   "metadata": {
    "collapsed": false
   },
   "id": "f1497e4a"
  },
  {
   "metadata": {},
   "cell_type": "code",
   "outputs": [],
   "execution_count": null,
   "source": [
    "!pip install indox\n",
    "!pip install chromadb\n",
    "!pip install mistralai"
   ],
   "id": "8073da758a7e547c"
  },
  {
   "metadata": {},
   "cell_type": "markdown",
   "source": [
    "## Setting Up the Python Environment\n",
    "\n",
    "If you are running this project in your local IDE, please create a Python environment to ensure all dependencies are correctly managed. You can follow the steps below to set up a virtual environment named `indox`:\n",
    "\n",
    "### Windows\n",
    "\n",
    "1. **Create the virtual environment:**\n",
    "```bash\n",
    "python -m venv indox\n",
    "```\n",
    "2. **Activate the virtual environment:**\n",
    "```bash\n",
    "indox_judge\\Scripts\\activate\n",
    "```\n",
    "\n",
    "### macOS/Linux\n",
    "\n",
    "1. **Create the virtual environment:**\n",
    "   ```bash\n",
    "   python3 -m venv indox\n",
    "```\n",
    "\n",
    "2. **Activate the virtual environment:**\n",
    "    ```bash\n",
    "   source indox/bin/activate\n",
    "```\n",
    "### Install Dependencies\n",
    "\n",
    "Once the virtual environment is activated, install the required dependencies by running:\n",
    "\n",
    "```bash\n",
    "pip install -r requirements.txt\n",
    "```\n"
   ],
   "id": "9eb80ebfce702307"
  },
  {
   "cell_type": "code",
   "id": "initial_id",
   "metadata": {
    "collapsed": true,
    "ExecuteTime": {
     "end_time": "2024-07-09T16:06:31.621766Z",
     "start_time": "2024-07-09T16:06:31.616742Z"
    }
   },
   "source": [
    "import os\n",
    "from dotenv import load_dotenv\n",
    "\n",
    "load_dotenv()\n",
    "HUGGINGFACE_API_KEY = os.getenv('HUGGINGFACE_API_KEY')\n",
    "MISTRAL_API_KEY = os.getenv('MISTRAL_API_KEY')"
   ],
   "outputs": [],
   "execution_count": 14
  },
  {
   "cell_type": "markdown",
   "id": "f0c6ff7e",
   "metadata": {},
   "source": [
    "\n",
    "### Import Essential Libraries \n",
    "Then, we import essential libraries for our `Indox` question answering system:\n",
    "- `IndoxRetrievalAugmentation`: Enhances the retrieval process for better QA performance.\n",
    "- `MistralQA`: A powerful QA model from Indox, built on top of the Hugging Face model.\n",
    "- `HuggingFaceEmbedding`: Utilizes Hugging Face embeddings for improved semantic understanding.\n",
    "- `UnstructuredLoadAndSplit`: A utility for loading and splitting unstructured data."
   ]
  },
  {
   "cell_type": "code",
   "id": "8b9470496cd9a78d",
   "metadata": {
    "ExecuteTime": {
     "end_time": "2024-07-09T16:05:07.662166Z",
     "start_time": "2024-07-09T16:04:58.395977Z"
    }
   },
   "source": [
    "from indox import IndoxRetrievalAugmentation\n",
    "from indox.llms import Mistral\n",
    "from indox.embeddings import HuggingFaceEmbedding\n",
    "from indox.data_loader_splitter import UnstructuredLoadAndSplit"
   ],
   "outputs": [],
   "execution_count": 2
  },
  {
   "cell_type": "markdown",
   "id": "5f5abc55",
   "metadata": {},
   "source": [
    "### Building the Indox System and Initializing Models\n",
    "\n",
    "Next, we will build our `inDox` system and initialize the Mistral question answering model along with the embedding model. This setup will allow us to leverage the advanced capabilities of Indox for our question answering tasks.\n"
   ]
  },
  {
   "cell_type": "code",
   "id": "c279c0844b08ffc2",
   "metadata": {
    "ExecuteTime": {
     "end_time": "2024-07-09T16:07:29.368627Z",
     "start_time": "2024-07-09T16:07:28.101675Z"
    }
   },
   "source": [
    "indox = IndoxRetrievalAugmentation()\n",
    "mistral_qa = Mistral(api_key=MISTRAL_API_KEY)\n",
    "embed = HuggingFaceEmbedding(model=\"multi-qa-mpnet-base-cos-v1\")"
   ],
   "outputs": [
    {
     "name": "stdout",
     "output_type": "stream",
     "text": [
      "\u001B[32mINFO\u001B[0m: \u001B[1mIndoxRetrievalAugmentation initialized\u001B[0m\n",
      "\n",
      "            ██  ███    ██  ██████   ██████  ██       ██\n",
      "            ██  ████   ██  ██   ██ ██    ██   ██  ██\n",
      "            ██  ██ ██  ██  ██   ██ ██    ██     ██\n",
      "            ██  ██  ██ ██  ██   ██ ██    ██   ██   ██\n",
      "            ██  ██  █████  ██████   ██████  ██       ██\n",
      "            \n",
      "\u001B[32mINFO\u001B[0m: \u001B[1mInitializing MistralAI with model: mistral-medium-latest\u001B[0m\n",
      "\u001B[32mINFO\u001B[0m: \u001B[1mMistralAI initialized successfully\u001B[0m\n"
     ]
    },
    {
     "name": "stderr",
     "output_type": "stream",
     "text": [
      "2024-07-09 19:37:28,314 INFO:Load pretrained SentenceTransformer: multi-qa-mpnet-base-cos-v1\n",
      "2024-07-09 19:37:29,358 INFO:Use pytorch device: cpu\n"
     ]
    },
    {
     "name": "stdout",
     "output_type": "stream",
     "text": [
      "\u001B[32mINFO\u001B[0m: \u001B[1mInitialized HuggingFace embeddings with model: multi-qa-mpnet-base-cos-v1\u001B[0m\n"
     ]
    }
   ],
   "execution_count": 18
  },
  {
   "cell_type": "markdown",
   "id": "5d054c3f",
   "metadata": {},
   "source": [
    "### Setting Up Reference Directory and File Path\n",
    "\n",
    "To demonstrate the capabilities of our Indox question answering system, we will use a sample directory. This directory will contain our reference data, which we will use for testing and evaluation.\n",
    "\n",
    "First, we specify the path to our sample file. In this case, we are using a file named `sample.txt` located in our working directory. This file will serve as our reference data for the subsequent steps.\n",
    "\n",
    "Let's define the file path for our reference data."
   ]
  },
  {
   "metadata": {},
   "cell_type": "code",
   "outputs": [],
   "execution_count": null,
   "source": "!wget https://raw.githubusercontent.com/osllmai/inDox/master/Demo/sample.txt",
   "id": "1fdfc1e6fca8098a"
  },
  {
   "cell_type": "code",
   "id": "7df145b7b6f380df",
   "metadata": {
    "ExecuteTime": {
     "end_time": "2024-07-09T16:05:26.556043Z",
     "start_time": "2024-07-09T16:05:26.552540Z"
    }
   },
   "source": [
    "file_path = \"sample.txt\""
   ],
   "outputs": [],
   "execution_count": 4
  },
  {
   "cell_type": "markdown",
   "id": "570d3250",
   "metadata": {},
   "source": [
    "### Chunking Reference Data with UnstructuredLoadAndSplit\n",
    "\n",
    "To effectively utilize our reference data, we need to process and chunk it into manageable parts. This ensures that our question answering system can efficiently handle and retrieve relevant information.\n",
    "\n",
    "We use the `UnstructuredLoadAndSplit` utility for this task. This tool allows us to load the unstructured data from our specified file and split it into smaller chunks. This process enhances the performance of our retrieval and QA models by making the data more accessible and easier to process.\n",
    "\n",
    "In this step, we define the file path for our reference data and use `UnstructuredLoadAndSplit` to chunk the data with a maximum chunk size of 400 characters.\n",
    "\n",
    "Let's proceed with chunking our reference data.\n"
   ]
  },
  {
   "cell_type": "code",
   "id": "adb521f8180b01f0",
   "metadata": {
    "ExecuteTime": {
     "end_time": "2024-07-09T16:05:34.104943Z",
     "start_time": "2024-07-09T16:05:29.689919Z"
    }
   },
   "source": [
    "load_splitter = UnstructuredLoadAndSplit(file_path=file_path,max_chunk_size=400)\n",
    "docs = load_splitter.load_and_chunk()"
   ],
   "outputs": [
    {
     "name": "stdout",
     "output_type": "stream",
     "text": [
      "\u001B[32mINFO\u001B[0m: \u001B[1mUnstructuredLoadAndSplit initialized successfully\u001B[0m\n",
      "\u001B[32mINFO\u001B[0m: \u001B[1mGetting all documents\u001B[0m\n",
      "\u001B[32mINFO\u001B[0m: \u001B[1mStarting processing\u001B[0m\n",
      "\u001B[32mINFO\u001B[0m: \u001B[1mUsing title-based chunking\u001B[0m\n",
      "\u001B[32mINFO\u001B[0m: \u001B[1mCompleted chunking process\u001B[0m\n",
      "\u001B[32mINFO\u001B[0m: \u001B[1mSuccessfully obtained all documents\u001B[0m\n"
     ]
    }
   ],
   "execution_count": 5
  },
  {
   "cell_type": "markdown",
   "id": "f4354907",
   "metadata": {},
   "source": [
    "### Connecting Embedding Model to Indox\n",
    "\n",
    "With our reference data chunked and ready, the next step is to connect our embedding model to the Indox system. This connection enables the system to leverage the embeddings for better semantic understanding and retrieval performance.\n",
    "\n",
    "Let's connect the embedding model to Indox.\n"
   ]
  },
  {
   "metadata": {
    "ExecuteTime": {
     "end_time": "2024-07-09T16:05:34.916636Z",
     "start_time": "2024-07-09T16:05:34.105454Z"
    }
   },
   "cell_type": "code",
   "source": [
    "from indox.vector_stores import Chroma\n",
    "db = Chroma(collection_name=\"sample\",embedding_function=embed)"
   ],
   "id": "6b1e75a1c10d4ad5",
   "outputs": [
    {
     "name": "stderr",
     "output_type": "stream",
     "text": [
      "2024-07-09 19:35:34,772 INFO:Anonymized telemetry enabled. See                     https://docs.trychroma.com/telemetry for more information.\n"
     ]
    }
   ],
   "execution_count": 6
  },
  {
   "cell_type": "markdown",
   "id": "4c2f09de",
   "metadata": {},
   "source": [
    "### Storing Data in the Vector Store\n",
    "\n",
    "After connecting our embedding model to the Indox system, the next step is to store our chunked reference data in the vector store. This process ensures that our data is indexed and readily available for retrieval during the question-answering process.\n",
    "\n",
    "Let's proceed with storing the data in the vector store.\n"
   ]
  },
  {
   "cell_type": "code",
   "id": "2f76a288442d0957",
   "metadata": {
    "ExecuteTime": {
     "end_time": "2024-07-09T16:05:48.994423Z",
     "start_time": "2024-07-09T16:05:44.344341Z"
    }
   },
   "source": "db.add(docs=docs)",
   "outputs": [
    {
     "name": "stdout",
     "output_type": "stream",
     "text": [
      "\u001B[32mINFO\u001B[0m: \u001B[1mStoring documents in the vector store\u001B[0m\n",
      "\u001B[32mINFO\u001B[0m: \u001B[1mDocument added successfully to the vector store.\u001B[0m\n",
      "\u001B[32mINFO\u001B[0m: \u001B[1mDocuments stored successfully\u001B[0m\n"
     ]
    },
    {
     "data": {
      "text/plain": [
       "<indox.vector_stores.Chroma.ChromaVectorStore at 0x1a933e0ac30>"
      ]
     },
     "execution_count": 9,
     "metadata": {},
     "output_type": "execute_result"
    }
   ],
   "execution_count": 9
  },
  {
   "cell_type": "markdown",
   "id": "fa9f0662",
   "metadata": {},
   "source": [
    "## Testing the RAG System with Indox\n",
    "With our Retrieval-Augmented Generation (RAG) system built using Indox, we are now ready to test it with a sample question. This test will demonstrate how effectively our system can retrieve and generate accurate answers based on the reference data stored in the vector store.\n",
    "\n",
    "We'll use a sample query to test our system:\n",
    "- **Query**: \"How did Cinderella reach her happy ending?\"\n",
    "\n",
    "This question will be processed by our Indox system to retrieve relevant information and generate an appropriate response.\n",
    "\n",
    "Let's test our RAG system with the sample question."
   ]
  },
  {
   "cell_type": "code",
   "id": "3cfe4418fe997c5e",
   "metadata": {
    "ExecuteTime": {
     "end_time": "2024-07-09T16:05:48.998342Z",
     "start_time": "2024-07-09T16:05:48.995429Z"
    }
   },
   "source": [
    "query = \"How cinderella reach her happy ending?\""
   ],
   "outputs": [],
   "execution_count": 10
  },
  {
   "cell_type": "markdown",
   "id": "59cda2e7",
   "metadata": {},
   "source": [
    "Now that our Retrieval-Augmented Generation (RAG) system with Indox is fully set up, we can test it with a sample question. We'll use the `answer_question` submethod to get a response from the system.\n",
    "\n",
    "::: {.callout-note}\n",
    "\n",
    "The `answer_question` method processes the query using the connected QA model and retrieves relevant information from the vector store. It returns a list where:\n",
    "- The first index contains the answer.\n",
    "- The second index contains the contexts and their respective scores.\n",
    "\n",
    ":::\n",
    "\n",
    "We'll pass this query to the `answer_question` method and print the response.\n"
   ]
  },
  {
   "cell_type": "code",
   "id": "2ca61790103f1eec",
   "metadata": {
    "ExecuteTime": {
     "end_time": "2024-07-09T16:07:35.057011Z",
     "start_time": "2024-07-09T16:07:35.052005Z"
    }
   },
   "source": "retriever = indox.QuestionAnswer(vector_database=db,llm=mistral_qa,top_k=5)",
   "outputs": [],
   "execution_count": 19
  },
  {
   "cell_type": "markdown",
   "id": "6d1bc961",
   "metadata": {},
   "source": [
    "**Answer:**"
   ]
  },
  {
   "cell_type": "code",
   "id": "acea9ac8b16dcd11",
   "metadata": {
    "ExecuteTime": {
     "end_time": "2024-07-09T16:07:41.409926Z",
     "start_time": "2024-07-09T16:07:36.475998Z"
    }
   },
   "source": "answer = retriever.invoke(query=query)",
   "outputs": [
    {
     "name": "stdout",
     "output_type": "stream",
     "text": [
      "\u001B[32mINFO\u001B[0m: \u001B[1mRetrieving context and scores from the vector database\u001B[0m\n",
      "\u001B[32mINFO\u001B[0m: \u001B[1mGenerating answer without document relevancy filter\u001B[0m\n",
      "\u001B[32mINFO\u001B[0m: \u001B[1mAnswering question\u001B[0m\n",
      "\u001B[32mINFO\u001B[0m: \u001B[1mAttempting to generate an answer for the question\u001B[0m\n"
     ]
    },
    {
     "name": "stderr",
     "output_type": "stream",
     "text": [
      "2024-07-09 19:37:41,404 INFO:HTTP Request: POST https://api.mistral.ai/v1/chat/completions \"HTTP/1.1 200 OK\"\n"
     ]
    },
    {
     "name": "stdout",
     "output_type": "stream",
     "text": [
      "\u001B[32mINFO\u001B[0m: \u001B[1mQuery answered successfully\u001B[0m\n"
     ]
    }
   ],
   "execution_count": 20
  },
  {
   "metadata": {
    "ExecuteTime": {
     "end_time": "2024-07-09T16:07:43.530573Z",
     "start_time": "2024-07-09T16:07:43.519525Z"
    }
   },
   "cell_type": "code",
   "source": "answer",
   "id": "382a8c07102a805",
   "outputs": [
    {
     "data": {
      "text/plain": [
       "\"Based on the context provided, it is not explicitly stated how Cinderella reaches her happy ending. However, it can be inferred that she is invited to a festival by the king, where his son is looking for a bride. It is mentioned that Cinderella's stepsisters are also invited to the festival, but there is no mention of Cinderella attending it in the provided text. Additionally, there is a mention of a bird granting Cinderella's wish, and a scene where her father cuts down a pear tree looking for an unknown maiden who is believed to be Cinderella. However, without further context, it is impossible to determine how Cinderella ultimately reaches her happy ending.\""
      ]
     },
     "execution_count": 21,
     "metadata": {},
     "output_type": "execute_result"
    }
   ],
   "execution_count": 21
  },
  {
   "cell_type": "markdown",
   "id": "6f585d9e",
   "metadata": {},
   "source": "**Contexts**"
  },
  {
   "cell_type": "code",
   "id": "63067c6d5ca0786a",
   "metadata": {
    "ExecuteTime": {
     "end_time": "2024-07-09T16:07:46.010720Z",
     "start_time": "2024-07-09T16:07:46.005255Z"
    }
   },
   "source": [
    "context = retriever.context\n",
    "context"
   ],
   "outputs": [
    {
     "data": {
      "text/plain": [
       "['by the hearth in the cinders. And as on that account she alwayslooked dusty and dirty, they called her cinderella.It happened that the father was once going to the fair, and heasked his two step-daughters what he should bring back for them.Beautiful dresses, said one, pearls and jewels, said the second.And you, cinderella, said he, what will you have. Father',\n",
       " 'by the hearth in the cinders. And as on that account she alwayslooked dusty and dirty, they called her cinderella.It happened that the father was once going to the fair, and heasked his two step-daughters what he should bring back for them.Beautiful dresses, said one, pearls and jewels, said the second.And you, cinderella, said he, what will you have. Father',\n",
       " 'cinderella expressed a wish, the bird threw down to her what shehad wished for.It happened, however, that the king gave orders for a festivalwhich was to last three days, and to which all the beautiful younggirls in the country were invited, in order that his son might choosehimself a bride. When the two step-sisters heard that they too were',\n",
       " 'cinderella expressed a wish, the bird threw down to her what shehad wished for.It happened, however, that the king gave orders for a festivalwhich was to last three days, and to which all the beautiful younggirls in the country were invited, in order that his son might choosehimself a bride. When the two step-sisters heard that they too were',\n",
       " 'know where she was gone. He waited until her father came, andsaid to him, the unknown maiden has escaped from me, and Ibelieve she has climbed up the pear-tree. The father thought,can it be cinderella. And had an axe brought and cut thetree down, but no one was on it. And when they got into thekitchen, cinderella lay there among the ashes, as usual, for she']"
      ]
     },
     "execution_count": 22,
     "metadata": {},
     "output_type": "execute_result"
    }
   ],
   "execution_count": 22
  }
 ],
 "metadata": {
  "kernelspec": {
   "display_name": "Python 3 (ipykernel)",
   "language": "python",
   "name": "python3"
  },
  "language_info": {
   "codemirror_mode": {
    "name": "ipython",
    "version": 3
   },
   "file_extension": ".py",
   "mimetype": "text/x-python",
   "name": "python",
   "nbconvert_exporter": "python",
   "pygments_lexer": "ipython3",
   "version": "3.9.12"
  }
 },
 "nbformat": 4,
 "nbformat_minor": 5
}
