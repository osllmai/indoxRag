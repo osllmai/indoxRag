{
 "cells": [
  {
   "cell_type": "markdown",
   "source": "[![Open in Colab](https://colab.research.google.com/assets/colab-badge.svg)](https://colab.research.google.com/github/osllmai/inDox/blob/master/Demo/Question_Answering_with_Graphs(MemGraph).ipynb)",
   "metadata": {
    "id": "7wkkfknzv-ZV"
   },
   "id": "7wkkfknzv-ZV"
  },
  {
   "metadata": {
    "id": "809be59a3be6ccff"
   },
   "cell_type": "markdown",
   "source": [
    "**Overview**:\n",
    "In this notebook, we will demonstrate how to create a Retrieval-Augmented Generation (RAG) system using Memgraph as a graph database, Indox for language model interaction, and Hugging Face's embedding models for vector search. This notebook will walk through the entire pipeline, from gathering data, creating graph documents, storing them in MemGraph, and finally using a question-answering system that retrieves information from the MemGraph.\n",
    "\n",
    "**Key Concepts**:\n",
    "\n",
    "\n",
    "*   **Graph Database (MemGraph)**: We will store knowledge in the form of a graph, with entities as nodes and relationships between entities as edges.\n",
    "*   **Indox API**: Used for leveraging language models (LLMs) to extract entities and relationships and perform question-answering.\n",
    "*   **Vector Search**: Vector-based semantic search that retrieves the most relevant information based on embeddings.\n",
    "*   **Keyword and Hybrid Search**: Alternative search mechanisms that use simple keyword matching or a combination of keyword and vector search."
   ],
   "id": "809be59a3be6ccff"
  },
  {
   "metadata": {
    "id": "cebe2654abcc17d6"
   },
   "cell_type": "markdown",
   "source": [
    "Installing Dependencies:\n",
    "\n",
    "We begin by installing the required libraries: indox, neo4j, wikipedia, semantic_text_splitter, and sentence_transformers. These libraries will help us interact with APIs, fetch data, and handle embeddings."
   ],
   "id": "cebe2654abcc17d6"
  },
  {
   "metadata": {
    "ExecuteTime": {
     "end_time": "2024-09-09T07:30:06.487455Z",
     "start_time": "2024-09-09T07:29:51.212868Z"
    },
    "colab": {
     "base_uri": "https://localhost:8080/",
     "height": 1000
    },
    "id": "initial_id",
    "outputId": "72f7e227-3144-496b-ad1a-a655f26ff25e"
   },
   "cell_type": "code",
   "source": [
    "!pip install indox  \n",
    "!pip install neo4j  \n",
    "!pip install wikipedia  \n",
    "!pip install semantic_text_splitter  \n",
    "!pip install sentence_transformers  "
   ],
   "id": "initial_id",
   "outputs": [
    {
     "output_type": "stream",
     "name": "stdout",
     "text": [
      "Collecting indox\n",
      "  Downloading Indox-0.1.27-py3-none-any.whl.metadata (18 kB)\n",
      "Collecting latex2markdown (from indox)\n",
      "  Downloading latex2markdown-0.2.1.tar.gz (161 kB)\n",
      "\u001B[2K     \u001B[90m━━━━━━━━━━━━━━━━━━━━━━━━━━━━━━━━━━━━━━━━\u001B[0m \u001B[32m161.7/161.7 kB\u001B[0m \u001B[31m3.1 MB/s\u001B[0m eta \u001B[36m0:00:00\u001B[0m\n",
      "\u001B[?25h  Preparing metadata (setup.py) ... \u001B[?25l\u001B[?25hdone\n",
      "Collecting loguru (from indox)\n",
      "  Downloading loguru-0.7.2-py3-none-any.whl.metadata (23 kB)\n",
      "Requirement already satisfied: spacy in /usr/local/lib/python3.10/dist-packages (from indox) (3.7.6)\n",
      "Requirement already satisfied: numpy in /usr/local/lib/python3.10/dist-packages (from indox) (1.26.4)\n",
      "Requirement already satisfied: pandas in /usr/local/lib/python3.10/dist-packages (from indox) (2.1.4)\n",
      "Requirement already satisfied: protobuf in /usr/local/lib/python3.10/dist-packages (from indox) (3.20.3)\n",
      "Requirement already satisfied: pydantic in /usr/local/lib/python3.10/dist-packages (from indox) (2.8.2)\n",
      "Collecting PyPDF2 (from indox)\n",
      "  Downloading pypdf2-3.0.1-py3-none-any.whl.metadata (6.8 kB)\n",
      "Collecting python-dotenv (from indox)\n",
      "  Downloading python_dotenv-1.0.1-py3-none-any.whl.metadata (23 kB)\n",
      "Requirement already satisfied: Requests in /usr/local/lib/python3.10/dist-packages (from indox) (2.32.3)\n",
      "Requirement already satisfied: setuptools in /usr/local/lib/python3.10/dist-packages (from indox) (71.0.4)\n",
      "Requirement already satisfied: tenacity in /usr/local/lib/python3.10/dist-packages (from indox) (9.0.0)\n",
      "Collecting tiktoken (from indox)\n",
      "  Downloading tiktoken-0.7.0-cp310-cp310-manylinux_2_17_x86_64.manylinux2014_x86_64.whl.metadata (6.6 kB)\n",
      "Requirement already satisfied: tokenizers in /usr/local/lib/python3.10/dist-packages (from indox) (0.19.1)\n",
      "Collecting umap-learn (from indox)\n",
      "  Downloading umap_learn-0.5.6-py3-none-any.whl.metadata (21 kB)\n",
      "Collecting unstructured (from indox)\n",
      "  Downloading unstructured-0.15.9-py3-none-any.whl.metadata (29 kB)\n",
      "Requirement already satisfied: nltk in /usr/local/lib/python3.10/dist-packages (from indox) (3.8.1)\n",
      "Collecting pillow-heif (from indox)\n",
      "  Downloading pillow_heif-0.18.0-cp310-cp310-manylinux_2_17_x86_64.manylinux2014_x86_64.whl.metadata (9.8 kB)\n",
      "Requirement already satisfied: click in /usr/local/lib/python3.10/dist-packages (from nltk->indox) (8.1.7)\n",
      "Requirement already satisfied: joblib in /usr/local/lib/python3.10/dist-packages (from nltk->indox) (1.4.2)\n",
      "Requirement already satisfied: regex>=2021.8.3 in /usr/local/lib/python3.10/dist-packages (from nltk->indox) (2024.5.15)\n",
      "Requirement already satisfied: tqdm in /usr/local/lib/python3.10/dist-packages (from nltk->indox) (4.66.5)\n",
      "Requirement already satisfied: python-dateutil>=2.8.2 in /usr/local/lib/python3.10/dist-packages (from pandas->indox) (2.8.2)\n",
      "Requirement already satisfied: pytz>=2020.1 in /usr/local/lib/python3.10/dist-packages (from pandas->indox) (2024.1)\n",
      "Requirement already satisfied: tzdata>=2022.1 in /usr/local/lib/python3.10/dist-packages (from pandas->indox) (2024.1)\n",
      "Collecting pillow>=10.1.0 (from pillow-heif->indox)\n",
      "  Downloading pillow-10.4.0-cp310-cp310-manylinux_2_28_x86_64.whl.metadata (9.2 kB)\n",
      "Requirement already satisfied: annotated-types>=0.4.0 in /usr/local/lib/python3.10/dist-packages (from pydantic->indox) (0.7.0)\n",
      "Requirement already satisfied: pydantic-core==2.20.1 in /usr/local/lib/python3.10/dist-packages (from pydantic->indox) (2.20.1)\n",
      "Requirement already satisfied: typing-extensions>=4.6.1 in /usr/local/lib/python3.10/dist-packages (from pydantic->indox) (4.12.2)\n",
      "Requirement already satisfied: charset-normalizer<4,>=2 in /usr/local/lib/python3.10/dist-packages (from Requests->indox) (3.3.2)\n",
      "Requirement already satisfied: idna<4,>=2.5 in /usr/local/lib/python3.10/dist-packages (from Requests->indox) (3.8)\n",
      "Requirement already satisfied: urllib3<3,>=1.21.1 in /usr/local/lib/python3.10/dist-packages (from Requests->indox) (2.0.7)\n",
      "Requirement already satisfied: certifi>=2017.4.17 in /usr/local/lib/python3.10/dist-packages (from Requests->indox) (2024.8.30)\n",
      "Requirement already satisfied: spacy-legacy<3.1.0,>=3.0.11 in /usr/local/lib/python3.10/dist-packages (from spacy->indox) (3.0.12)\n",
      "Requirement already satisfied: spacy-loggers<2.0.0,>=1.0.0 in /usr/local/lib/python3.10/dist-packages (from spacy->indox) (1.0.5)\n",
      "Requirement already satisfied: murmurhash<1.1.0,>=0.28.0 in /usr/local/lib/python3.10/dist-packages (from spacy->indox) (1.0.10)\n",
      "Requirement already satisfied: cymem<2.1.0,>=2.0.2 in /usr/local/lib/python3.10/dist-packages (from spacy->indox) (2.0.8)\n",
      "Requirement already satisfied: preshed<3.1.0,>=3.0.2 in /usr/local/lib/python3.10/dist-packages (from spacy->indox) (3.0.9)\n",
      "Requirement already satisfied: thinc<8.3.0,>=8.2.2 in /usr/local/lib/python3.10/dist-packages (from spacy->indox) (8.2.5)\n",
      "Requirement already satisfied: wasabi<1.2.0,>=0.9.1 in /usr/local/lib/python3.10/dist-packages (from spacy->indox) (1.1.3)\n",
      "Requirement already satisfied: srsly<3.0.0,>=2.4.3 in /usr/local/lib/python3.10/dist-packages (from spacy->indox) (2.4.8)\n",
      "Requirement already satisfied: catalogue<2.1.0,>=2.0.6 in /usr/local/lib/python3.10/dist-packages (from spacy->indox) (2.0.10)\n",
      "Requirement already satisfied: weasel<0.5.0,>=0.1.0 in /usr/local/lib/python3.10/dist-packages (from spacy->indox) (0.4.1)\n",
      "Requirement already satisfied: typer<1.0.0,>=0.3.0 in /usr/local/lib/python3.10/dist-packages (from spacy->indox) (0.12.5)\n",
      "Requirement already satisfied: jinja2 in /usr/local/lib/python3.10/dist-packages (from spacy->indox) (3.1.4)\n",
      "Requirement already satisfied: packaging>=20.0 in /usr/local/lib/python3.10/dist-packages (from spacy->indox) (24.1)\n",
      "Requirement already satisfied: langcodes<4.0.0,>=3.2.0 in /usr/local/lib/python3.10/dist-packages (from spacy->indox) (3.4.0)\n",
      "Requirement already satisfied: huggingface-hub<1.0,>=0.16.4 in /usr/local/lib/python3.10/dist-packages (from tokenizers->indox) (0.24.6)\n",
      "Requirement already satisfied: scipy>=1.3.1 in /usr/local/lib/python3.10/dist-packages (from umap-learn->indox) (1.13.1)\n",
      "Requirement already satisfied: scikit-learn>=0.22 in /usr/local/lib/python3.10/dist-packages (from umap-learn->indox) (1.3.2)\n",
      "Requirement already satisfied: numba>=0.51.2 in /usr/local/lib/python3.10/dist-packages (from umap-learn->indox) (0.60.0)\n",
      "Collecting pynndescent>=0.5 (from umap-learn->indox)\n",
      "  Downloading pynndescent-0.5.13-py3-none-any.whl.metadata (6.8 kB)\n",
      "Requirement already satisfied: chardet in /usr/local/lib/python3.10/dist-packages (from unstructured->indox) (5.2.0)\n",
      "Collecting filetype (from unstructured->indox)\n",
      "  Downloading filetype-1.2.0-py2.py3-none-any.whl.metadata (6.5 kB)\n",
      "Collecting python-magic (from unstructured->indox)\n",
      "  Downloading python_magic-0.4.27-py2.py3-none-any.whl.metadata (5.8 kB)\n",
      "Requirement already satisfied: lxml in /usr/local/lib/python3.10/dist-packages (from unstructured->indox) (4.9.4)\n",
      "Requirement already satisfied: tabulate in /usr/local/lib/python3.10/dist-packages (from unstructured->indox) (0.9.0)\n",
      "Requirement already satisfied: beautifulsoup4 in /usr/local/lib/python3.10/dist-packages (from unstructured->indox) (4.12.3)\n",
      "Collecting emoji (from unstructured->indox)\n",
      "  Downloading emoji-2.12.1-py3-none-any.whl.metadata (5.4 kB)\n",
      "Collecting dataclasses-json (from unstructured->indox)\n",
      "  Downloading dataclasses_json-0.6.7-py3-none-any.whl.metadata (25 kB)\n",
      "Collecting python-iso639 (from unstructured->indox)\n",
      "  Downloading python_iso639-2024.4.27-py3-none-any.whl.metadata (13 kB)\n",
      "Collecting langdetect (from unstructured->indox)\n",
      "  Downloading langdetect-1.0.9.tar.gz (981 kB)\n",
      "\u001B[2K     \u001B[90m━━━━━━━━━━━━━━━━━━━━━━━━━━━━━━━━━━━━━━━━\u001B[0m \u001B[32m981.5/981.5 kB\u001B[0m \u001B[31m20.5 MB/s\u001B[0m eta \u001B[36m0:00:00\u001B[0m\n",
      "\u001B[?25h  Preparing metadata (setup.py) ... \u001B[?25l\u001B[?25hdone\n",
      "Collecting rapidfuzz (from unstructured->indox)\n",
      "  Downloading rapidfuzz-3.9.7-cp310-cp310-manylinux_2_17_x86_64.manylinux2014_x86_64.whl.metadata (12 kB)\n",
      "Collecting backoff (from unstructured->indox)\n",
      "  Downloading backoff-2.2.1-py3-none-any.whl.metadata (14 kB)\n",
      "Collecting unstructured-client (from unstructured->indox)\n",
      "  Downloading unstructured_client-0.25.7-py3-none-any.whl.metadata (15 kB)\n",
      "Requirement already satisfied: wrapt in /usr/local/lib/python3.10/dist-packages (from unstructured->indox) (1.16.0)\n",
      "Requirement already satisfied: psutil in /usr/local/lib/python3.10/dist-packages (from unstructured->indox) (5.9.5)\n",
      "Collecting python-oxmsg (from unstructured->indox)\n",
      "  Downloading python_oxmsg-0.0.1-py3-none-any.whl.metadata (5.0 kB)\n",
      "Requirement already satisfied: filelock in /usr/local/lib/python3.10/dist-packages (from huggingface-hub<1.0,>=0.16.4->tokenizers->indox) (3.15.4)\n",
      "Requirement already satisfied: fsspec>=2023.5.0 in /usr/local/lib/python3.10/dist-packages (from huggingface-hub<1.0,>=0.16.4->tokenizers->indox) (2024.6.1)\n",
      "Requirement already satisfied: pyyaml>=5.1 in /usr/local/lib/python3.10/dist-packages (from huggingface-hub<1.0,>=0.16.4->tokenizers->indox) (6.0.2)\n",
      "Requirement already satisfied: language-data>=1.2 in /usr/local/lib/python3.10/dist-packages (from langcodes<4.0.0,>=3.2.0->spacy->indox) (1.2.0)\n",
      "Requirement already satisfied: llvmlite<0.44,>=0.43.0dev0 in /usr/local/lib/python3.10/dist-packages (from numba>=0.51.2->umap-learn->indox) (0.43.0)\n",
      "Requirement already satisfied: six>=1.5 in /usr/local/lib/python3.10/dist-packages (from python-dateutil>=2.8.2->pandas->indox) (1.16.0)\n",
      "Requirement already satisfied: threadpoolctl>=2.0.0 in /usr/local/lib/python3.10/dist-packages (from scikit-learn>=0.22->umap-learn->indox) (3.5.0)\n",
      "Requirement already satisfied: blis<0.8.0,>=0.7.8 in /usr/local/lib/python3.10/dist-packages (from thinc<8.3.0,>=8.2.2->spacy->indox) (0.7.11)\n",
      "Requirement already satisfied: confection<1.0.0,>=0.0.1 in /usr/local/lib/python3.10/dist-packages (from thinc<8.3.0,>=8.2.2->spacy->indox) (0.1.5)\n",
      "Requirement already satisfied: shellingham>=1.3.0 in /usr/local/lib/python3.10/dist-packages (from typer<1.0.0,>=0.3.0->spacy->indox) (1.5.4)\n",
      "Requirement already satisfied: rich>=10.11.0 in /usr/local/lib/python3.10/dist-packages (from typer<1.0.0,>=0.3.0->spacy->indox) (13.8.0)\n",
      "Requirement already satisfied: cloudpathlib<1.0.0,>=0.7.0 in /usr/local/lib/python3.10/dist-packages (from weasel<0.5.0,>=0.1.0->spacy->indox) (0.19.0)\n",
      "Requirement already satisfied: smart-open<8.0.0,>=5.2.1 in /usr/local/lib/python3.10/dist-packages (from weasel<0.5.0,>=0.1.0->spacy->indox) (7.0.4)\n",
      "Requirement already satisfied: soupsieve>1.2 in /usr/local/lib/python3.10/dist-packages (from beautifulsoup4->unstructured->indox) (2.6)\n",
      "Collecting marshmallow<4.0.0,>=3.18.0 (from dataclasses-json->unstructured->indox)\n",
      "  Downloading marshmallow-3.22.0-py3-none-any.whl.metadata (7.2 kB)\n",
      "Collecting typing-inspect<1,>=0.4.0 (from dataclasses-json->unstructured->indox)\n",
      "  Downloading typing_inspect-0.9.0-py3-none-any.whl.metadata (1.5 kB)\n",
      "Requirement already satisfied: MarkupSafe>=2.0 in /usr/local/lib/python3.10/dist-packages (from jinja2->spacy->indox) (2.1.5)\n",
      "Collecting olefile (from python-oxmsg->unstructured->indox)\n",
      "  Downloading olefile-0.47-py2.py3-none-any.whl.metadata (9.7 kB)\n",
      "Collecting deepdiff>=6.0 (from unstructured-client->unstructured->indox)\n",
      "  Downloading deepdiff-8.0.1-py3-none-any.whl.metadata (8.5 kB)\n",
      "Collecting httpx>=0.27.0 (from unstructured-client->unstructured->indox)\n",
      "  Downloading httpx-0.27.2-py3-none-any.whl.metadata (7.1 kB)\n",
      "Collecting jsonpath-python>=1.0.6 (from unstructured-client->unstructured->indox)\n",
      "  Downloading jsonpath_python-1.0.6-py3-none-any.whl.metadata (12 kB)\n",
      "Collecting mypy-extensions>=1.0.0 (from unstructured-client->unstructured->indox)\n",
      "  Downloading mypy_extensions-1.0.0-py3-none-any.whl.metadata (1.1 kB)\n",
      "Requirement already satisfied: nest-asyncio>=1.6.0 in /usr/local/lib/python3.10/dist-packages (from unstructured-client->unstructured->indox) (1.6.0)\n",
      "Collecting pypdf>=4.0 (from unstructured-client->unstructured->indox)\n",
      "  Downloading pypdf-4.3.1-py3-none-any.whl.metadata (7.4 kB)\n",
      "Collecting requests-toolbelt>=1.0.0 (from unstructured-client->unstructured->indox)\n",
      "  Downloading requests_toolbelt-1.0.0-py2.py3-none-any.whl.metadata (14 kB)\n",
      "Collecting orderly-set==5.2.2 (from deepdiff>=6.0->unstructured-client->unstructured->indox)\n",
      "  Downloading orderly_set-5.2.2-py3-none-any.whl.metadata (6.3 kB)\n",
      "Requirement already satisfied: anyio in /usr/local/lib/python3.10/dist-packages (from httpx>=0.27.0->unstructured-client->unstructured->indox) (3.7.1)\n",
      "Collecting httpcore==1.* (from httpx>=0.27.0->unstructured-client->unstructured->indox)\n",
      "  Downloading httpcore-1.0.5-py3-none-any.whl.metadata (20 kB)\n",
      "Requirement already satisfied: sniffio in /usr/local/lib/python3.10/dist-packages (from httpx>=0.27.0->unstructured-client->unstructured->indox) (1.3.1)\n",
      "Collecting h11<0.15,>=0.13 (from httpcore==1.*->httpx>=0.27.0->unstructured-client->unstructured->indox)\n",
      "  Downloading h11-0.14.0-py3-none-any.whl.metadata (8.2 kB)\n",
      "Requirement already satisfied: marisa-trie>=0.7.7 in /usr/local/lib/python3.10/dist-packages (from language-data>=1.2->langcodes<4.0.0,>=3.2.0->spacy->indox) (1.2.0)\n",
      "Requirement already satisfied: markdown-it-py>=2.2.0 in /usr/local/lib/python3.10/dist-packages (from rich>=10.11.0->typer<1.0.0,>=0.3.0->spacy->indox) (3.0.0)\n",
      "Requirement already satisfied: pygments<3.0.0,>=2.13.0 in /usr/local/lib/python3.10/dist-packages (from rich>=10.11.0->typer<1.0.0,>=0.3.0->spacy->indox) (2.16.1)\n",
      "Requirement already satisfied: mdurl~=0.1 in /usr/local/lib/python3.10/dist-packages (from markdown-it-py>=2.2.0->rich>=10.11.0->typer<1.0.0,>=0.3.0->spacy->indox) (0.1.2)\n",
      "Requirement already satisfied: exceptiongroup in /usr/local/lib/python3.10/dist-packages (from anyio->httpx>=0.27.0->unstructured-client->unstructured->indox) (1.2.2)\n",
      "Downloading Indox-0.1.27-py3-none-any.whl (168 kB)\n",
      "\u001B[2K   \u001B[90m━━━━━━━━━━━━━━━━━━━━━━━━━━━━━━━━━━━━━━━━\u001B[0m \u001B[32m168.5/168.5 kB\u001B[0m \u001B[31m8.7 MB/s\u001B[0m eta \u001B[36m0:00:00\u001B[0m\n",
      "\u001B[?25hDownloading loguru-0.7.2-py3-none-any.whl (62 kB)\n",
      "\u001B[2K   \u001B[90m━━━━━━━━━━━━━━━━━━━━━━━━━━━━━━━━━━━━━━━━\u001B[0m \u001B[32m62.5/62.5 kB\u001B[0m \u001B[31m2.7 MB/s\u001B[0m eta \u001B[36m0:00:00\u001B[0m\n",
      "\u001B[?25hDownloading pillow_heif-0.18.0-cp310-cp310-manylinux_2_17_x86_64.manylinux2014_x86_64.whl (7.6 MB)\n",
      "\u001B[2K   \u001B[90m━━━━━━━━━━━━━━━━━━━━━━━━━━━━━━━━━━━━━━━━\u001B[0m \u001B[32m7.6/7.6 MB\u001B[0m \u001B[31m72.3 MB/s\u001B[0m eta \u001B[36m0:00:00\u001B[0m\n",
      "\u001B[?25hDownloading pypdf2-3.0.1-py3-none-any.whl (232 kB)\n",
      "\u001B[2K   \u001B[90m━━━━━━━━━━━━━━━━━━━━━━━━━━━━━━━━━━━━━━━━\u001B[0m \u001B[32m232.6/232.6 kB\u001B[0m \u001B[31m12.7 MB/s\u001B[0m eta \u001B[36m0:00:00\u001B[0m\n",
      "\u001B[?25hDownloading python_dotenv-1.0.1-py3-none-any.whl (19 kB)\n",
      "Downloading tiktoken-0.7.0-cp310-cp310-manylinux_2_17_x86_64.manylinux2014_x86_64.whl (1.1 MB)\n",
      "\u001B[2K   \u001B[90m━━━━━━━━━━━━━━━━━━━━━━━━━━━━━━━━━━━━━━━━\u001B[0m \u001B[32m1.1/1.1 MB\u001B[0m \u001B[31m31.9 MB/s\u001B[0m eta \u001B[36m0:00:00\u001B[0m\n",
      "\u001B[?25hDownloading umap_learn-0.5.6-py3-none-any.whl (85 kB)\n",
      "\u001B[2K   \u001B[90m━━━━━━━━━━━━━━━━━━━━━━━━━━━━━━━━━━━━━━━━\u001B[0m \u001B[32m85.7/85.7 kB\u001B[0m \u001B[31m4.8 MB/s\u001B[0m eta \u001B[36m0:00:00\u001B[0m\n",
      "\u001B[?25hDownloading unstructured-0.15.9-py3-none-any.whl (2.1 MB)\n",
      "\u001B[2K   \u001B[90m━━━━━━━━━━━━━━━━━━━━━━━━━━━━━━━━━━━━━━━━\u001B[0m \u001B[32m2.1/2.1 MB\u001B[0m \u001B[31m57.8 MB/s\u001B[0m eta \u001B[36m0:00:00\u001B[0m\n",
      "\u001B[?25hDownloading pillow-10.4.0-cp310-cp310-manylinux_2_28_x86_64.whl (4.5 MB)\n",
      "\u001B[2K   \u001B[90m━━━━━━━━━━━━━━━━━━━━━━━━━━━━━━━━━━━━━━━━\u001B[0m \u001B[32m4.5/4.5 MB\u001B[0m \u001B[31m75.3 MB/s\u001B[0m eta \u001B[36m0:00:00\u001B[0m\n",
      "\u001B[?25hDownloading pynndescent-0.5.13-py3-none-any.whl (56 kB)\n",
      "\u001B[2K   \u001B[90m━━━━━━━━━━━━━━━━━━━━━━━━━━━━━━━━━━━━━━━━\u001B[0m \u001B[32m56.9/56.9 kB\u001B[0m \u001B[31m3.8 MB/s\u001B[0m eta \u001B[36m0:00:00\u001B[0m\n",
      "\u001B[?25hDownloading backoff-2.2.1-py3-none-any.whl (15 kB)\n",
      "Downloading dataclasses_json-0.6.7-py3-none-any.whl (28 kB)\n",
      "Downloading emoji-2.12.1-py3-none-any.whl (431 kB)\n",
      "\u001B[2K   \u001B[90m━━━━━━━━━━━━━━━━━━━━━━━━━━━━━━━━━━━━━━━━\u001B[0m \u001B[32m431.4/431.4 kB\u001B[0m \u001B[31m25.4 MB/s\u001B[0m eta \u001B[36m0:00:00\u001B[0m\n",
      "\u001B[?25hDownloading filetype-1.2.0-py2.py3-none-any.whl (19 kB)\n",
      "Downloading python_iso639-2024.4.27-py3-none-any.whl (274 kB)\n",
      "\u001B[2K   \u001B[90m━━━━━━━━━━━━━━━━━━━━━━━━━━━━━━━━━━━━━━━━\u001B[0m \u001B[32m274.7/274.7 kB\u001B[0m \u001B[31m14.2 MB/s\u001B[0m eta \u001B[36m0:00:00\u001B[0m\n",
      "\u001B[?25hDownloading python_magic-0.4.27-py2.py3-none-any.whl (13 kB)\n",
      "Downloading python_oxmsg-0.0.1-py3-none-any.whl (31 kB)\n",
      "Downloading rapidfuzz-3.9.7-cp310-cp310-manylinux_2_17_x86_64.manylinux2014_x86_64.whl (3.4 MB)\n",
      "\u001B[2K   \u001B[90m━━━━━━━━━━━━━━━━━━━━━━━━━━━━━━━━━━━━━━━━\u001B[0m \u001B[32m3.4/3.4 MB\u001B[0m \u001B[31m56.9 MB/s\u001B[0m eta \u001B[36m0:00:00\u001B[0m\n",
      "\u001B[?25hDownloading unstructured_client-0.25.7-py3-none-any.whl (45 kB)\n",
      "\u001B[2K   \u001B[90m━━━━━━━━━━━━━━━━━━━━━━━━━━━━━━━━━━━━━━━━\u001B[0m \u001B[32m45.2/45.2 kB\u001B[0m \u001B[31m2.5 MB/s\u001B[0m eta \u001B[36m0:00:00\u001B[0m\n",
      "\u001B[?25hDownloading deepdiff-8.0.1-py3-none-any.whl (82 kB)\n",
      "\u001B[2K   \u001B[90m━━━━━━━━━━━━━━━━━━━━━━━━━━━━━━━━━━━━━━━━\u001B[0m \u001B[32m82.7/82.7 kB\u001B[0m \u001B[31m5.0 MB/s\u001B[0m eta \u001B[36m0:00:00\u001B[0m\n",
      "\u001B[?25hDownloading orderly_set-5.2.2-py3-none-any.whl (11 kB)\n",
      "Downloading httpx-0.27.2-py3-none-any.whl (76 kB)\n",
      "\u001B[2K   \u001B[90m━━━━━━━━━━━━━━━━━━━━━━━━━━━━━━━━━━━━━━━━\u001B[0m \u001B[32m76.4/76.4 kB\u001B[0m \u001B[31m4.3 MB/s\u001B[0m eta \u001B[36m0:00:00\u001B[0m\n",
      "\u001B[?25hDownloading httpcore-1.0.5-py3-none-any.whl (77 kB)\n",
      "\u001B[2K   \u001B[90m━━━━━━━━━━━━━━━━━━━━━━━━━━━━━━━━━━━━━━━━\u001B[0m \u001B[32m77.9/77.9 kB\u001B[0m \u001B[31m4.2 MB/s\u001B[0m eta \u001B[36m0:00:00\u001B[0m\n",
      "\u001B[?25hDownloading jsonpath_python-1.0.6-py3-none-any.whl (7.6 kB)\n",
      "Downloading marshmallow-3.22.0-py3-none-any.whl (49 kB)\n",
      "\u001B[2K   \u001B[90m━━━━━━━━━━━━━━━━━━━━━━━━━━━━━━━━━━━━━━━━\u001B[0m \u001B[32m49.3/49.3 kB\u001B[0m \u001B[31m2.5 MB/s\u001B[0m eta \u001B[36m0:00:00\u001B[0m\n",
      "\u001B[?25hDownloading mypy_extensions-1.0.0-py3-none-any.whl (4.7 kB)\n",
      "Downloading pypdf-4.3.1-py3-none-any.whl (295 kB)\n",
      "\u001B[2K   \u001B[90m━━━━━━━━━━━━━━━━━━━━━━━━━━━━━━━━━━━━━━━━\u001B[0m \u001B[32m295.8/295.8 kB\u001B[0m \u001B[31m14.7 MB/s\u001B[0m eta \u001B[36m0:00:00\u001B[0m\n",
      "\u001B[?25hDownloading requests_toolbelt-1.0.0-py2.py3-none-any.whl (54 kB)\n",
      "\u001B[2K   \u001B[90m━━━━━━━━━━━━━━━━━━━━━━━━━━━━━━━━━━━━━━━━\u001B[0m \u001B[32m54.5/54.5 kB\u001B[0m \u001B[31m2.8 MB/s\u001B[0m eta \u001B[36m0:00:00\u001B[0m\n",
      "\u001B[?25hDownloading typing_inspect-0.9.0-py3-none-any.whl (8.8 kB)\n",
      "Downloading olefile-0.47-py2.py3-none-any.whl (114 kB)\n",
      "\u001B[2K   \u001B[90m━━━━━━━━━━━━━━━━━━━━━━━━━━━━━━━━━━━━━━━━\u001B[0m \u001B[32m114.6/114.6 kB\u001B[0m \u001B[31m5.9 MB/s\u001B[0m eta \u001B[36m0:00:00\u001B[0m\n",
      "\u001B[?25hDownloading h11-0.14.0-py3-none-any.whl (58 kB)\n",
      "\u001B[2K   \u001B[90m━━━━━━━━━━━━━━━━━━━━━━━━━━━━━━━━━━━━━━━━\u001B[0m \u001B[32m58.3/58.3 kB\u001B[0m \u001B[31m3.3 MB/s\u001B[0m eta \u001B[36m0:00:00\u001B[0m\n",
      "\u001B[?25hBuilding wheels for collected packages: latex2markdown, langdetect\n",
      "  Building wheel for latex2markdown (setup.py) ... \u001B[?25l\u001B[?25hdone\n",
      "  Created wheel for latex2markdown: filename=latex2markdown-0.2.1-py3-none-any.whl size=8981 sha256=4c5412808e623e21151f74ecc756f9de19f5035b7ef8f3f0c4dc670c6c879a14\n",
      "  Stored in directory: /root/.cache/pip/wheels/48/d0/8a/5009532cfcf3a270e1126c6a46d73ab028737188faf768fbba\n",
      "  Building wheel for langdetect (setup.py) ... \u001B[?25l\u001B[?25hdone\n",
      "  Created wheel for langdetect: filename=langdetect-1.0.9-py3-none-any.whl size=993221 sha256=95416fccca7602230adffcf1fe26453401f469597e758a81fdc4955bf961e1d0\n",
      "  Stored in directory: /root/.cache/pip/wheels/95/03/7d/59ea870c70ce4e5a370638b5462a7711ab78fba2f655d05106\n",
      "Successfully built latex2markdown langdetect\n",
      "Installing collected packages: latex2markdown, filetype, rapidfuzz, python-magic, python-iso639, python-dotenv, PyPDF2, pypdf, pillow, orderly-set, olefile, mypy-extensions, marshmallow, loguru, langdetect, jsonpath-python, h11, emoji, backoff, typing-inspect, tiktoken, requests-toolbelt, python-oxmsg, pillow-heif, httpcore, deepdiff, pynndescent, httpx, dataclasses-json, unstructured-client, umap-learn, unstructured, indox\n",
      "  Attempting uninstall: pillow\n",
      "    Found existing installation: Pillow 9.4.0\n",
      "    Uninstalling Pillow-9.4.0:\n",
      "      Successfully uninstalled Pillow-9.4.0\n",
      "Successfully installed PyPDF2-3.0.1 backoff-2.2.1 dataclasses-json-0.6.7 deepdiff-8.0.1 emoji-2.12.1 filetype-1.2.0 h11-0.14.0 httpcore-1.0.5 httpx-0.27.2 indox-0.1.27 jsonpath-python-1.0.6 langdetect-1.0.9 latex2markdown-0.2.1 loguru-0.7.2 marshmallow-3.22.0 mypy-extensions-1.0.0 olefile-0.47 orderly-set-5.2.2 pillow-10.4.0 pillow-heif-0.18.0 pynndescent-0.5.13 pypdf-4.3.1 python-dotenv-1.0.1 python-iso639-2024.4.27 python-magic-0.4.27 python-oxmsg-0.0.1 rapidfuzz-3.9.7 requests-toolbelt-1.0.0 tiktoken-0.7.0 typing-inspect-0.9.0 umap-learn-0.5.6 unstructured-0.15.9 unstructured-client-0.25.7\n"
     ]
    },
    {
     "output_type": "display_data",
     "data": {
      "application/vnd.colab-display-data+json": {
       "pip_warning": {
        "packages": [
         "PIL"
        ]
       },
       "id": "6863f71b1cca48b4b01a9713e9849679"
      }
     },
     "metadata": {}
    },
    {
     "output_type": "stream",
     "name": "stdout",
     "text": [
      "Collecting neo4j\n",
      "  Downloading neo4j-5.24.0-py3-none-any.whl.metadata (5.7 kB)\n",
      "Requirement already satisfied: pytz in /usr/local/lib/python3.10/dist-packages (from neo4j) (2024.1)\n",
      "Downloading neo4j-5.24.0-py3-none-any.whl (294 kB)\n",
      "\u001B[?25l   \u001B[90m━━━━━━━━━━━━━━━━━━━━━━━━━━━━━━━━━━━━━━━━\u001B[0m \u001B[32m0.0/294.6 kB\u001B[0m \u001B[31m?\u001B[0m eta \u001B[36m-:--:--\u001B[0m\r\u001B[2K   \u001B[91m━━━━━━━━━━━━━\u001B[0m\u001B[91m╸\u001B[0m\u001B[90m━━━━━━━━━━━━━━━━━━━━━━━━━━\u001B[0m \u001B[32m102.4/294.6 kB\u001B[0m \u001B[31m2.8 MB/s\u001B[0m eta \u001B[36m0:00:01\u001B[0m\r\u001B[2K   \u001B[90m━━━━━━━━━━━━━━━━━━━━━━━━━━━━━━━━━━━━━━━━\u001B[0m \u001B[32m294.6/294.6 kB\u001B[0m \u001B[31m4.2 MB/s\u001B[0m eta \u001B[36m0:00:00\u001B[0m\n",
      "\u001B[?25hInstalling collected packages: neo4j\n",
      "Successfully installed neo4j-5.24.0\n",
      "Traceback (most recent call last):\n",
      "  File \"/usr/local/bin/pip3\", line 8, in <module>\n",
      "    sys.exit(main())\n",
      "  File \"/usr/local/lib/python3.10/dist-packages/pip/_internal/cli/main.py\", line 78, in main\n",
      "    command = create_command(cmd_name, isolated=(\"--isolated\" in cmd_args))\n",
      "  File \"/usr/local/lib/python3.10/dist-packages/pip/_internal/commands/__init__.py\", line 114, in create_command\n",
      "    module = importlib.import_module(module_path)\n",
      "  File \"/usr/lib/python3.10/importlib/__init__.py\", line 126, in import_module\n",
      "    return _bootstrap._gcd_import(name[level:], package, level)\n",
      "  File \"<frozen importlib._bootstrap>\", line 1050, in _gcd_import\n",
      "  File \"<frozen importlib._bootstrap>\", line 1027, in _find_and_load\n",
      "  File \"<frozen importlib._bootstrap>\", line 1006, in _find_and_load_unlocked\n",
      "  File \"<frozen importlib._bootstrap>\", line 688, in _load_unlocked\n",
      "  File \"<frozen importlib._bootstrap_external>\", line 883, in exec_module\n",
      "  File \"<frozen importlib._bootstrap>\", line 241, in _call_with_frames_removed\n",
      "  File \"/usr/local/lib/python3.10/dist-packages/pip/_internal/commands/install.py\", line 15, in <module>\n",
      "    from pip._internal.cli.req_command import (\n",
      "  File \"/usr/local/lib/python3.10/dist-packages/pip/_internal/cli/req_command.py\", line 18, in <module>\n",
      "    from pip._internal.index.collector import LinkCollector\n",
      "  File \"/usr/local/lib/python3.10/dist-packages/pip/_internal/index/collector.py\", line 31, in <module>\n",
      "    from pip._vendor import requests\n",
      "  File \"/usr/local/lib/python3.10/dist-packages/pip/_vendor/requests/__init__.py\", line 159, in <module>\n",
      "    from .api import delete, get, head, options, patch, post, put, request\n",
      "  File \"/usr/local/lib/python3.10/dist-packages/pip/_vendor/requests/api.py\", line 11, in <module>\n",
      "    from . import sessions\n",
      "  File \"/usr/local/lib/python3.10/dist-packages/pip/_vendor/requests/sessions.py\", line 15, in <module>\n",
      "    from .adapters import HTTPAdapter\n",
      "  File \"/usr/local/lib/python3.10/dist-packages/pip/_vendor/requests/adapters.py\", line 81, in <module>\n",
      "    _preloaded_ssl_context.load_verify_locations(\n",
      "KeyboardInterrupt\n",
      "^C\n",
      "Collecting semantic_text_splitter\n",
      "  Downloading semantic_text_splitter-0.16.1-cp39-abi3-manylinux_2_17_x86_64.manylinux2014_x86_64.whl.metadata (7.8 kB)\n",
      "Downloading semantic_text_splitter-0.16.1-cp39-abi3-manylinux_2_17_x86_64.manylinux2014_x86_64.whl (5.8 MB)\n",
      "\u001B[2K   \u001B[90m━━━━━━━━━━━━━━━━━━━━━━━━━━━━━━━━━━━━━━━━\u001B[0m \u001B[32m5.8/5.8 MB\u001B[0m \u001B[31m29.6 MB/s\u001B[0m eta \u001B[36m0:00:00\u001B[0m\n",
      "\u001B[?25h"
     ]
    }
   ],
   "execution_count": null
  },
  {
   "metadata": {
    "id": "13c8466808950040"
   },
   "cell_type": "markdown",
   "source": [
    "Setting Up APIs:\n",
    "\n",
    "\n",
    "\n",
    "*   We set up the API key for Indox and HuggingFace"
   ],
   "id": "13c8466808950040"
  },
  {
   "metadata": {
    "id": "f9cf14ebd795d612",
    "ExecuteTime": {
     "end_time": "2024-09-21T09:14:39.048812Z",
     "start_time": "2024-09-21T09:14:39.044386Z"
    }
   },
   "cell_type": "code",
   "source": [
    "from dotenv import load_dotenv\n",
    "import os \n",
    "\n",
    "load_dotenv('api.env')\n",
    "INDOX_API_KEY = os.getenv('INDOX_API_KEY')\n",
    "HUGGINGFACE_API_KEY = os.getenv('HUGGINGFACE_API_KEY')\n"
   ],
   "id": "f9cf14ebd795d612",
   "outputs": [],
   "execution_count": 39
  },
  {
   "metadata": {
    "id": "2c3343f8da1bde1c"
   },
   "cell_type": "markdown",
   "source": [
    "Fetching Data:\n",
    "\n",
    "\n",
    "\n",
    "*   We load Wikipedia content for \"Elizabeth I\" using the Indox Wikipedia reader. The data will be split into smaller chunks to facilitate entity extraction and graph creation."
   ],
   "id": "2c3343f8da1bde1c"
  },
  {
   "metadata": {
    "id": "e2a1b034c0e3c630",
    "ExecuteTime": {
     "end_time": "2024-09-21T09:14:44.713685Z",
     "start_time": "2024-09-21T09:14:41.607504Z"
    }
   },
   "cell_type": "code",
   "source": [
    "from indox.data_connectors import WikipediaReader\n",
    "from indox.splitter import SemanticTextSplitter\n",
    "from indox.llms import IndoxApi\n",
    "\n",
    "# Initialize the Wikipedia reader to pull data from Wikipedia.\n",
    "reader = WikipediaReader()\n",
    "\n",
    "# Load Wikipedia content for \"Elizabeth I\".\n",
    "# This will retrieve the first 500 characters of the Wikipedia page about Elizabeth I.\n",
    "documents = reader.load_content(pages=[\"Elizabeth I\"])\n",
    "documents = documents[:500]\n",
    "\n",
    "# Create a basic metadata dictionary to keep track of the document source.\n",
    "metadata = {\n",
    "    \"title\": \"Elizabeth I\",\n",
    "    \"source\": \"https://en.wikipedia.org/wiki/Elizabeth_I\"\n",
    "}\n"
   ],
   "id": "e2a1b034c0e3c630",
   "outputs": [],
   "execution_count": 40
  },
  {
   "metadata": {
    "id": "860c2c8dccaa3425"
   },
   "cell_type": "markdown",
   "source": [
    "Text Splitting:\n",
    "\n",
    "*   The fetched Wikipedia content is split into smaller chunks using a text-splitting technique. This allows us to process the document more effectively by breaking it into manageable pieces."
   ],
   "id": "860c2c8dccaa3425"
  },
  {
   "metadata": {
    "id": "a5ec5ebde8a1f70e",
    "ExecuteTime": {
     "end_time": "2024-09-21T09:14:45.144213Z",
     "start_time": "2024-09-21T09:14:44.718408Z"
    }
   },
   "cell_type": "code",
   "source": [
    "splitter = SemanticTextSplitter(chunk_size=50)\n",
    "document_chunks = splitter.split_text(documents)\n"
   ],
   "id": "a5ec5ebde8a1f70e",
   "outputs": [],
   "execution_count": 41
  },
  {
   "metadata": {
    "id": "b6d78e95e51c0199"
   },
   "cell_type": "markdown",
   "source": [
    "Embedding Model Initialization:\n",
    "\n",
    "\n",
    "\n",
    "*   We initialize the HuggingFace embedding model to generate vector embeddings for each document. These embeddings will later be used for vector-based search."
   ],
   "id": "b6d78e95e51c0199"
  },
  {
   "metadata": {
    "id": "590cabda91d126ed",
    "outputId": "417331f0-77ec-4d31-aabd-16004ee94249",
    "ExecuteTime": {
     "end_time": "2024-09-21T09:14:48.162409Z",
     "start_time": "2024-09-21T09:14:45.152703Z"
    }
   },
   "cell_type": "code",
   "source": [
    "# Initialize the embedding model using the HuggingFaceEmbedding class.\n",
    "\n",
    "from indox.embeddings import HuggingFaceEmbedding\n",
    "\n",
    "embedding_model = HuggingFaceEmbedding(api_key=INDOX_API_KEY, model=\"multi-qa-mpnet-base-cos-v1\")\n"
   ],
   "id": "590cabda91d126ed",
   "outputs": [
    {
     "name": "stderr",
     "output_type": "stream",
     "text": [
      "2024-09-21 12:44:45,154 - sentence_transformers.SentenceTransformer - INFO - Use pytorch device_name: cuda\n",
      "2024-09-21 12:44:45,155 - sentence_transformers.SentenceTransformer - INFO - Load pretrained SentenceTransformer: multi-qa-mpnet-base-cos-v1\n"
     ]
    },
    {
     "name": "stdout",
     "output_type": "stream",
     "text": [
      "\u001B[32mINFO\u001B[0m: \u001B[1mInitialized HuggingFaceEmbedding with model: multi-qa-mpnet-base-cos-v1\u001B[0m\n"
     ]
    }
   ],
   "execution_count": 42
  },
  {
   "metadata": {
    "id": "9247b54d45aa092b"
   },
   "cell_type": "markdown",
   "source": [
    "Graph Creation using LLM:\n",
    "\n",
    "\n",
    "\n",
    "*   The LLMGraphTransformer is initialized, and we use it to transform document chunks into graph structures by extracting entities and relationships using a language model."
   ],
   "id": "9247b54d45aa092b"
  },
  {
   "metadata": {
    "id": "85ab3a6198661286",
    "outputId": "85580d5c-8233-4b3b-9151-aa95131a1d2c",
    "ExecuteTime": {
     "end_time": "2024-09-21T09:14:56.044627Z",
     "start_time": "2024-09-21T09:14:48.172608Z"
    }
   },
   "cell_type": "code",
   "source": [
    "from indox.graph.llmgraphtransformer import LLMGraphTransformer\n",
    "llm_transformer = IndoxApi(api_key=INDOX_API_KEY)\n",
    "\n",
    "transformer = LLMGraphTransformer(llm_transformer=llm_transformer, embeddings_model=embedding_model)\n",
    "\n",
    "# Convert the document chunks into graph documents that contain nodes (entities) and relationships.\n",
    "graph_documents = transformer.convert_to_graph_documents(document_chunks, metadata=metadata)\n"
   ],
   "id": "85ab3a6198661286",
   "outputs": [
    {
     "name": "stdout",
     "output_type": "stream",
     "text": [
      "\u001B[32mINFO\u001B[0m: \u001B[1mEmbedding documents\u001B[0m\n",
      "\u001B[32mINFO\u001B[0m: \u001B[1mStarting to fetch embeddings for texts using model: SentenceTransformer(\n",
      "  (0): Transformer({'max_seq_length': 512, 'do_lower_case': False}) with Transformer model: MPNetModel \n",
      "  (1): Pooling({'word_embedding_dimension': 768, 'pooling_mode_cls_token': False, 'pooling_mode_mean_tokens': True, 'pooling_mode_max_tokens': False, 'pooling_mode_mean_sqrt_len_tokens': False, 'pooling_mode_weightedmean_tokens': False, 'pooling_mode_lasttoken': False, 'include_prompt': True})\n",
      "  (2): Normalize()\n",
      ")\u001B[0m\n"
     ]
    },
    {
     "name": "stderr",
     "output_type": "stream",
     "text": [
      "Batches: 100%|██████████| 1/1 [00:00<00:00, 98.36it/s]\n"
     ]
    },
    {
     "name": "stdout",
     "output_type": "stream",
     "text": [
      "\u001B[32mINFO\u001B[0m: \u001B[1mEmbedding documents\u001B[0m\n",
      "\u001B[32mINFO\u001B[0m: \u001B[1mStarting to fetch embeddings for texts using model: SentenceTransformer(\n",
      "  (0): Transformer({'max_seq_length': 512, 'do_lower_case': False}) with Transformer model: MPNetModel \n",
      "  (1): Pooling({'word_embedding_dimension': 768, 'pooling_mode_cls_token': False, 'pooling_mode_mean_tokens': True, 'pooling_mode_max_tokens': False, 'pooling_mode_mean_sqrt_len_tokens': False, 'pooling_mode_weightedmean_tokens': False, 'pooling_mode_lasttoken': False, 'include_prompt': True})\n",
      "  (2): Normalize()\n",
      ")\u001B[0m\n"
     ]
    },
    {
     "name": "stderr",
     "output_type": "stream",
     "text": [
      "Batches: 100%|██████████| 1/1 [00:00<00:00, 43.99it/s]\n"
     ]
    },
    {
     "name": "stdout",
     "output_type": "stream",
     "text": [
      "\u001B[32mINFO\u001B[0m: \u001B[1mEmbedding documents\u001B[0m\n",
      "\u001B[32mINFO\u001B[0m: \u001B[1mStarting to fetch embeddings for texts using model: SentenceTransformer(\n",
      "  (0): Transformer({'max_seq_length': 512, 'do_lower_case': False}) with Transformer model: MPNetModel \n",
      "  (1): Pooling({'word_embedding_dimension': 768, 'pooling_mode_cls_token': False, 'pooling_mode_mean_tokens': True, 'pooling_mode_max_tokens': False, 'pooling_mode_mean_sqrt_len_tokens': False, 'pooling_mode_weightedmean_tokens': False, 'pooling_mode_lasttoken': False, 'include_prompt': True})\n",
      "  (2): Normalize()\n",
      ")\u001B[0m\n"
     ]
    },
    {
     "name": "stderr",
     "output_type": "stream",
     "text": [
      "Batches: 100%|██████████| 1/1 [00:00<00:00, 77.39it/s]\n"
     ]
    }
   ],
   "execution_count": 43
  },
  {
   "metadata": {
    "id": "c885a2c4827b7903",
    "outputId": "bc387c90-0412-4920-f08d-27385daee524",
    "ExecuteTime": {
     "end_time": "2024-09-21T09:14:56.086310Z",
     "start_time": "2024-09-21T09:14:56.073380Z"
    }
   },
   "cell_type": "code",
   "source": [
    "for graph_doc in graph_documents:\n",
    "    print(graph_doc.to_dict())"
   ],
   "id": "c885a2c4827b7903",
   "outputs": [
    {
     "name": "stdout",
     "output_type": "stream",
     "text": [
      "{'nodes': [{'id': 'Chunk_0', 'type': 'Chunk', 'embedding': [0.016984712332487106, -0.047557469457387924, -0.015256771817803383, -0.004274189006537199, 0.04936050623655319, 0.00607256218791008, -0.05916622281074524, 0.02928762510418892, 0.025210509076714516, 0.04163850098848343, 0.03439163416624069, -0.003568015294149518, -0.005019450560212135, -0.03713161125779152, -0.02432173490524292, -0.0036989161744713783, -0.0003411499783396721, -0.01681206375360489, -0.0288605447858572, 0.013376510702073574, -0.0070761218667030334, -0.0009061498567461967, 0.021643079817295074, 0.011871310882270336, 0.0009609689586795866, 0.04231629520654678, -0.045300304889678955, -0.034248944371938705, -0.04024829342961311, 0.06228352338075638, 0.03416317701339722, -0.06792814284563065, 0.003124883398413658, -0.061220433562994, 0.009800738655030727, 0.011953706853091717, 0.012485765852034092, -0.011334456503391266, -0.05158885195851326, -0.025743518024683, -0.029615631327033043, 0.028689999133348465, -0.005927698686718941, -0.021875528618693352, 0.007728728000074625, 0.007436344865709543, 0.08883906155824661, -0.03491060435771942, -0.031251177191734314, -0.012131194584071636, 0.002866644412279129, 0.01792280003428459, 0.04277524724602699, -0.023358017206192017, 0.0470130555331707, -0.049528319388628006, 0.05854490399360657, -0.018532978370785713, -0.04716815426945686, 0.025386033579707146, 0.034531790763139725, 0.024701211601495743, -0.0035987268202006817, 0.03721402585506439, 0.012979731895029545, 0.002948158420622349, -0.03480008989572525, 0.020300114527344704, 0.005915159359574318, -0.020985810086131096, 0.04226752370595932, 0.01710803620517254, 0.02460307627916336, 0.04278216511011124, -0.03074565902352333, 0.0745152086019516, 0.0052977451123297215, -0.04660874605178833, 0.05234071984887123, -0.03811141103506088, 0.028927765786647797, -0.0316227450966835, 0.023075977340340614, 0.024630937725305557, -0.07616328448057175, -0.0009236988262273371, -0.02108479104936123, 0.0191076397895813, 0.01583196595311165, -0.029507208615541458, -0.03794616088271141, 0.022827191278338432, -0.050822194665670395, -0.0033722599036991596, 0.02751573547720909, -0.02475847117602825, -0.008275091648101807, 0.02366446889936924, -0.015739986672997475, -0.04660483077168465, -0.09753146022558212, 0.015547337010502815, -0.01578403078019619, -0.009196625091135502, 0.01650332659482956, 0.008514895103871822, 0.015719249844551086, -0.011763578280806541, -0.025925099849700928, -0.04405214637517929, -0.038168683648109436, -0.013745300471782684, 0.07466847449541092, 0.02234417200088501, 0.01494310237467289, 0.03350706771016121, 0.039715200662612915, -0.024318469688296318, -0.0171743705868721, -0.0017814915627241135, 0.04473487660288811, -0.02463856339454651, 0.03673768788576126, 0.054407745599746704, -0.024612316861748695, -0.03338703513145447, -0.014228296466171741, -0.03237951919436455, -0.004824721720069647, -0.01259602140635252, -0.043227773159742355, 0.0347878597676754, -0.003988564945757389, -0.01721411943435669, 0.017423931509256363, 0.0013222864363342524, -0.018313778564333916, -0.01813407801091671, -0.07163999229669571, -0.057439081370830536, -0.06615196913480759, -0.06793645769357681, 0.053481534123420715, 0.004190783482044935, 0.006985102780163288, 0.026374652981758118, -0.0023788518738001585, 0.010742206126451492, 0.006968328263610601, -0.0024376430083066225, 0.029166117310523987, -0.07002341747283936, -0.04572340101003647, 0.0028833653777837753, 0.008562305942177773, -0.0075922273099422455, -0.04440329223871231, -0.008943306282162666, -0.002038718434050679, -0.09115888923406601, 0.006306138355284929, 0.020761771127581596, -0.0029739406891167164, 0.06535539776086807, 0.04615325853228569, -0.0454026460647583, 0.03164880350232124, 0.034879084676504135, -0.05170820280909538, -0.004299777094274759, 0.01735234446823597, -0.01050445344299078, 0.035491976886987686, -0.005845073610544205, -0.031002700328826904, -0.07018961012363434, 0.011538883671164513, 0.04989637807011604, 0.0146200992166996, -0.015435300767421722, 0.023593133315443993, -0.0428156852722168, -0.041286975145339966, -0.036275606602430344, 0.09497396647930145, 0.015946440398693085, -0.052718017250299454, -0.0392131544649601, -0.006489302031695843, -0.016398562118411064, 0.004447333049029112, -0.0125013692304492, -0.0016256708186119795, 0.053281109780073166, 0.017020734027028084, -0.008533245883882046, -0.016484878957271576, 0.07207081466913223, -0.033590178936719894, -0.04355765879154205, 0.044942233711481094, 0.0255675558000803, 0.019461505115032196, 0.003856242634356022, -0.009936797432601452, -0.04343351349234581, -0.03527916222810745, 0.010496305301785469, 0.06490303575992584, -0.042017921805381775, 0.009955689311027527, 0.006436796858906746, 0.05662647262215614, -0.0003722710825968534, -0.032618507742881775, 0.012522563338279724, 0.022125670686364174, -0.046692319214344025, 0.027146466076374054, 0.027526086196303368, -0.015331261791288853, -0.0909498855471611, 0.025672366842627525, -0.02847171202301979, -0.029028909280896187, -0.040045060217380524, -0.012793178670108318, -0.036729004234075546, 0.010146227665245533, 0.051129069179296494, 0.047296274453401566, -0.03680262342095375, -0.004710495471954346, -0.016020309180021286, -0.027618668973445892, -0.014921686612069607, -0.04587884992361069, -0.005069051403552294, -0.024453019723296165, -0.06638658046722412, 0.04181087762117386, 0.06428416073322296, -0.01166094932705164, -0.00988236628472805, -0.01306080911308527, 0.016578009352087975, 0.022828197106719017, 0.04591728746891022, -0.02915300242602825, 0.01574583351612091, -0.04880470782518387, -0.019202323630452156, 0.014974198304116726, -0.05214407294988632, -0.013808921910822392, 0.07792067527770996, 0.01334969513118267, -0.04697340354323387, 0.00968566071242094, -0.0025974034797400236, -0.006991892587393522, 0.013853264041244984, -0.019180037081241608, 0.047667525708675385, -0.004269304219633341, -0.008099149912595749, -0.0001336702989647165, -0.07330357283353806, 0.004933472257107496, -0.02651372179389, 0.03492487967014313, -0.02284681238234043, 0.038565702736377716, 0.031294822692871094, 0.025827953591942787, -0.01625615917146206, 0.0006127289379946887, -0.10249409824609756, 0.020137503743171692, 0.015735210850834846, -0.00037533423164859414, -0.02457481063902378, -0.011126922443509102, -0.0105243856087327, -0.03929201886057854, 0.01709371618926525, -0.00891488790512085, -0.047956790775060654, 0.03926282003521919, 0.007921168580651283, 0.06457101553678513, -0.02296408824622631, -0.06368494778871536, 0.03384269401431084, -0.06587335467338562, -0.02157723531126976, 0.03457297384738922, -0.020815584808588028, 0.01831561140716076, 0.00785069540143013, 0.026191923767328262, 0.006382667925208807, -0.04065670818090439, -0.02093128301203251, 0.013669835403561592, -0.0026728708762675524, 0.03659805282950401, 0.019248750060796738, -0.00681899581104517, -0.06512551009654999, 0.0014538380783051252, -0.01902475394308567, -0.08024850487709045, 0.00845882948487997, 0.015453536063432693, 0.028616888448596, -0.025037432089447975, -0.004375374875962734, 0.04008450731635094, -0.01320748683065176, 0.030000030994415283, 0.017849387601017952, -0.005140955094248056, 0.03334981948137283, 0.03189145028591156, 0.05807334929704666, 0.028180215507745743, 0.028683802112936974, -0.029280733317136765, -0.05235949531197548, 0.0011678077280521393, -0.09185685962438583, 0.06365738809108734, -0.011844911612570286, 0.010824422352015972, -0.048391833901405334, 0.012621184810996056, 0.05195407196879387, -0.015564192086458206, 0.005241732578724623, 0.03764497861266136, 0.007793453987687826, 0.04001915082335472, -0.025277303531765938, -0.00017782440409064293, 0.010668772272765636, -0.02380106784403324, 0.05396853759884834, 0.0009842783911153674, -0.0030508446507155895, -0.03191721811890602, 0.007161503657698631, 0.01476567517966032, -0.035849783569574356, 0.022055258974432945, -0.0019075038144364953, 0.030226830393075943, 0.021472595632076263, -0.059780195355415344, 0.027655543759465218, 0.10653442144393921, -0.04785905405879021, 0.008598619140684605, 0.06456710398197174, 0.019600950181484222, 0.042612381279468536, 0.02500607632100582, -0.014414507895708084, -0.018604880198836327, 0.03875706344842911, -0.015102420002222061, -0.08112531155347824, -0.018380705267190933, 0.05307936295866966, -0.015112391673028469, -0.020389573648571968, 0.03740593045949936, -0.011289491318166256, -0.012383146211504936, -0.018134884536266327, 0.014941664412617683, -0.030137373134493828, -0.041435882449150085, 0.017883049324154854, 0.016825122758746147, -0.02297486551105976, 0.007328100502490997, -0.04376554861664772, -0.03010203316807747, -0.04645359516143799, -0.0034869317896664143, 0.03638472408056259, 0.02890784665942192, 0.04996838420629501, 0.04225160554051399, -0.05725161358714104, 0.02056119032204151, -0.0313880480825901, -0.003986366558820009, -0.03890177980065346, -0.027399100363254547, -0.040134452283382416, -0.01936708576977253, 0.030067231506109238, -0.04970873147249222, 0.023057250306010246, -0.023615160956978798, -0.053718451410532, 0.041242554783821106, 0.02221444994211197, 0.007194004952907562, -0.062456242740154266, -0.03477206081151962, -0.010734179988503456, 0.05135839805006981, 0.04096207022666931, 0.04352039098739624, 0.0428842194378376, 0.035464026033878326, 0.09579415619373322, 0.03655019402503967, 0.024918869137763977, -0.04872644320130348, -0.028250975534319878, -0.06079475209116936, -0.02169431932270527, -0.02176479808986187, 0.007477928884327412, 0.027323024347424507, -0.05304201319813728, 0.01339570339769125, -0.05537253990769386, -0.001930002123117447, 0.02964022569358349, -0.06960803270339966, -0.046671610325574875, -0.01911521516740322, -0.009293420240283012, -0.03456202149391174, -0.018079882487654686, 0.036864519119262695, -0.0012597995810210705, -0.09936412423849106, 0.06439182907342911, -0.00041896221227943897, 0.09064950048923492, -0.02707294374704361, 0.009952854365110397, -0.05062475800514221, 0.02903185598552227, 0.0203578881919384, -0.03800984099507332, -0.042871493846178055, 0.06109573319554329, 0.021535277366638184, 0.034726403653621674, 0.07215245068073273, -0.0065856631845235825, 0.005542417522519827, 0.016127318143844604, 0.031543415039777756, -0.04161583632230759, 0.03996136784553528, -0.04057776555418968, -0.004710020497441292, 0.04964089021086693, -0.08187317103147507, 0.04539159685373306, -0.016892751678824425, -0.01381616946309805, -0.005038839299231768, -0.0014997606631368399, 0.006569871213287115, -0.048616647720336914, -0.028448760509490967, -0.04167875275015831, 0.04419810324907303, 0.0494367852807045, 0.05862070620059967, 0.005364862736314535, -0.036431461572647095, -0.04887623339891434, -0.005404295399785042, -0.0008802908123470843, 0.008564049378037453, -0.03054686263203621, -0.016779625788331032, -0.004894975107163191, 0.019562339410185814, -0.036706626415252686, -0.06180104985833168, -0.024659495800733566, 0.029733220115303993, -0.0059394389390945435, 0.033224377781152725, -0.08275990188121796, 0.00902053527534008, -0.060205575078725815, 0.005403844639658928, 0.026842650026082993, -0.060339685529470444, -0.029713870957493782, 0.01819133572280407, -0.038722146302461624, 0.03932126238942146, -0.03528660908341408, 0.008110091090202332, -0.004714835435152054, 0.007136504165828228, -0.021408217027783394, -0.005587182007730007, 0.02781907096505165, 0.021373949944972992, 0.03611033037304878, 0.020554516464471817, -0.08395946770906448, 0.023912373930215836, -0.05714443325996399, 0.009792428463697433, 0.044518884271383286, 0.007100655231624842, -0.027770979329943657, 0.016992783173918724, 0.04737522453069687, 0.06809353083372116, -0.00019565568072721362, -0.004441631957888603, 0.031208081170916557, 0.06690939515829086, -0.010929185897111893, 0.09682668745517731, 0.06298848986625671, -0.041018471121788025, 0.06247822195291519, -0.028651650995016098, 0.05737679451704025, -0.0588017962872982, -0.046059541404247284, -0.0143499244004488, -0.033585868775844574, 0.05544870346784592, -0.015127766877412796, 0.08876898139715195, -0.005903666373342276, 0.002485444536432624, 0.019940689206123352, 0.0008053801138885319, 0.01441322360187769, 0.0040586418472230434, -0.05625687912106514, 0.0021947678178548813, -0.09546700865030289, -0.022985201328992844, 0.0031057880260050297, -0.01698724366724491, 0.004930713213980198, 0.04002886265516281, 0.04259123653173447, 0.017754513770341873, 0.05358225479722023, -0.045130904763936996, 0.0342431403696537, 0.006542402785271406, 0.0018902752781286836, -0.026071593165397644, 0.002547904383391142, 0.04123842716217041, 0.018557442352175713, -0.01577751711010933, -0.016929229721426964, -0.002562213223427534, -0.053844451904296875, -0.0007288946653716266, 0.03386455029249191, -0.010895252227783203, -0.011280412785708904, -0.04821479693055153, 0.027047013863921165, -0.08805593848228455, -0.0004055548051837832, 0.023710187524557114, 0.0591958723962307, 0.003864040831103921, 0.024857647716999054, 0.009202336892485619, 0.00699947914108634, -0.003516887780278921, 0.006611422169953585, -0.0031009705271571875, -0.008650114759802818, -0.016382256522774696, 0.06166853383183479, -0.0238704401999712, -0.061245374381542206, 0.024479471147060394, -0.05609503015875816, 0.010645503178238869, -0.024609839543700218, 0.04669906198978424, -0.030122805386781693, -0.03578953817486763, 0.026101160794496536, 0.04808291792869568, 0.009525108151137829, 0.0692913755774498, -0.013939300552010536, 0.005910647101700306, -0.025529656559228897, -0.01730097085237503, 0.013714606873691082, -0.008788680657744408, 0.021419042721390724, 0.03856406733393669, -0.01721537858247757, -0.043417301028966904, -0.019803375005722046, -0.10212904959917068, -0.012327481061220169, -0.006407886743545532, -0.019702555611729622, 0.016393166035413742, -0.002327545778825879, -0.019341260194778442, 0.04758162796497345, -0.03316308557987213, 0.0391104482114315, 0.02070087566971779, -0.006487686652690172, 0.02158157154917717, 0.002902944339439273, -0.0465187132358551, 0.04314783215522766, -0.053142812103033066, -0.020095720887184143, -0.027058329433202744, 0.006393049843609333, -0.013780501671135426, -0.0219398383051157, 0.039064016193151474, 0.03066697157919407, -0.017233895137906075, 0.08269473165273666, -0.015049383044242859, 0.05905865132808685, 0.04958038404583931, -0.020808279514312744, -0.047244079411029816, -0.04602060467004776, 0.03619539737701416, -0.010496875271201134, -0.02654597908258438, 0.046307068318128586, -0.017903979867696762, -0.00619701761752367, 0.016223985701799393, 0.009544719010591507, 0.061220165342092514, 0.047247327864170074, 0.008492999710142612, 0.05044669657945633, -0.01451351772993803, -0.02069452777504921, -0.09931164979934692, 0.04265638440847397, 0.02811443991959095, -0.06055904179811478, -0.0195216853171587, 0.03841855004429817, -0.035704247653484344, -0.024180563166737556, -0.0016987266717478633, 0.03730611130595207, 0.0010374638950452209, -0.0435454435646534, 0.03755441680550575, 0.026466792449355125, 0.0363587886095047, -0.03700351342558861, 0.03753307834267616, 0.028180763125419617, 0.021197229623794556, -0.034339651465415955, -0.016957588493824005, 0.0008920490508899093, -0.05596083775162697, 0.012646755203604698, -0.005874767433851957, 0.06236279383301735, 0.0006763602141290903, 0.026621561497449875, -0.045414552092552185, 0.008138244040310383, 0.06090382859110832, -0.05772998929023743, -0.028934547677636147, 0.008294207975268364, -0.03787573054432869, -0.038500722497701645, 0.02685481309890747, 0.009138953872025013, 0.015571425668895245, -0.0027312797028571367, -0.005308740306645632, 0.03061557374894619, -0.009863930754363537, -0.023335251957178116, 0.0364791601896286, -0.004998263902962208, 0.023827068507671356, -0.02564051002264023, 0.03666060417890549, 0.04439873620867729, 0.018339553847908974, -0.0025848890654742718, 0.03474201261997223, -0.016050973907113075, -0.02912808209657669, 0.0682411938905716, 0.0026296840514987707, -0.04318071901798248, 0.04441095516085625, 0.0006596703897230327, 0.030809128656983376, -0.023313773795962334, -0.029112227261066437, -0.06724662333726883, 0.06617425382137299, 0.029170632362365723, 0.04589563235640526, 0.023825636133551598, 0.06531322747468948, 0.05308419093489647, 0.0688755214214325, 0.022917883470654488, 0.017507338896393776, -0.009591720066964626, 0.03464915230870247, -0.04116934537887573, -0.020219260826706886, -0.03375215828418732, -0.004797660280019045, -0.005552453454583883, -0.005226517096161842, 0.02336585521697998, 0.014569226652383804, -0.02306441403925419, 0.04970468208193779, -0.02815340831875801, 0.05277194082736969, -0.019670603796839714, 0.008508799597620964, 0.0028187325224280357, -0.023471089079976082, 0.020496493205428123, 0.0015766337746754289, 0.023480454459786415, 0.07185684144496918, -0.006043125409632921, -0.017987215891480446, -0.017142515629529953, 0.07469999045133591, 0.02968590147793293, -0.012686499394476414, 0.040809787809848785, -0.018495943397283554, -0.026076972484588623, -0.001863028621301055, 0.01972309686243534], 'text': 'Elizabeth I (7 September 1533 – 24 March 1603) was Queen of England and Ireland from 17 November 1558 until her death in 1603. She was the last monarch of the House of Tudor.'}, {'id': 'Elizabeth I', 'type': 'Person'}, {'id': 'Queen of England and Ireland', 'type': 'Monarchy'}, {'id': 'House of Tudor', 'type': 'Monarchy'}], 'relationships': [{'source': 'Elizabeth I', 'target': 'Queen of England and Ireland', 'type': 'REIGNED'}, {'source': 'Elizabeth I', 'target': 'House of Tudor', 'type': 'LAST_MONARCH_OF'}, {'source': 'Chunk_0', 'target': 'Elizabeth I', 'type': 'CONTAINS_ENTITY'}, {'source': 'Chunk_0', 'target': 'Queen of England and Ireland', 'type': 'CONTAINS_ENTITY'}, {'source': 'Chunk_0', 'target': 'House of Tudor', 'type': 'CONTAINS_ENTITY'}], 'source': {'page_content': \"Elizabeth I (7 September 1533 – 24 March 1603) was Queen of England and Ireland from 17 November 1558 until her death in 1603. She was the last monarch of the House of Tudor. Elizabeth was the only surviving child of Henry VIII and his second wife, Anne Boleyn. When Elizabeth was two years old, her parents' marriage was annulled, her mother was executed, and Elizabeth was declared illegitimate. Henry restored her to the line of succession when she was 10, via the Third Succession Act 1543. After\", 'metadata': {'metadata': {'title': 'Elizabeth I', 'source': 'https://en.wikipedia.org/wiki/Elizabeth_I'}}}}\n",
      "{'nodes': [{'id': 'Chunk_1', 'type': 'Chunk', 'embedding': [0.014922123402357101, -0.05962907522916794, 0.014102352783083916, 0.01297618169337511, 0.01694386638700962, 0.030393511056900024, -0.03317851573228836, -0.0015765962889418006, 0.047500476241111755, -0.008467336185276508, -0.025399023666977882, -0.019468428567051888, 0.011350584216415882, -0.09017905592918396, -0.040892694145441055, 0.027845757082104683, -0.04326978325843811, 0.00483325170353055, 0.012433099560439587, -0.026907287538051605, 0.007026223465800285, 0.0031138830818235874, 0.058031562715768814, -0.016632163897156715, -0.004568618722259998, 0.010627235285937786, -0.002060661092400551, 0.0851110890507698, -0.007476354483515024, 0.053834956139326096, 0.03141987323760986, -0.03425851836800575, -0.014002811163663864, -0.028836915269494057, 0.0028659373056143522, 0.03994947299361229, -0.007603362202644348, 0.00483898026868701, -0.02216425910592079, 0.000984755577519536, -0.03862692415714264, 0.05879063904285431, 0.0024999792221933603, -0.008600887842476368, 0.06949427723884583, 0.06289469450712204, 0.05178619176149368, -0.01651293784379959, 0.014294260181486607, -0.05492755398154259, 0.0065969484858214855, -0.03837287053465843, -0.007098868023604155, 0.030012253671884537, 0.02282652258872986, -0.018679235130548477, 0.03022017329931259, -0.009373530745506287, 0.0199374221265316, -0.002373697469010949, 0.057282932102680206, 0.028557009994983673, 0.010580956935882568, 0.027064906433224678, -0.009101450443267822, -0.02739761956036091, 0.019315296784043312, 0.043026287108659744, 0.020761145278811455, 0.011029906570911407, -0.013200457207858562, 0.013240788131952286, 0.007923586294054985, -0.022025879472494125, -0.04879037290811539, 0.05873242765665054, 0.04573145508766174, 0.0009289219742640853, 0.024097049608826637, -0.005824525374919176, 0.021108755841851234, -0.017355842515826225, 0.030321897938847542, 0.023440171033143997, -0.04890305548906326, 0.08761421591043472, -0.05046157166361809, 0.024372542276978493, -0.025082135573029518, 0.03507009893655777, -0.04499363526701927, 0.010212119668722153, 0.0046022511087358, -0.013638673350214958, 0.03331347554922104, -0.030969152227044106, -0.05406106263399124, -0.010966853238642216, -0.026040174067020416, -0.1134396567940712, -0.13700610399246216, 0.009760311804711819, -0.05391928181052208, 0.00836917757987976, 0.028654076159000397, 0.0022052826825529337, -0.0315825380384922, 0.0066415597684681416, 0.018862605094909668, -0.007833954878151417, 0.020633639767766, 0.008323191665112972, 0.0061821346171200275, 0.027346111834049225, -0.03611713647842407, 0.01071835495531559, 0.04419378563761711, -0.056933097541332245, -0.012307092547416687, -0.004602733068168163, 0.03184502571821213, -0.012593897059559822, 0.041253890842199326, 0.020373770967125893, -0.02370908483862877, -0.002035635756328702, -0.010050440207123756, 0.017499614506959915, -0.0026163298171013594, -0.009875517338514328, -0.005990955512970686, 0.01907331869006157, 0.003468404756858945, 0.022691160440444946, 0.038764044642448425, -0.029908938333392143, 0.04235829785466194, 0.025269335135817528, -0.020258581265807152, -0.025687500834465027, -0.03471691533923149, -0.02769920788705349, -0.006645889487117529, 0.04182962328195572, -0.028267694637179375, -0.00481434166431427, -0.002737352391704917, -0.09381531178951263, 0.02698344737291336, -0.016974974423646927, -0.025989146903157234, -0.06882897764444351, 0.005766207352280617, -0.017823476344347, -0.025432858616113663, 0.024347690865397453, 0.007695531006902456, 0.028963685035705566, 0.07370409369468689, -0.05722695589065552, 0.038201235234737396, 0.0346013568341732, -0.005448377691209316, 0.06938508152961731, 0.01297399029135704, -0.06990709155797958, 0.02094413712620735, -0.018976088613271713, -0.039580848067998886, 0.02727765031158924, 0.01790769211947918, -0.013726477511227131, 0.012964576482772827, -0.00045829330338165164, -0.03733629360795021, -0.03429699316620827, -0.022998301312327385, 0.0707327127456665, 0.004795805085450411, -0.02366444654762745, 0.025740884244441986, 0.06050055846571922, -0.054241813719272614, 0.00547054735943675, 0.07566814124584198, -0.018746210262179375, -0.02304399386048317, -0.023040929809212685, -0.023046890273690224, -0.012538098730146885, -0.007591538596898317, -0.010559032671153545, 0.013344726525247097, 0.002701109042391181, -0.023704856634140015, -0.012784338556230068, -0.02601223811507225, 0.0467747300863266, -0.012430906295776367, -0.02873711846768856, 0.062461115419864655, 0.03523794934153557, -0.015884369611740112, 0.00299463071860373, -0.0026857664342969656, -0.05573710426688194, -0.04642641171813011, 0.02159794233739376, -0.026257826015353203, -0.07072720676660538, -0.01044938713312149, -0.025320768356323242, 0.01741207391023636, 0.019313862547278404, -0.03768319636583328, -0.0020981840789318085, 0.00511585408821702, -0.0038473019376397133, -0.014542452991008759, -0.05012592300772667, 0.009175929240882397, -0.06596711277961731, 0.022213850170373917, -0.03695545718073845, -0.06092460826039314, 0.022276442497968674, -0.009103306569159031, -0.05500682070851326, -0.028198279440402985, 0.07593954354524612, -0.007101651281118393, -0.021114405244588852, 0.0050012352876365185, -0.016113093122839928, 0.03722585737705231, -0.02437218278646469, -0.019036391749978065, 0.006779049523174763, -0.03620585799217224, -0.09197857230901718, -0.010722716338932514, 0.05019143223762512, -0.02887212671339512, -0.03903502598404884, -0.009295701049268246, -0.0032419452909380198, 0.05598608776926994, -0.011825760826468468, -0.015015779994428158, -0.02415996976196766, -0.08404231816530228, -0.004565814509987831, 0.021286245435476303, -0.011461191810667515, -0.0436682254076004, 0.0024920632131397724, 0.04026802256703377, -0.03019738383591175, -0.0021110388915985823, -0.03263670578598976, -0.08884964138269424, 0.01626453548669815, -0.04071047529578209, 0.006026012357324362, -0.011748271062970161, -0.04737621918320656, -0.018773596733808517, -0.03636511415243149, 0.011536524631083012, -0.021458614617586136, 0.03803195059299469, 0.011704818345606327, 0.010985232889652252, 0.011633667163550854, -0.0033090594224631786, -0.029517071321606636, -0.0009658702765591443, -0.07237277925014496, 0.003793577430769801, 0.005245121195912361, 0.007118844892829657, -0.005591772962361574, 0.012117967940866947, -0.00946858897805214, -0.034597814083099365, 0.01576104573905468, 0.03783001750707626, 0.07345189154148102, 0.08393651247024536, -0.01078732404857874, -0.003621948417276144, -0.01996164582669735, -0.018946204334497452, 0.07166767120361328, -0.009396863169968128, -0.028094107285141945, -0.04653165861964226, -0.037635963410139084, -0.030266528949141502, -0.024049894884228706, -0.00011970713967457414, 0.02289002202451229, -0.0014519629767164588, -0.002116772346198559, 0.00640002079308033, 0.02122863195836544, 0.05960175767540932, 0.04971688240766525, -0.038766562938690186, -0.08676421642303467, -0.028788579627871513, -0.05145688354969025, -0.03837674856185913, 0.003416849533095956, 0.040663547813892365, 0.06667624413967133, -0.00046100839972496033, -0.06286980956792831, -0.0101110078394413, 0.045342493802309036, 0.03823031857609749, 0.04685483127832413, -0.029169447720050812, -0.0018007849575951695, 0.05113736540079117, 0.006226681638509035, 0.03841008245944977, 0.06885799020528793, -0.01783478446304798, -0.01942908577620983, 0.004739787895232439, -0.06924012303352356, -0.027022236958146095, -0.03999204933643341, 0.051697440445423126, 0.003673055674880743, -0.011035225354135036, 0.07267854362726212, -0.03916669636964798, -0.009510491974651814, 0.03968886286020279, -0.00453170808032155, 0.0031060888431966305, -0.06242185831069946, -0.025230860337615013, 0.016593221575021744, -0.0481557622551918, 0.007428453769534826, -0.04150242730975151, 0.02561379037797451, -0.043993886560201645, -0.0017738266615197062, 0.03918939456343651, -0.0035102874971926212, 0.021936504170298576, 0.0420648455619812, -0.0163451936095953, 0.019080042839050293, 0.013022816739976406, -0.028101667761802673, 0.020227594301104546, 0.028976891189813614, 0.028797263279557228, 0.07762820273637772, 0.009625870734453201, -0.02178020216524601, 0.0039949542842805386, -0.020003966987133026, -0.012414305470883846, 0.03079996444284916, 0.01215833518654108, -0.03132662549614906, -0.0022568167187273502, 0.06224139779806137, 0.012553248554468155, 0.020422879606485367, 0.001016776543110609, 0.0010569278383627534, -0.030710263177752495, 0.008026883006095886, -0.0025852415710687637, -0.03232468292117119, -0.02986891008913517, 0.03700348362326622, -0.036288391798734665, 0.0303159449249506, -0.01592209003865719, -0.026533879339694977, -0.0014958193060010672, -0.038618478924036026, 0.002323209075257182, 0.004580176435410976, -0.06541933864355087, -0.02919156476855278, 0.056573279201984406, -0.05047905817627907, 0.013837340287864208, 0.04254046827554703, -0.022380976006388664, -0.018128979951143265, -0.06177278608083725, -0.0017823987873271108, 0.023464038968086243, 0.05477616935968399, -0.04187660664319992, 0.008306425996124744, 0.008590996265411377, -0.03307986631989479, -0.014087523333728313, 0.026489658281207085, 0.02921864576637745, -0.046362925320863724, -0.060121964663267136, -0.0032423583324998617, -0.02320527285337448, 0.03931908309459686, 0.04079873487353325, -0.019799763336777687, 0.016201874241232872, 0.09456677734851837, 0.04780246317386627, -0.019429324194788933, -0.06468642503023148, 0.007581070531159639, -0.009660114534199238, -0.02593933790922165, -0.012116470374166965, -0.0013542314991354942, 0.043073348701000214, 0.017971590161323547, -0.02853097952902317, -0.051957715302705765, -0.0034442711621522903, 0.02810676395893097, -0.046116072684526443, 0.011881052516400814, 0.015066873282194138, -0.04341527074575424, 0.003870817832648754, -0.037895504385232925, -0.028257446363568306, -0.004127271939069033, -0.004586194176226854, 0.08884734660387039, -0.013634152710437775, 0.10805237293243408, 0.028927994892001152, 0.03923313319683075, -0.028875071555376053, 0.03763897716999054, -0.0019448917591944337, 0.02462756261229515, 0.017628300935029984, 0.013879501260817051, 0.015085208229720592, 0.014165607281029224, 0.01646137796342373, -0.023228192701935768, 0.0163106732070446, -0.01982978545129299, -0.005338209215551615, -0.016760846599936485, 0.05540556088089943, -0.05385001003742218, -0.054072242230176926, -0.04416150227189064, -0.08159568905830383, 0.027479344978928566, -0.040519848465919495, 0.0009570249821990728, -0.0026235305704176426, -0.039865486323833466, 0.014052808284759521, -0.03582025319337845, -0.013509882614016533, -0.02169523760676384, 0.025584641844034195, -0.036659762263298035, 0.03199281916022301, -0.026519330218434334, -0.021264875307679176, 0.016200916841626167, -0.01126206386834383, -0.041375163942575455, -0.026546809822320938, 0.010633022524416447, -0.05757647380232811, 0.01949727162718773, 0.04701908305287361, 0.0322297103703022, -0.07580076903104782, -0.03560455143451691, 0.06781142950057983, -0.05168100446462631, 0.012739763595163822, -0.07764248549938202, -0.00215875543653965, 0.028775352984666824, -0.02019125409424305, 0.04384779930114746, -0.0070282407104969025, -0.02655293419957161, -0.003006654791533947, -0.05549267306923866, 0.04159657657146454, 0.018699370324611664, -0.03245939314365387, -0.03258040174841881, 0.00968556385487318, -0.013280639424920082, 0.020509785041213036, -0.007960922084748745, 0.04077770933508873, 0.09227587282657623, -0.025714457035064697, -0.06739995628595352, -0.005293077789247036, 0.009221188724040985, 0.07608428597450256, 0.040211863815784454, -0.010008609853684902, -0.03868009150028229, 0.0030843240674585104, 0.0437312051653862, 0.0007578785298392177, -0.014020606875419617, -0.03810613602399826, 0.05568158999085426, 0.03155212104320526, -0.016304772347211838, 0.03288077190518379, 0.0427171066403389, -0.04032174125313759, 0.06744759529829025, 0.015709446743130684, 0.01110446359962225, -0.0188970398157835, -0.017812784761190414, -0.054736677557229996, -0.02566656284034252, 0.044492002576589584, -0.002698753494769335, 0.006854973267763853, 0.029818568378686905, -0.012080958113074303, -0.014668511226773262, 0.00745890149846673, 0.045687004923820496, 0.010654090903699398, -0.0029190261848270893, 0.00508915726095438, -0.0652427151799202, 0.005048684310168028, -0.026738395914435387, 0.04703808203339577, -0.0036502250004559755, 0.027710024267435074, 0.005315704736858606, 0.02197631448507309, -0.04939690977334976, -0.0003137479070574045, 0.03987715393304825, -0.030165737494826317, 0.007941637188196182, -0.06556931883096695, -0.025353116914629936, 0.035881634801626205, 0.040709979832172394, -0.010789007879793644, 0.013898086734116077, -0.02791726589202881, -0.04786301776766777, -0.0038492160383611917, 0.013250499963760376, 0.004110334441065788, 0.044437166303396225, -0.0013653431087732315, -0.02674145996570587, -0.053645145148038864, 0.0038225024472922087, 0.01653067022562027, -0.027434872463345528, -0.053181953728199005, 0.024745652452111244, -0.004589601885527372, -0.020096905529499054, -0.019963180646300316, 0.028376061469316483, -0.0193095151335001, -0.02530800551176071, -0.013672653585672379, 0.03548615425825119, -0.007414776366204023, -0.05321445316076279, 0.02468561753630638, -0.035687100142240524, -0.0001598516828380525, -0.005488687194883823, 0.0712013989686966, 0.04884800687432289, -0.006707655731588602, -0.029213402420282364, 0.06783922761678696, -0.006065955385565758, 0.03577817603945732, 0.021014871075749397, -0.00442635640501976, -0.013392633758485317, -0.02331244759261608, 0.06770992279052734, 0.03582906350493431, 0.07419072836637497, -0.007333557587116957, -0.050395574420690536, -0.06400997936725616, 0.047645922750234604, -0.021667301654815674, -0.03522564470767975, -0.013776570558547974, -0.0438060462474823, 0.0374336913228035, 0.05516026169061661, 0.022763000801205635, 0.012483245693147182, -0.0858231782913208, 0.07808713614940643, 0.029907459393143654, 0.01705223321914673, -0.02675909921526909, 0.001849700347520411, -0.023043949156999588, 0.03300970792770386, -0.07676617801189423, 0.035390231758356094, -0.01554164383560419, -0.01110098510980606, -0.027679111808538437, -0.0011459632078185678, 0.04613685607910156, 0.02047210931777954, -0.04558207467198372, 0.08771444112062454, 0.006539017893373966, 0.03474811092019081, -0.026597583666443825, -0.04169371351599693, -0.040954723954200745, -0.03667094558477402, -0.010366562753915787, -0.010606067255139351, -0.05069766566157341, 0.030493006110191345, 0.04314436763525009, 0.038548942655324936, 0.015335163101553917, 0.0770275741815567, 0.0962197408080101, 0.017285190522670746, 0.0870090201497078, -0.009957980364561081, -0.008061355911195278, -0.0033066237810999155, -0.02758973464369774, 0.0027478274423629045, -0.0014524504076689482, -0.022523069754242897, -0.03234247863292694, -0.009306776337325573, -0.029315967112779617, -0.03615111485123634, 0.016350310295820236, 0.057757001370191574, 0.040750063955783844, -0.08974672108888626, 0.007144969422370195, 0.04892224818468094, 0.0031657186336815357, 0.005490987095981836, 0.0015825674636289477, 0.01165581401437521, 0.07214496284723282, -0.0027971030212938786, 0.018902666866779327, 0.021605290472507477, -0.051109958440065384, -0.012923337519168854, -0.024170147255063057, 0.07799231261014938, 0.002367381239309907, 0.06430311501026154, -0.031521379947662354, 0.030909713357686996, -0.0438261404633522, 0.018107708543539047, -0.00958830863237381, 0.019539501518011093, -0.03732792288064957, 0.03747754544019699, 0.015695881098508835, 0.015251830220222473, 0.009165921248495579, 0.0014337787870317698, -0.039661988615989685, 0.06048210710287094, -0.031782448291778564, 0.023362552747130394, 0.0027765759732574224, 0.019325198605656624, 0.06943196058273315, 0.01546149980276823, 0.012215991504490376, -0.008836853317916393, -0.0154452258720994, -0.0006214646273292601, 0.09184148162603378, -0.08216386288404465, 0.006313719786703587, 0.07658031582832336, 0.012769722379744053, -0.08304720371961594, 0.01206240989267826, 0.031019937247037888, 0.036340415477752686, -0.02259860560297966, -0.0027371039614081383, -0.03163719177246094, 0.02159385196864605, 0.008595974184572697, 0.02748710848391056, 0.028085140511393547, 0.0024693275336176157, 0.023498214781284332, 0.005289885681122541, 0.0023844202514737844, 0.0749305933713913, -0.02155418135225773, 0.05942028388381004, -0.020189780741930008, 0.04966028779745102, -0.0217422004789114, 0.03331441059708595, -0.02075933665037155, -0.037017982453107834, -0.0012135045835748315, -0.03899472579360008, 0.020526159554719925, 0.02370464615523815, 0.020623430609703064, 0.09581245481967926, -0.011654944159090519, -0.007620096206665039, 0.04095479100942612, -0.023914532735943794, 0.010603351518511772, 0.03270542994141579, 0.04345341771841049, 0.0577206052839756, 0.020774366334080696, -0.06190187856554985, -0.02632863074541092, 0.02240322344005108, -0.007301732897758484, -0.00632476108148694, 0.025082876905798912, -0.05945867300033569, -0.008549414575099945, 0.0040227812714874744, 0.004022800829261541], 'text': \"Elizabeth was the only surviving child of Henry VIII and his second wife, Anne Boleyn. When Elizabeth was two years old, her parents' marriage was annulled, her mother was executed, and Elizabeth was declared illegitimate.\"}, {'id': 'Elizabeth', 'type': 'Person'}, {'id': 'Henry VIII', 'type': 'Person'}, {'id': 'Anne Boleyn', 'type': 'Person'}], 'relationships': [{'source': 'Elizabeth', 'target': 'Henry VIII', 'type': 'PARENT'}, {'source': 'Elizabeth', 'target': 'Anne Boleyn', 'type': 'PARENT'}, {'source': 'Henry VIII', 'target': 'Anne Boleyn', 'type': 'MARRIED'}, {'source': 'Anne Boleyn', 'target': 'Elizabeth', 'type': 'DECLARED_ILLEGITIMATE'}, {'source': 'Chunk_1', 'target': 'Elizabeth', 'type': 'CONTAINS_ENTITY'}, {'source': 'Chunk_1', 'target': 'Henry VIII', 'type': 'CONTAINS_ENTITY'}, {'source': 'Chunk_1', 'target': 'Anne Boleyn', 'type': 'CONTAINS_ENTITY'}], 'source': {'page_content': \"Elizabeth I (7 September 1533 – 24 March 1603) was Queen of England and Ireland from 17 November 1558 until her death in 1603. She was the last monarch of the House of Tudor. Elizabeth was the only surviving child of Henry VIII and his second wife, Anne Boleyn. When Elizabeth was two years old, her parents' marriage was annulled, her mother was executed, and Elizabeth was declared illegitimate. Henry restored her to the line of succession when she was 10, via the Third Succession Act 1543. After\", 'metadata': {'metadata': {'title': 'Elizabeth I', 'source': 'https://en.wikipedia.org/wiki/Elizabeth_I'}}}}\n",
      "{'nodes': [{'id': 'Chunk_2', 'type': 'Chunk', 'embedding': [-0.021909847855567932, -0.028176037594676018, -0.0013765658950433135, 0.02683977410197258, 0.05989731475710869, -0.020068079233169556, -0.06459958106279373, 0.015200730413198471, -0.0006635635509155691, 0.00023892373428680003, 0.02982904389500618, 0.0022761293221265078, 0.07520682364702225, -0.10490420460700989, -0.06160383298993111, 0.0328180268406868, -0.012982388958334923, 0.032565899193286896, -0.0261368528008461, 0.014124629087746143, -0.021768741309642792, -0.002292471472173929, 0.02663300186395645, 0.01358601450920105, 0.02207409404218197, 0.02544202283024788, 0.005949608515948057, -0.001019289018586278, -0.02559938281774521, 0.04958353191614151, 0.037369128316640854, -0.027898959815502167, 0.039483457803726196, -0.03589070960879326, 0.009288097731769085, -0.023252639919519424, -0.010627234354615211, 0.03248848021030426, -0.014828216284513474, -0.01260356791317463, -0.10052725672721863, -0.014090166427195072, -0.005272441077977419, 0.031270161271095276, -0.022134410217404366, 0.1399225890636444, 0.015609829686582088, 0.006271529011428356, -0.020247559994459152, -0.03333958238363266, -0.010301969945430756, -0.041341785341501236, 0.03841443732380867, -0.029820239171385765, 0.04583321139216423, -0.052525922656059265, -0.008518056012690067, 0.06740576773881912, 0.045511841773986816, 0.008989050053060055, 0.08266550302505493, 0.04288019239902496, -0.011682912707328796, 0.03453376144170761, -0.016510745510458946, -0.03862068057060242, 0.061417121440172195, 0.05960181728005409, 0.013747151009738445, -0.03761922940611839, 0.022351406514644623, 0.024908849969506264, 0.03588631749153137, 0.002744942670688033, 0.03777700662612915, 0.002429330488666892, -0.034326739609241486, -0.0677734836935997, 0.05534691736102104, 0.0033937988337129354, 0.10730850696563721, -0.0619753934442997, 0.007250228431075811, -0.021650129929184914, -0.03791095316410065, 0.03503742441534996, -0.022534407675266266, 0.027961354702711105, -0.02104807086288929, -0.00239938055165112, 0.03598267212510109, 0.049472615122795105, -0.021142825484275818, -0.037750493735075, 0.0015662534860894084, -0.018849315121769905, -0.017782539129257202, 0.039983559399843216, -0.02139986865222454, -0.04886578395962715, -0.0995025560259819, 0.04106421768665314, -0.02976052276790142, -0.03890688344836235, -0.021515365689992905, 0.04168490320444107, -0.025470247492194176, 0.037647560238838196, -0.006214047782123089, 0.006320617161691189, -0.004242108669131994, 0.009389230981469154, -0.02207738347351551, 0.0030466129537671804, -0.015611100010573864, 0.061777304857969284, 0.02131364494562149, -0.05703167989850044, -0.024791788309812546, -0.04253919795155525, 0.043244000524282455, 0.005695863161236048, 0.055872976779937744, 0.00859779678285122, -0.05078199505805969, 0.022624468430876732, 0.03712555021047592, -0.008213585242629051, -0.009414395317435265, -0.01133759506046772, -0.008130855858325958, -0.01608407124876976, -0.02363484911620617, 0.035333871841430664, 0.009638488292694092, -0.03192831948399544, -0.036020830273628235, 0.01377829909324646, -0.07837774604558945, -0.028780663385987282, -0.01314614899456501, -0.04529754817485809, -0.006088451948016882, 0.023126782849431038, -0.08100735396146774, 0.05778059363365173, 0.01686590537428856, 0.0023234665859490633, 0.023291632533073425, -0.018575837835669518, -0.019418315961956978, -0.09505920857191086, 0.03043314628303051, 0.0006723699043504894, 0.0009953753324225545, 0.022966712713241577, -0.04997836425900459, -0.0036938986741006374, 0.040737248957157135, -0.043840836733579636, 0.045507509261369705, 0.006004241295158863, -0.004208656959235668, 0.03272125869989395, 0.04565638303756714, -0.01181733701378107, 0.020542742684483528, 0.033470410853624344, -0.08809790015220642, 0.009661517105996609, 0.039812441915273666, -0.02461201697587967, 0.0535496287047863, -0.0015792257618159056, -0.002055307850241661, 0.012833014130592346, -0.01077469252049923, 0.005863194819539785, 0.014425557106733322, -0.05847301334142685, 0.030999336391687393, -0.006267891265451908, -0.05742282420396805, -0.0015322541585192084, -0.0005237806471996009, 0.007774513680487871, -0.018855823203921318, 0.020236479118466377, 0.01759999617934227, -0.022303037345409393, 0.005802645348012447, 0.00841173343360424, -0.012494822964072227, 0.0496659092605114, -0.03205123171210289, 0.012482143938541412, 0.0013161352835595608, 0.02189384028315544, -0.052796605974435806, -0.09034936130046844, 0.042138345539569855, -0.008018027059733868, 0.02525285817682743, 0.05295633152127266, 0.03708631172776222, -0.005915455985814333, -0.00544457184150815, -0.024087661877274513, 0.032247938215732574, -0.056962937116622925, -0.005004554986953735, 0.01677773706614971, 0.0327976830303669, 0.03526434674859047, -0.015160287730395794, 0.004799005575478077, 0.02148640714585781, 0.0004955389886163175, 0.011452333070337772, -0.03593302145600319, -0.002861606888473034, -0.017257478088140488, 0.013562103733420372, 0.0022551834117621183, -0.0304565466940403, -0.03985676169395447, -0.018634673207998276, -0.061125848442316055, 0.0013866845984011889, 0.08015162497758865, 0.06202370300889015, -0.009748615324497223, 0.046989601105451584, -0.0016595205524936318, 0.020293183624744415, 0.0008272431441582739, -0.07750070840120316, -0.04183412343263626, 0.003120318055152893, 0.030605008825659752, -0.045575328171253204, 0.01362001895904541, -0.02374500222504139, -0.026167817413806915, 0.06037728115916252, -0.01356765441596508, -0.011837099678814411, 0.003549508983269334, -0.025116421282291412, 0.0016283675795421004, -0.07186650484800339, 0.0057413652539253235, 0.03329625725746155, -0.007749543059617281, -0.04622868075966835, 0.03443344309926033, 0.04396402835845947, -0.07112295180559158, -0.03274238109588623, 0.0347372367978096, -0.056851040571928024, 0.020140431821346283, 0.026043398305773735, 0.003303833771497011, -0.034509189426898956, 0.018683262169361115, 0.041409920901060104, 0.033741727471351624, 0.011690839193761349, -0.03332032263278961, 0.03646799176931381, -0.02792610600590706, 0.043862320482730865, 0.002948403125628829, -0.010928423143923283, -0.0623142309486866, 0.060241445899009705, 0.00341911637224257, 0.02103276178240776, 0.013602438382804394, 0.020899077877402306, -0.007243139203637838, 0.01691954769194126, -0.008982009254395962, -0.021772142499685287, -0.02414005436003208, 0.03769982233643532, 0.022298792377114296, 0.057874564081430435, -0.05813366174697876, 0.06411265581846237, 0.01037669088691473, -0.038818057626485825, 0.04746640473604202, -0.02878248691558838, -0.034733645617961884, -0.07283215969800949, -0.07714016735553741, 0.009365411475300789, 0.043793465942144394, 0.02124941162765026, 0.049698006361722946, -0.021389910951256752, -0.03617986664175987, -0.012986278161406517, 0.006023538764566183, 0.02008277364075184, 0.0793723464012146, -0.01129534188657999, -0.1135779321193695, -0.03533162176609039, -0.0071883369237184525, -0.04495556280016899, -0.049344610422849655, 0.01855936460196972, 0.05245764181017876, 5.673939085681923e-05, -0.044836681336164474, -0.004733849782496691, 0.08064097166061401, 0.012735387310385704, -0.03426302224397659, -0.08048708736896515, 0.01810484193265438, 0.03267950192093849, -0.03946462646126747, -0.0235199723392725, 0.026044584810733795, 0.04808620363473892, -0.006055301986634731, 0.018140902742743492, -0.06458628922700882, 0.014339522458612919, -0.04989561438560486, 0.07257910817861557, 0.03903117775917053, -0.0036256546154618263, 0.08260253816843033, -0.004225410986691713, -0.0019422326004132628, -0.0026462043169885874, -0.019563967362046242, 0.032719772309064865, -0.01938031055033207, 0.014103551395237446, 0.033710964024066925, -0.07121147215366364, -0.010654957965016365, -0.004781059455126524, -0.03936777636408806, -0.026232905685901642, 0.008074701763689518, 0.012905501760542393, -0.03638509660959244, -0.012498119845986366, 0.0784013643860817, 0.02053908072412014, 0.047162897884845734, -0.023787930607795715, -0.010693763382732868, 0.008553208783268929, -0.009490206837654114, 0.0010556427296251059, 0.022207096219062805, 0.0007483816589228809, 0.022093528881669044, 0.00837009772658348, -0.00947633944451809, -0.04845435544848442, 0.05349058285355568, -0.045391373336315155, -0.019340837374329567, 0.028914496302604675, 0.015405803918838501, -0.011312835849821568, 0.0042313700541853905, 0.010915843769907951, -0.05408131703734398, -0.015198715962469578, 0.005006661172956228, -0.03091168776154518, -0.04855295643210411, 0.009288112632930279, 0.0643172487616539, 0.002699482487514615, 0.005397695116698742, 0.016862496733665466, 0.03820670768618584, -0.06620364636182785, 0.016056280583143234, -0.0087606655433774, -0.025391599163413048, -0.056528545916080475, 0.02469429187476635, 0.065798319876194, -0.008669566363096237, 0.016252612695097923, 0.00993444211781025, -0.04323362559080124, 0.0204900074750185, -0.08758282661437988, 0.007494972087442875, -0.004211861174553633, 0.008724892511963844, -0.028035573661327362, -0.021475691348314285, 0.010954600758850574, -0.008634345605969429, 0.005590024869889021, -0.00851469673216343, 0.010797947645187378, -0.01352913398295641, -0.06764603406190872, 0.014024537056684494, 0.0029610961209982634, 0.010499018244445324, 0.06420747190713882, 0.058097951114177704, 0.03713594377040863, 0.07569155097007751, 0.014866722747683525, 0.021672239527106285, -0.05535179376602173, -0.012180198915302753, -0.020621614530682564, -0.014518246054649353, 0.02653719112277031, -0.00402927678078413, 0.017620574682950974, -0.0123439347371459, 0.03143777325749397, 0.0002572400262579322, 0.012360966764390469, 0.0629081279039383, -0.006818659137934446, 0.025684304535388947, -0.013384704478085041, -0.006948006805032492, 0.034503743052482605, -0.02886873669922352, 0.061444833874702454, -0.016142481938004494, -0.03868637979030609, 0.061450619250535965, 0.011412830092012882, 0.08607789874076843, 0.02742123417556286, 0.01639641262590885, -0.004887755960226059, 0.03888045251369476, -0.010384025052189827, -0.02577649988234043, -0.004405198618769646, 0.0077435108833014965, 0.015974175184965134, -0.006747692357748747, 0.0029177553951740265, -0.008777886629104614, 0.020359406247735023, -0.06833519786596298, 0.03015594743192196, 0.013040945865213871, -0.016174117103219032, -0.026266831904649734, 0.0002189753286074847, 0.0014728528913110495, -0.022841181606054306, -0.036431219428777695, 0.0113948630169034, -0.030170299112796783, -0.05328545346856117, -0.007124526426196098, -0.001339969807304442, -0.01649925485253334, -0.04695849493145943, -0.054779499769210815, -0.024266444146633148, 0.06863044947385788, -0.04292749986052513, -0.03131096437573433, -0.035585880279541016, -0.043242860585451126, 0.02444063313305378, -0.038383111357688904, -0.021117819473147392, -0.04270506277680397, -0.00629410520195961, 0.013943309895694256, 0.001019029994495213, -0.00781551469117403, -0.03342993184924126, 0.029873523861169815, 0.04955471679568291, -0.10643649846315384, 0.02027945965528488, -0.06334152072668076, -0.006932477466762066, -0.05783224105834961, -0.05698835104703903, 0.05889788269996643, -0.007447895593941212, -0.024532031267881393, 0.05409038066864014, -0.048155348747968674, -0.028190070763230324, -0.015372981317341328, -0.00864727608859539, -0.014717045240104198, 0.014430155977606773, -0.028490165248513222, -0.029448237270116806, 0.04449211061000824, -0.0014179454883560538, 0.015785956755280495, -0.015426944009959698, -0.06386971473693848, 0.0278460793197155, -0.03720022365450859, 0.10537341237068176, 0.01920764334499836, 0.010263259522616863, -0.032697614282369614, -0.005067094229161739, 0.01009533740580082, 0.022066956385970116, -0.01345711387693882, -0.02444678731262684, -0.0013863578205928206, 0.05918506160378456, -0.01902950182557106, 0.012164236046373844, 0.05215006694197655, 0.027826344594359398, 0.02351941540837288, -0.013759679161012173, -0.059814129024744034, 0.011717524379491806, -0.007568852975964546, -0.029244160279631615, -0.09550274908542633, 0.020160621032118797, -0.004102182574570179, 0.009665860794484615, -0.025387629866600037, -0.05298544093966484, -0.004450547508895397, 0.00034678488736972213, 0.04123646765947342, 0.004368477500975132, -0.05000817030668259, -0.015468793921172619, -0.10503727197647095, -0.023193690925836563, 0.01467178575694561, -0.004024268593639135, 0.0030782953836023808, 0.05619248375296593, 0.03779496252536774, 0.036156781017780304, 0.029124613851308823, 0.0036523358430713415, -0.004257800988852978, 0.026577545329928398, -0.006847314536571503, 0.0005285009974613786, -0.009278959594666958, -0.009600318036973476, 0.035972680896520615, -0.019703863188624382, 0.029549527913331985, -0.0015721104573458433, -0.023230772465467453, 0.016614697873592377, -0.046345315873622894, -0.01550421305000782, 0.026939306408166885, -0.023766901344060898, -0.024245183914899826, -0.05546827241778374, 0.01680389791727066, 0.02330632321536541, 0.0260421484708786, -0.0007647870224900544, 0.02237403206527233, -0.07332736253738403, -0.024656599387526512, 0.017465682700276375, -0.031759630888700485, 0.0057913921773433685, -0.07471774518489838, 0.023322658613324165, 0.08120603859424591, -0.03333969786763191, -0.013449892401695251, -0.003457453101873398, -0.041380904614925385, -0.05369957163929939, -0.0030949129723012447, 0.0231833104044199, 0.03477390110492706, -0.012884780764579773, -0.025275034829974174, 0.019366299733519554, -0.0011084114667028189, 0.05114232748746872, -0.04179983213543892, -0.04833386465907097, -0.026640668511390686, -0.022330237552523613, 0.023968443274497986, 0.03960561007261276, 0.02879491075873375, 0.0057723685167729855, -0.03612305596470833, -0.0017344127409160137, 0.01371199730783701, -0.017884323373436928, -0.027421576902270317, -0.02869146689772606, -0.049190595746040344, -0.00755934277549386, -0.0010278179543092847, 0.030719568952918053, 0.046932924538850784, -0.02147945575416088, 0.08058729022741318, -0.0011479317909106612, -0.003915716428309679, 0.015799609944224358, -0.016857465729117393, 0.007774838246405125, 0.07947836071252823, -0.10269653797149658, -0.003074154956266284, -0.039365123957395554, 0.014834225177764893, -0.05945120006799698, 0.02684391662478447, 0.0016650027828291059, 0.019811471924185753, -0.048392508178949356, 0.012433252297341824, 0.04172171652317047, 0.039907895028591156, 0.0262302178889513, -0.03209495544433594, 0.017495011910796165, 0.03188034147024155, -0.00012639704800676554, 0.006361156236380339, -0.045449335128068924, 0.05910685658454895, 0.004705494269728661, 0.005715879146009684, 0.035555969923734665, 0.05365181714296341, 0.06209786236286163, 0.002317904494702816, 0.05680049955844879, 0.02755313366651535, -0.0274798683822155, 0.028480511158704758, -0.07050110399723053, 0.0025468124076724052, 0.010846848599612713, -0.016407104209065437, 0.00302007794380188, 0.02243584208190441, -0.012462201528251171, 0.02001780830323696, -0.00936964713037014, 0.04555276781320572, 0.02520415373146534, -0.023156506940722466, -0.0037870649248361588, 0.025161627680063248, 0.00034156482433900237, -0.0031392185483127832, 0.0019983318634331226, -0.06140304356813431, 0.07640951126813889, -0.011427165009081364, 0.016701707616448402, 0.11331810057163239, -0.02971099503338337, -0.0019087119726464152, 0.01593051664531231, 0.015349346213042736, -0.004975672345608473, -0.020263828337192535, -0.02752542495727539, 0.019871706143021584, -0.0292380228638649, 0.011108536273241043, -0.040300402790308, -0.015532324090600014, -0.010054719634354115, 0.03385879099369049, -0.002381108235567808, 0.019955061376094818, -0.035017404705286026, -0.013459053821861744, -0.006606415379792452, 0.04372655600309372, -0.05971163511276245, 0.040474146604537964, -0.0063393195159733295, 0.009761451743543148, 0.00337310042232275, 0.02136741578578949, 0.014232411049306393, 0.00963690597563982, -0.042597826570272446, -0.01193072646856308, 0.04023391753435135, -0.05185340717434883, 0.004087027162313461, -0.0077619776129722595, -0.020864881575107574, 0.05587054044008255, 0.009282265789806843, 0.02617235854268074, 0.0294705368578434, -0.029901666566729546, -0.02396075800061226, -0.07444609701633453, 0.018092956393957138, 0.009625674225389957, 0.04328271746635437, 0.0040006921626627445, 0.0478738434612751, 0.05262330546975136, 0.016059361398220062, 0.008320141583681107, 0.04141179099678993, -0.03650963678956032, 0.02214139513671398, -0.007024435792118311, 0.025777161121368408, 0.003496037097647786, 0.0023352832067757845, -0.02180204540491104, 0.006013472098857164, 0.019572991877794266, 0.017956506460905075, -0.04378176108002663, 0.024092115461826324, -0.031213413923978806, -0.03666791319847107, -0.010690618306398392, -0.027203790843486786, 0.009061046876013279, 0.033594392240047455, 0.0359201543033123, 0.014700458385050297, 0.03053351864218712, 0.039824455976486206, -0.015160704031586647, -0.08151072263717651, -0.0041594491340219975, 0.014298315159976482, 0.007752432022243738, -0.025104066357016563, 0.11722337454557419, 0.022937560454010963, -0.008547025732696056, -0.01501766499131918, 0.012734859250485897], 'text': 'Henry restored her to the line of succession when she was 10, via the Third Succession Act 1543. After'}, {'id': 'Henry', 'type': 'Person'}, {'id': 'Third Succession Act 1543', 'type': 'Legislation'}, {'id': 'line of succession', 'type': 'Concept'}, {'id': '10', 'type': 'Age'}], 'relationships': [{'source': 'Henry', 'target': 'line of succession', 'type': 'RESTORED'}, {'source': 'Henry', 'target': 'Third Succession Act 1543', 'type': 'ENACTED'}, {'source': 'line of succession', 'target': '10', 'type': 'AGE_AT_RESTORATION'}, {'source': 'Chunk_2', 'target': 'Henry', 'type': 'CONTAINS_ENTITY'}, {'source': 'Chunk_2', 'target': 'Third Succession Act 1543', 'type': 'CONTAINS_ENTITY'}, {'source': 'Chunk_2', 'target': 'line of succession', 'type': 'CONTAINS_ENTITY'}, {'source': 'Chunk_2', 'target': '10', 'type': 'CONTAINS_ENTITY'}], 'source': {'page_content': \"Elizabeth I (7 September 1533 – 24 March 1603) was Queen of England and Ireland from 17 November 1558 until her death in 1603. She was the last monarch of the House of Tudor. Elizabeth was the only surviving child of Henry VIII and his second wife, Anne Boleyn. When Elizabeth was two years old, her parents' marriage was annulled, her mother was executed, and Elizabeth was declared illegitimate. Henry restored her to the line of succession when she was 10, via the Third Succession Act 1543. After\", 'metadata': {'metadata': {'title': 'Elizabeth I', 'source': 'https://en.wikipedia.org/wiki/Elizabeth_I'}}}}\n"
     ]
    }
   ],
   "execution_count": 44
  },
  {
   "metadata": {
    "id": "8b22eece8f7157c6"
   },
   "cell_type": "markdown",
   "source": [
    "Storing Graph in MemGraph:\n",
    "\n",
    "\n",
    "\n",
    "*   The graph documents are stored in a MemGraph database. This step creates nodes (entities) and relationships in the graph, which can be queried later."
   ],
   "id": "8b22eece8f7157c6"
  },
  {
   "metadata": {
    "id": "c550808e9afa5c4e",
    "ExecuteTime": {
     "end_time": "2024-09-21T09:14:56.201459Z",
     "start_time": "2024-09-21T09:14:56.132705Z"
    }
   },
   "cell_type": "code",
   "source": [
    "from indox.graph.graphs import MemgraphDB  \n",
    "\n",
    "memgraph = MemgraphDB(\"bolt://localhost:7687\")\n",
    "memgraph.add_graph_documents(graph_documents)\n",
    "memgraph.close()\n"
   ],
   "id": "c550808e9afa5c4e",
   "outputs": [],
   "execution_count": 45
  },
  {
   "metadata": {
    "id": "15cafb53d35f0c16"
   },
   "cell_type": "markdown",
   "source": [
    "Querying MemGraph for Relationships:\n",
    "\n",
    "\n",
    "\n",
    "*   We demonstrate how to query the Neo4j database to find relationships for a given entity. In this case, we search for parent-child relationships for Elizabeth I."
   ],
   "id": "15cafb53d35f0c16"
  },
  {
   "metadata": {
    "id": "31198d926ed95730",
    "outputId": "3d1b468c-15b2-472a-a729-f2e92764c162",
    "ExecuteTime": {
     "end_time": "2024-09-21T09:14:56.215820Z",
     "start_time": "2024-09-21T09:14:56.208260Z"
    }
   },
   "cell_type": "code",
   "source": [
    "entity_id = \"Elizabeth\" \n",
    "relationship_type = \"PARENT\" \n",
    "\n",
    "relationships = memgraph.search_relationships_by_entity(entity_id, relationship_type)\n",
    "\n",
    "if relationships:\n",
    "    for rel in relationships:\n",
    "        a_node = rel['a'].get('id', 'Unknown')\n",
    "        b_node = rel['b'].get('id', 'Unknown')\n",
    "        rel_type = rel['rel_type']\n",
    "        print(f\"Entity {a_node} {rel_type} Entity {b_node}\")\n",
    "else:\n",
    "    print(f\"No relationships found for entity: {entity_id} with relationship: {relationship_type}\")\n"
   ],
   "id": "31198d926ed95730",
   "outputs": [
    {
     "name": "stdout",
     "output_type": "stream",
     "text": [
      "Entity Elizabeth PARENT Entity Henry VIII\n",
      "Entity Elizabeth PARENT Entity Anne Boleyn\n"
     ]
    }
   ],
   "execution_count": 46
  },
  {
   "metadata": {
    "id": "84ef38edd844612"
   },
   "cell_type": "markdown",
   "source": [
    "Setting up the QA System:\n",
    "\n",
    "\n",
    "\n",
    "*   We initialize the question-answering (QA) system using the Indox IndoxRetrievalAugmentation library. The QA system retrieves information from the MemGraph database and uses an LLM to answer questions.\n"
   ],
   "id": "84ef38edd844612"
  },
  {
   "metadata": {
    "id": "3caad0cee899d020",
    "ExecuteTime": {
     "end_time": "2024-09-21T09:14:56.272764Z",
     "start_time": "2024-09-21T09:14:56.266961Z"
    }
   },
   "cell_type": "code",
   "source": [
    "from indox import IndoxRetrievalAugmentation"
   ],
   "id": "3caad0cee899d020",
   "outputs": [],
   "execution_count": 47
  },
  {
   "metadata": {
    "id": "95b06b197b29aa31",
    "outputId": "345bc34b-e9fb-40c3-8246-892f72d67158",
    "ExecuteTime": {
     "end_time": "2024-09-21T09:14:56.322446Z",
     "start_time": "2024-09-21T09:14:56.318061Z"
    }
   },
   "cell_type": "code",
   "source": [
    "\n",
    "from indox.llms import HuggingFaceModel\n",
    "\n",
    "mistral_qa = HuggingFaceModel(api_key=HUGGINGFACE_API_KEY, model=\"mistralai/Mistral-7B-Instruct-v0.2\")\n"
   ],
   "id": "95b06b197b29aa31",
   "outputs": [
    {
     "name": "stdout",
     "output_type": "stream",
     "text": [
      "\u001B[32mINFO\u001B[0m: \u001B[1mInitializing HuggingFaceModel with model: mistralai/Mistral-7B-Instruct-v0.2\u001B[0m\n",
      "\u001B[32mINFO\u001B[0m: \u001B[1mHuggingFaceModel initialized successfully\u001B[0m\n"
     ]
    }
   ],
   "execution_count": 48
  },
  {
   "metadata": {
    "id": "98480a01485c0fc5"
   },
   "cell_type": "markdown",
   "source": [
    "Performing Vector-Based Search:\n",
    "\n",
    "\n",
    "\n",
    "*   We instantiate the QA system to use vector-based search, where questions are answered based on the semantic similarity between the question and the graph data.\n"
   ],
   "id": "98480a01485c0fc5"
  },
  {
   "metadata": {
    "ExecuteTime": {
     "end_time": "2024-09-21T09:14:56.376310Z",
     "start_time": "2024-09-21T09:14:56.371862Z"
    }
   },
   "cell_type": "code",
   "source": "openai_qa_indox = IndoxApi(api_key=INDOX_API_KEY)\n",
   "id": "c7b8c249f0e4038f",
   "outputs": [],
   "execution_count": 49
  },
  {
   "metadata": {
    "ExecuteTime": {
     "end_time": "2024-09-21T09:14:58.421943Z",
     "start_time": "2024-09-21T09:14:56.425073Z"
    }
   },
   "cell_type": "code",
   "source": [
    "from indox.vector_stores import MemgraphVector\n",
    "\n",
    "memgraphvector = MemgraphVector(uri=\"bolt://localhost:7687\",username = \"\", password = \"\",embedding_function=embedding_model, search_type='vector')\n",
    "\n",
    "memgraphvector._similarity_search_with_score(query=\"Who was Elizabeth I?\")\n",
    "\n",
    "qa_system = IndoxRetrievalAugmentation.QuestionAnswer(llm=openai_qa_indox, vector_database=memgraphvector)\n",
    "\n",
    "\n",
    "answer_from_vector_neo4j = qa_system.invoke(query=\"Who was Elizabeth I?\")\n",
    "print(answer_from_vector_neo4j)\n"
   ],
   "id": "433aa95ef0cbb074",
   "outputs": [
    {
     "name": "stdout",
     "output_type": "stream",
     "text": [
      "\u001B[32mINFO\u001B[0m: \u001B[1mEmbedding documents\u001B[0m\n",
      "\u001B[32mINFO\u001B[0m: \u001B[1mStarting to fetch embeddings for texts using model: SentenceTransformer(\n",
      "  (0): Transformer({'max_seq_length': 512, 'do_lower_case': False}) with Transformer model: MPNetModel \n",
      "  (1): Pooling({'word_embedding_dimension': 768, 'pooling_mode_cls_token': False, 'pooling_mode_mean_tokens': True, 'pooling_mode_max_tokens': False, 'pooling_mode_mean_sqrt_len_tokens': False, 'pooling_mode_weightedmean_tokens': False, 'pooling_mode_lasttoken': False, 'include_prompt': True})\n",
      "  (2): Normalize()\n",
      ")\u001B[0m\n"
     ]
    },
    {
     "name": "stderr",
     "output_type": "stream",
     "text": [
      "Batches: 100%|██████████| 1/1 [00:00<00:00, 177.92it/s]"
     ]
    },
    {
     "name": "stdout",
     "output_type": "stream",
     "text": [
      "\u001B[32mINFO\u001B[0m: \u001B[1mRetrieving context and scores from the vector database\u001B[0m\n",
      "\u001B[32mINFO\u001B[0m: \u001B[1mEmbedding documents\u001B[0m\n",
      "\u001B[32mINFO\u001B[0m: \u001B[1mStarting to fetch embeddings for texts using model: SentenceTransformer(\n",
      "  (0): Transformer({'max_seq_length': 512, 'do_lower_case': False}) with Transformer model: MPNetModel \n",
      "  (1): Pooling({'word_embedding_dimension': 768, 'pooling_mode_cls_token': False, 'pooling_mode_mean_tokens': True, 'pooling_mode_max_tokens': False, 'pooling_mode_mean_sqrt_len_tokens': False, 'pooling_mode_weightedmean_tokens': False, 'pooling_mode_lasttoken': False, 'include_prompt': True})\n",
      "  (2): Normalize()\n",
      ")\u001B[0m\n"
     ]
    },
    {
     "name": "stderr",
     "output_type": "stream",
     "text": [
      "\n",
      "Batches: 100%|██████████| 1/1 [00:00<00:00, 77.21it/s]"
     ]
    },
    {
     "name": "stdout",
     "output_type": "stream",
     "text": [
      "\u001B[32mINFO\u001B[0m: \u001B[1mGenerating answer without document relevancy filter\u001B[0m\n"
     ]
    },
    {
     "name": "stderr",
     "output_type": "stream",
     "text": [
      "\n"
     ]
    },
    {
     "name": "stdout",
     "output_type": "stream",
     "text": [
      "\u001B[32mINFO\u001B[0m: \u001B[1mQuery answered successfully\u001B[0m\n",
      "Elizabeth I was the Queen of England and Ireland from 17 November 1558 until her death on 24 March 1603. She was the last monarch of the House of Tudor and the only surviving child of King Henry VIII and his second wife, Anne Boleyn. After her parents' marriage was annulled and her mother was executed when she was two years old, Elizabeth was declared illegitimate. However, she was later restored to the line of succession by her father through the Third Succession Act in 1543.\n"
     ]
    }
   ],
   "execution_count": 50
  },
  {
   "metadata": {
    "id": "6b5af8fd461c4cc4"
   },
   "cell_type": "markdown",
   "source": [
    "Performing Keyword-Based Search:\n",
    "\n",
    "\n",
    "\n",
    "*   We also demonstrate how to use keyword-based search, where questions are answered by matching the keywords in the question with the data in the graph."
   ],
   "id": "6b5af8fd461c4cc4"
  },
  {
   "metadata": {
    "id": "c4c3b966990782df",
    "outputId": "8494d562-a9f9-4b03-81a5-ae7f4bf19659",
    "ExecuteTime": {
     "end_time": "2024-09-21T09:15:01.495177Z",
     "start_time": "2024-09-21T09:14:58.631673Z"
    }
   },
   "cell_type": "code",
   "source": [
    "memgraph_vector_keyword = MemgraphVector(uri=\"bolt://localhost:7687\",username = \"\", password = \"\",embedding_function=embedding_model, search_type='keyword')\n",
    "\n",
    "qa_system_keyword = IndoxRetrievalAugmentation.QuestionAnswer(llm=openai_qa_indox, vector_database=memgraph_vector_keyword)\n",
    "\n",
    "# Ask a question using keyword search.\n",
    "answer_from_keyword_search = qa_system_keyword.invoke(\"Who was Queen Elizabeth?\")\n",
    "print(answer_from_keyword_search)"
   ],
   "id": "c4c3b966990782df",
   "outputs": [
    {
     "name": "stdout",
     "output_type": "stream",
     "text": [
      "\u001B[32mINFO\u001B[0m: \u001B[1mRetrieving context and scores from the vector database\u001B[0m\n",
      "\u001B[32mINFO\u001B[0m: \u001B[1mGenerating answer without document relevancy filter\u001B[0m\n",
      "\u001B[32mINFO\u001B[0m: \u001B[1mQuery answered successfully\u001B[0m\n",
      "Queen Elizabeth typically refers to either Queen Elizabeth I or Queen Elizabeth II, two significant figures in British history.\n",
      "\n",
      "1. **Queen Elizabeth I (1533-1603)**: She was the daughter of King Henry VIII and Anne Boleyn. Elizabeth I reigned from 1558 until her death in 1603 and is known for the Elizabethan Era, a period marked by English cultural flourishing, including the works of William Shakespeare and advancements in exploration. Her reign is often noted for the defeat of the Spanish Armada in 1588 and the establishment of Protestantism in England.\n",
      "\n",
      "2. **Queen Elizabeth II (1926-2022)**: She was the daughter of King George VI and Queen Mary. Elizabeth II became queen in 1952 and was the longest-reigning monarch in British history, serving for over 70 years until her death in 2022. Her reign saw significant changes in British society and the Commonwealth, including decolonization in Africa and the Caribbean, as well as advancements in technology and culture. She was known for her dedication to public service and her role as a symbol of continuity and stability in the UK.\n",
      "\n",
      "If you have a specific context in mind, please let me know!\n"
     ]
    }
   ],
   "execution_count": 51
  },
  {
   "metadata": {
    "id": "e8237a5965b9571"
   },
   "cell_type": "markdown",
   "source": [
    "Hybrid Search (Combining Vector and Keyword):\n",
    "\n",
    "\n",
    "\n",
    "*   Finally, we demonstrate hybrid search, which combines the strengths of both vector and keyword-based search to retrieve the best possible context."
   ],
   "id": "e8237a5965b9571"
  },
  {
   "metadata": {
    "colab": {
     "referenced_widgets": [
      "36933ea5266547539b23077d01d50da7"
     ]
    },
    "id": "f4a89f6e17fcdf3d",
    "outputId": "fcbafa8d-3631-475a-c27a-e7d3c589c4e7",
    "ExecuteTime": {
     "end_time": "2024-09-21T09:15:03.656277Z",
     "start_time": "2024-09-21T09:15:01.519616Z"
    }
   },
   "cell_type": "code",
   "source": [
    "memgraph_vector_hybrid = MemgraphVector(uri=\"bolt://localhost:7687\",username = \"\", password = \"\",embedding_function=embedding_model, search_type='hybrid')\n",
    "\n",
    "qa_system_hybrid = IndoxRetrievalAugmentation.QuestionAnswer(llm=openai_qa_indox, vector_database=memgraph_vector_hybrid)\n",
    "\n",
    "answer_from_hybrid_search = qa_system_hybrid.invoke(\"Who was Queen Elizabeth?\")\n",
    "print(answer_from_hybrid_search)\n"
   ],
   "id": "f4a89f6e17fcdf3d",
   "outputs": [
    {
     "name": "stdout",
     "output_type": "stream",
     "text": [
      "\u001B[32mINFO\u001B[0m: \u001B[1mRetrieving context and scores from the vector database\u001B[0m\n",
      "\u001B[32mINFO\u001B[0m: \u001B[1mEmbedding documents\u001B[0m\n",
      "\u001B[32mINFO\u001B[0m: \u001B[1mStarting to fetch embeddings for texts using model: SentenceTransformer(\n",
      "  (0): Transformer({'max_seq_length': 512, 'do_lower_case': False}) with Transformer model: MPNetModel \n",
      "  (1): Pooling({'word_embedding_dimension': 768, 'pooling_mode_cls_token': False, 'pooling_mode_mean_tokens': True, 'pooling_mode_max_tokens': False, 'pooling_mode_mean_sqrt_len_tokens': False, 'pooling_mode_weightedmean_tokens': False, 'pooling_mode_lasttoken': False, 'include_prompt': True})\n",
      "  (2): Normalize()\n",
      ")\u001B[0m\n"
     ]
    },
    {
     "name": "stderr",
     "output_type": "stream",
     "text": [
      "Batches: 100%|██████████| 1/1 [00:00<00:00, 133.27it/s]"
     ]
    },
    {
     "name": "stdout",
     "output_type": "stream",
     "text": [
      "\u001B[32mINFO\u001B[0m: \u001B[1mGenerating answer without document relevancy filter\u001B[0m\n"
     ]
    },
    {
     "name": "stderr",
     "output_type": "stream",
     "text": [
      "\n"
     ]
    },
    {
     "name": "stdout",
     "output_type": "stream",
     "text": [
      "\u001B[32mINFO\u001B[0m: \u001B[1mQuery answered successfully\u001B[0m\n",
      "Queen Elizabeth I was the Queen of England and Ireland from 17 November 1558 until her death on 24 March 1603. She was the last monarch of the House of Tudor and the only surviving child of King Henry VIII and his second wife, Anne Boleyn. Elizabeth was declared illegitimate after her parents' marriage was annulled and her mother was executed, but she was later restored to the line of succession by her father through the Third Succession Act 1543 when she was 10 years old.\n"
     ]
    }
   ],
   "execution_count": 52
  }
 ],
 "metadata": {
  "kernelspec": {
   "display_name": "Python 3",
   "language": "python",
   "name": "python3"
  },
  "language_info": {
   "codemirror_mode": {
    "name": "ipython",
    "version": 2
   },
   "file_extension": ".py",
   "mimetype": "text/x-python",
   "name": "python",
   "nbconvert_exporter": "python",
   "pygments_lexer": "ipython2",
   "version": "2.7.6"
  },
  "colab": {
   "provenance": []
  }
 },
 "nbformat": 4,
 "nbformat_minor": 5
}
