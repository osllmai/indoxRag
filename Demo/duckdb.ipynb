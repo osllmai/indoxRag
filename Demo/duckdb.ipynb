{
 "cells": [
  {

   "metadata": {},
   "cell_type": "markdown",
   "source": [
    "# DuckDB \n",
    "In this notebook, we will demonstrate how to use DuckDB, for accessing and querying data efficiently. DuckDB is designed to work seamlessly with modern analytical workloads, making it a powerful tool for data analysis, research, and question-answering systems.\n",
    "\n",
    "To begin, ensure you have DuckDB installed in your Python environment. You can easily install it using `pip install duckdb`. DuckDB does not require a server, so you can start querying data directly in your local environment without any additional setup.\n",
    "\n",
    "[![Open In Colab](https://colab.research.google.com/assets/colab-badge.svg)](https://colab.research.google.com/github/osllmai/inDox/blob/master/Demo/duckdb.ipynb)"
   ],
   "id": "deafd62eace5fad4"
  },
  {
   "metadata": {},
   "cell_type": "code",
   "outputs": [],
   "execution_count": null,
   "source": [
    "!pip install indox\n",
    "!pip install duckdb\n",
    "!pip install semantic_text_splitter\n",
    "!pip install sentence-transformers"
   ],
   "id": "4354cdb0ba4254b0"
  },
  {
   "metadata": {},
   "cell_type": "markdown",
   "source": [
    "## Setting Up the Python Environment\n",
    "\n",
    "If you are running this project in your local IDE, please create a Python environment to ensure all dependencies are correctly managed. You can follow the steps below to set up a virtual environment named `indox`:\n",
    "\n",
    "### Windows\n",
    "\n",
    "1. **Create the virtual environment:**\n",
    "```bash\n",
    "python -m venv indox\n",
    "```\n",
    "2. **Activate the virtual environment:**\n",
    "```bash\n",
    "indox_judge\\Scripts\\activate\n",
    "```\n",
    "\n",
    "### macOS/Linux\n",
    "\n",
    "1. **Create the virtual environment:**\n",
    "   ```bash\n",
    "   python3 -m venv indox\n",
    "```\n",
    "\n",
    "2. **Activate the virtual environment:**\n",
    "    ```bash\n",
    "   source indox/bin/activate\n",
    "```\n",
    "### Install Dependencies\n",
    "\n",
    "Once the virtual environment is activated, install the required dependencies by running:\n",
    "\n",
    "```bash\n",
    "pip install -r requirements.txt\n",
    "```\n"
   ],
   "id": "43747bd79eb98e9a"
  },
  {
   "metadata": {},
   "cell_type": "markdown",
   "source": "### Load Hugging face API key ",
   "id": "ca675f19f961a233"
  },
  {
   "metadata": {
    "ExecuteTime": {
     "end_time": "2024-09-02T15:45:08.425935Z",
     "start_time": "2024-09-02T15:45:08.404678Z"
    }
   },
   "cell_type": "code",
   "source": [
    "import os\n",
    "from dotenv import load_dotenv\n",
    "\n",
    "load_dotenv()\n",
    "\n",
    "OPENAI_API_KEY = os.environ['OPENAI_API_KEY']\n",
    "HUGGINGFACE_API_KEY = os.environ['HUGGINGFACE_API_KEY']"
   ],
   "id": "27a24e485afc020d",
   "outputs": [],
   "execution_count": 5
  },
  {
   "metadata": {
    "ExecuteTime": {

     "end_time": "2024-09-02T15:45:09.885222Z",
     "start_time": "2024-09-02T15:45:09.873250Z"
    }
   },
   "cell_type": "code",
   "source": [

    "from indox import IndoxRetrievalAugmentation\n",
    "indox = IndoxRetrievalAugmentation()"
   ],
   "id": "571f7da532fea628",
   "outputs": [
    {
     "name": "stdout",
     "output_type": "stream",
     "text": [

      "\u001B[32mINFO\u001B[0m: \u001B[1mIndoxRetrievalAugmentation initialized\u001B[0m\n",
      "\n",
      "            ██  ███    ██  ██████   ██████  ██       ██\n",
      "            ██  ████   ██  ██   ██ ██    ██   ██  ██\n",
      "            ██  ██ ██  ██  ██   ██ ██    ██     ██\n",
      "            ██  ██  ██ ██  ██   ██ ██    ██   ██   ██\n",
      "            ██  ██  █████  ██████   ██████  ██       ██\n",
      "            \n"
     ]
    }
   ],
   "execution_count": 6
  },
  {
   "metadata": {},
   "cell_type": "markdown",
   "source": "Initialize a language model and an embedding model using the indox library with Hugging Face and Azure services. The HuggingFaceModel class is used to create an instance of the Mistral-7B-Instruct model for tasks like question answering, while the AzureEmbedding would handle embedding tasks.",
   "id": "76889f4768e83877"
  },
  {
   "metadata": {
    "ExecuteTime": {

     "end_time": "2024-09-02T15:45:12.311280Z",
     "start_time": "2024-09-02T15:45:11.566230Z"
    }
   },
   "cell_type": "code",
   "source": [

    "from indox.llms import HuggingFaceModel\n",
    "from indox.embeddings import AzureOpenAIEmbeddings\n",
    "mistral_qa = HuggingFaceModel(api_key=HUGGINGFACE_API_KEY,model=\"mistralai/Mistral-7B-Instruct-v0.2\")\n",
    "azure_embed = AzureOpenAIEmbeddings(api_key=OPENAI_API_KEY,model=\"text-embedding-3-small\")"
   ],
   "id": "104548072f255cbe",
   "outputs": [
    {
     "name": "stdout",
     "output_type": "stream",
     "text": [
      "\u001B[32mINFO\u001B[0m: \u001B[1mInitializing HuggingFaceModel with model: mistralai/Mistral-7B-Instruct-v0.2\u001B[0m\n",
      "\u001B[32mINFO\u001B[0m: \u001B[1mHuggingFaceModel initialized successfully\u001B[0m\n",
      "\u001B[32mINFO\u001B[0m: \u001B[1mInitialized OpenAiEmbedding with model: text-embedding-3-small\u001B[0m\n"
     ]
    }
   ],
   "execution_count": 7
  },
  {
   "metadata": {},
   "cell_type": "markdown",
   "source": "### Load Sample text ",
   "id": "931615abf33be582"
  },
  {
   "metadata": {},
   "cell_type": "code",
   "outputs": [],
   "execution_count": null,
   "source": "!wget https://raw.githubusercontent.com/osllmai/inDox/master/Demo/sample.txt",
   "id": "eb1c1e58e04e3ff"
  },
  {
   "metadata": {
    "ExecuteTime": {

     "end_time": "2024-09-02T15:45:31.163463Z",
     "start_time": "2024-09-02T15:45:31.152713Z"
    }
   },
   "cell_type": "code",
   "source": [
    "file_path = \"sample.txt\"\n",
    "with open(file_path, \"r\") as file:\n",
    "    text = file.read()"
   ],
   "id": "af177c8fb50f6859",
   "outputs": [],
   "execution_count": 9
  },
  {
   "metadata": {},
   "cell_type": "markdown",
   "source": "use the `RecursiveCharacterTextSplitter` class from the indox library to divide a large text into smaller, manageable chunks",
   "id": "c98ee6b3a502fe7"
  },
  {
   "metadata": {
    "ExecuteTime": {
     "end_time": "2024-09-02T15:45:33.670617Z",
     "start_time": "2024-09-02T15:45:33.486877Z"
    }
   },
   "cell_type": "code",
   "source": [
    "from indox.splitter import RecursiveCharacterTextSplitter\n",
    "splitter = RecursiveCharacterTextSplitter(400,20)\n",
    "content_chunks = splitter.split_text(text)"
   ],
   "id": "1e969fe0ee474430",
   "outputs": [],
   "execution_count": 10
  },
  {
   "metadata": {
    "ExecuteTime": {
     "end_time": "2024-09-02T15:45:40.214216Z",
     "start_time": "2024-09-02T15:45:40.199612Z"
    }
   },
   "cell_type": "code",
   "source": "content_chunks[:3]",
   "id": "6ba3c5890bcca9e8",
   "outputs": [
    {
     "data": {
      "text/plain": [
       "[\"The wife of a rich man fell sick, and as she felt that her end\\n\\nwas drawing near, she called her only daughter to her bedside and\\n\\nsaid, dear child, be good and pious, and then the\\n\\ngood God will always protect you, and I will look down on you\\n\\nfrom heaven and be near you.  Thereupon she closed her eyes and\\n\\ndeparted.  Every day the maiden went out to her mother's grave,\",\n",
       " 'and wept, and she remained pious and good.  When winter came\\n\\nthe snow spread a white sheet over the grave, and by the time the\\n\\nspring sun had drawn it off again, the man had taken another wife.\\n\\nThe woman had brought with her into the house two daughters,\\n\\nwho were beautiful and fair of face, but vile and black of heart.\\n\\nNow began a bad time for the poor step-child.  Is the stupid goose',\n",
       " 'to sit in the parlor with us, they said.  He who wants to eat bread\\n\\nmust earn it.  Out with the kitchen-wench.  They took her pretty\\n\\nclothes away from her, put an old grey bedgown on her, and gave\\n\\nher wooden shoes.  Just look at the proud princess, how decked\\n\\nout she is, they cried, and laughed, and led her into the kitchen.\\n\\nThere she had to do hard work from morning till night, get up']"
      ]
     },
     "execution_count": 12,
     "metadata": {},
     "output_type": "execute_result"
    }
   ],
   "execution_count": 12
  },
  {
   "metadata": {},
   "cell_type": "markdown",
   "source": [
    "### Set up vector store\n",
    "Set up a vector store using the `DuckDB` class from the indox library."
   ],
   "id": "8c15bab1d6f0612e"
  },
  {
   "metadata": {
    "ExecuteTime": {
     "end_time": "2024-09-02T15:46:35.501798Z",
     "start_time": "2024-09-02T15:46:35.341780Z"
    }
   },
   "cell_type": "code",
   "source": [
    "from indox.vector_stores import DuckDB\n",
    "vector_store = DuckDB(\n",
    "    embedding_function=azure_embed,\n",
    "    vector_key=\"embedding\",   \n",
    "    id_key=\"id\",              \n",
    "    text_key=\"text\",          \n",
    "    table_name=\"embeddings\"\n",
    ")"
   ],
   "id": "dec9b87ac6b212d7",
   "outputs": [],
   "execution_count": 15
  },
  {
   "metadata": {},
   "cell_type": "markdown",
   "source": "### Storing Data in the Vector Store",
   "id": "730369204b63e1d4"
  },
  {
   "metadata": {},
   "cell_type": "code",
   "source": "vector_store.add(texts=content_chunks)",
   "id": "1ceeda7b6051d972",
   "outputs": [],
   "execution_count": null
  },
  {
   "metadata": {
    "ExecuteTime": {
     "end_time": "2024-09-02T15:48:07.869793Z",
     "start_time": "2024-09-02T15:48:07.863428Z"
    }
   },
   "cell_type": "code",
   "source": "query = \"How cinderella reach her happy ending?\"\n",
   "id": "3701596d112cd595",
   "outputs": [],
   "execution_count": 17
  },
  {
   "metadata": {
    "ExecuteTime": {
     "end_time": "2024-09-02T15:48:09.121054Z",
     "start_time": "2024-09-02T15:48:09.116109Z"
    }
   },
   "cell_type": "code",
   "source": "retriever = indox.QuestionAnswer(vector_database=vector_store,llm=mistral_qa,top_k=5)\n",
   "id": "a29244c675346733",
   "outputs": [],
   "execution_count": 18
  },
  {
   "metadata": {
    "ExecuteTime": {
     "end_time": "2024-09-02T15:48:23.386326Z",
     "start_time": "2024-09-02T15:48:20.937121Z"
    }
   },
   "cell_type": "code",
   "source": "answer = retriever.invoke(query=query)\n",
   "id": "bf21be5bc8d4c2c2",
   "outputs": [
    {
     "name": "stdout",
     "output_type": "stream",
     "text": [

      "\u001B[32mINFO\u001B[0m: \u001B[1mRetrieving context and scores from the vector database\u001B[0m\n",
      "\u001B[32mINFO\u001B[0m: \u001B[1mEmbedding documents\u001B[0m\n",
      "\u001B[32mINFO\u001B[0m: \u001B[1mStarting to fetch embeddings for texts using engine: text-embedding-3-small\u001B[0m\n"
     ]
    },
    {
     "name": "stderr",
     "output_type": "stream",
     "text": [
      "2024-09-02 19:18:21,773 - httpx - INFO - HTTP Request: POST https://api.openai.com/v1/embeddings \"HTTP/1.1 200 OK\"\n"
     ]
    },
    {
     "name": "stdout",
     "output_type": "stream",
     "text": [

      "\u001B[32mINFO\u001B[0m: \u001B[1mGenerating answer without document relevancy filter\u001B[0m\n",
      "\u001B[32mINFO\u001B[0m: \u001B[1mAnswering question\u001B[0m\n",
      "\u001B[32mINFO\u001B[0m: \u001B[1mSending request to Hugging Face API\u001B[0m\n",
      "\u001B[32mINFO\u001B[0m: \u001B[1mReceived successful response from Hugging Face API\u001B[0m\n",
      "\u001B[32mINFO\u001B[0m: \u001B[1mQuery answered successfully\u001B[0m\n"
     ]
    }
   ],
   "execution_count": 20
  },
  {
   "metadata": {
    "ExecuteTime": {
     "end_time": "2024-09-02T15:48:25.582874Z",
     "start_time": "2024-09-02T15:48:25.578673Z"
    }
   },
   "cell_type": "code",
   "source": "answer",
   "id": "28b584d4be0c1800",
   "outputs": [
    {
     "data": {
      "text/plain": [
       "\"Cinderella reached her happy ending when the prince recognized her at the royal ball, and they got married. She received her golden dress and glass slippers from her fairy godmother, and went to the ball incognito. Her step-mother and stepsisters didn't recognize her and believed she was a foreign princess.\""
      ]
     },
     "execution_count": 21,
     "metadata": {},
     "output_type": "execute_result"
    }
   ],
   "execution_count": 21
  },
  {
   "metadata": {
    "ExecuteTime": {

     "end_time": "2024-09-02T15:48:32.219983Z",
     "start_time": "2024-09-02T15:48:32.214419Z"
    }
   },
   "cell_type": "code",
   "source": [
    "context = retriever.context\n",
    "context[:2]"
   ],
   "id": "156df55872f1cafe",
   "outputs": [
    {
     "data": {
      "text/plain": [

       "[\"which they had wished for, and to cinderella he gave the branch\\n\\nfrom the hazel-bush.  Cinderella thanked him, went to her mother's\\n\\ngrave and planted the branch on it, and wept so much that the tears\\n\\nfell down on it and watered it.  And it grew and became a handsome\\n\\ntree. Thrice a day cinderella went and sat beneath it, and wept and\\n\\nprayed, and a little white bird always came on the tree, and if\",\n",
       " \"glove.  And when she rose up and the king's son looked at her\\n\\nface he recognized the beautiful maiden who had danced with\\n\\nhim and cried, that is the true bride.  The step-mother and\\n\\nthe two sisters were horrified and became pale with rage, he,\\n\\nhowever, took cinderella on his horse and rode away with her.  As\\n\\nthey passed by the hazel-tree, the two white doves cried -\"]"
      ]
     },
     "execution_count": 23,
     "metadata": {},
     "output_type": "execute_result"
    }
   ],

   "execution_count": 23
  },
  {
   "metadata": {},
   "cell_type": "code",
   "outputs": [],
   "execution_count": null,
   "source": "",
   "id": "9ab65928a6845286"
  }
 ],
 "metadata": {
  "kernelspec": {
   "display_name": "Python 3",
   "language": "python",
   "name": "python3"
  },
  "language_info": {
   "codemirror_mode": {
    "name": "ipython",
    "version": 2
   },
   "file_extension": ".py",
   "mimetype": "text/x-python",
   "name": "python",
   "nbconvert_exporter": "python",
   "pygments_lexer": "ipython2",
   "version": "2.7.6"
  }
 },
 "nbformat": 4,
 "nbformat_minor": 5
}
