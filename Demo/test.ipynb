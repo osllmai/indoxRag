{
 "cells": [
  {
   "cell_type": "code",
   "id": "initial_id",
   "metadata": {
    "collapsed": true,
    "ExecuteTime": {
     "end_time": "2024-09-17T12:42:21.717636Z",
     "start_time": "2024-09-17T12:42:21.704803Z"
    }
   },
   "source": [
    "import os\n",
    "from dotenv import load_dotenv\n",
    "\n",
    "load_dotenv()\n",
    "INDOX_API_KEY = os.environ['INDOX_API_KEY']\n",
    "OPENAI_API_KEY = os.environ['OPENAI_API_KEY']\n",
    "NVIDIA_API_KEY = os.environ['NVIDIA_API_KEY']"
   ],
   "outputs": [],
   "execution_count": 1
  },
  {
   "metadata": {
    "ExecuteTime": {
     "end_time": "2024-09-17T12:42:23.384186Z",
     "start_time": "2024-09-17T12:42:22.841288Z"
    }
   },
   "cell_type": "code",
   "source": "from indox.llms import OpenAi",
   "id": "bf96849b976a4d29",
   "outputs": [],
   "execution_count": 2
  },
  {
   "metadata": {
    "ExecuteTime": {
     "end_time": "2024-09-17T12:42:25.920443Z",
     "start_time": "2024-09-17T12:42:24.128544Z"
    }
   },
   "cell_type": "code",
   "source": [
    "nemotron = OpenAi(api_key=NVIDIA_API_KEY,model=\"nvidia/nemotron-4-340b-instruct\",base_url=\"https://integrate.api.nvidia.com/v1\")\n",
    "openai = OpenAi(api_key=OPENAI_API_KEY,model=\"gpt-4o-mini\")"
   ],
   "id": "6d7476e457830106",
   "outputs": [
    {
     "name": "stdout",
     "output_type": "stream",
     "text": [
      "\u001B[32mINFO\u001B[0m: \u001B[1mInitializing OpenAi with model: nvidia/nemotron-4-340b-instruct\u001B[0m\n",
      "\u001B[32mINFO\u001B[0m: \u001B[1mOpenAi initialized successfully\u001B[0m\n",
      "\u001B[32mINFO\u001B[0m: \u001B[1mInitializing OpenAi with model: gpt-4o-mini\u001B[0m\n",
      "\u001B[32mINFO\u001B[0m: \u001B[1mOpenAi initialized successfully\u001B[0m\n"
     ]
    }
   ],
   "execution_count": 3
  },
  {
   "metadata": {
    "ExecuteTime": {
     "end_time": "2024-09-17T12:42:40.377183Z",
     "start_time": "2024-09-17T12:42:38.597182Z"
    }
   },
   "cell_type": "code",
   "source": "openai.chat(\"Write a limerick about the wonders of GPU computing.\",stream=True)",
   "id": "9d53e30651622450",
   "outputs": [
    {
     "name": "stdout",
     "output_type": "stream",
     "text": [
      "\u001B[32mINFO\u001B[0m: \u001B[1mGenerating response\u001B[0m\n",
      "\u001B[32mINFO\u001B[0m: \u001B[1mResponse generated successfully\u001B[0m\n"
     ]
    },
    {
     "data": {
      "text/plain": [
       "'In a world where the pixels do dance,  \\nGPUs give our data a chance.  \\nWith cores all aligned,  \\nThey process combined,  \\nAnd make complex tasks seem like a prance!'"
      ]
     },
     "execution_count": 4,
     "metadata": {},
     "output_type": "execute_result"
    }
   ],
   "execution_count": 4
  },
  {
   "metadata": {
    "ExecuteTime": {
     "end_time": "2024-09-17T12:55:37.750483Z",
     "start_time": "2024-09-17T12:55:10.512408Z"
    }
   },
   "cell_type": "code",
   "source": "completion = nemotron.chat(\"Generate synthetic user profiles with fields: name, age, email. return your answer in json format, \",temperature=0.2,top_p=0.7,stream=True)",
   "id": "7bc03a8dbd720200",
   "outputs": [
    {
     "name": "stdout",
     "output_type": "stream",
     "text": [
      "\u001B[32mINFO\u001B[0m: \u001B[1mGenerating response\u001B[0m\n",
      "\u001B[32mINFO\u001B[0m: \u001B[1mResponse generated successfully\u001B[0m\n"
     ]
    }
   ],
   "execution_count": 9
  },
  {
   "metadata": {
    "ExecuteTime": {
     "end_time": "2024-09-17T12:55:39.404614Z",
     "start_time": "2024-09-17T12:55:39.399592Z"
    }
   },
   "cell_type": "code",
   "source": "print(completion)",
   "id": "cecb58a3aee478b6",
   "outputs": [
    {
     "name": "stdout",
     "output_type": "stream",
     "text": [
      "Sure, I can help you generate synthetic user profiles in JSON format. Here's an example of how you can do it using Python:\n",
      "\n",
      "```python\n",
      "import json\n",
      "import random\n",
      "import string\n",
      "\n",
      "def generate_user_profile():\n",
      "    name = ''.join(random.choices(string.ascii_uppercase + string.ascii_lowercase, k=random.randint(5, 10)))\n",
      "    age = random.randint(18, 65)\n",
      "    email = f\"{name.lower()}{random.randint(1, 1000)}@example.com\"\n",
      "\n",
      "    return {\n",
      "        \"name\": name,\n",
      "        \"age\": age,\n",
      "        \"email\": email\n",
      "    }\n",
      "\n",
      "# Generate 10 user profiles\n",
      "user_profiles = [generate_user_profile() for _ in range(10)]\n",
      "\n",
      "# Convert to JSON format\n",
      "json_data = json.dumps(user_profiles, indent=2)\n",
      "\n",
      "print(json_data)\n",
      "```\n",
      "\n",
      "Here's an example output:\n",
      "\n",
      "```json\n",
      "[\n",
      "  {\n",
      "    \"name\": \"John\",\n",
      "    \"age\": 30,\n",
      "    \"email\": \"john123@example.com\"\n",
      "  },\n",
      "  {\n",
      "    \"name\": \"Jane\",\n",
      "    \"age\": 25,\n",
      "    \"email\": \"jane456@example.com\"\n",
      "  },\n",
      "  {\n",
      "    \"name\": \"Bob\",\n",
      "    \"age\": 40,\n",
      "    \"email\": \"bob789@example.com\"\n",
      "  },\n",
      "  // ...\n",
      "]\n",
      "```\n",
      "\n",
      "Please note that the generated data is completely random and does not represent any real individuals.\n"
     ]
    }
   ],
   "execution_count": 10
  },
  {
   "metadata": {},
   "cell_type": "code",
   "outputs": [],
   "execution_count": null,
   "source": "",
   "id": "58ac0b2ba62e179e"
  }
 ],
 "metadata": {
  "kernelspec": {
   "display_name": "Python 3",
   "language": "python",
   "name": "python3"
  },
  "language_info": {
   "codemirror_mode": {
    "name": "ipython",
    "version": 2
   },
   "file_extension": ".py",
   "mimetype": "text/x-python",
   "name": "python",
   "nbconvert_exporter": "python",
   "pygments_lexer": "ipython2",
   "version": "2.7.6"
  }
 },
 "nbformat": 4,
 "nbformat_minor": 5
}
