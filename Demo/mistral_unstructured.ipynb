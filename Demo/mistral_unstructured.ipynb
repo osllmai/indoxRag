{
 "cells": [
  {
   "metadata": {
    "id": "95a4ad1add8df314"
   },
   "cell_type": "raw",
   "source": [
    "---\n",
    "title: Mistral As Question Answer Model\n",
    "---"
   ],
   "id": "95a4ad1add8df314"
  },
  {
   "metadata": {
    "id": "e8b4dc7534ac5f88"
   },
   "cell_type": "markdown",
   "source": [
    "## Introduction\n",
    "\n",
    "In this notebook, we will demonstrate how to securely handle `inDox` as system for question answering system with open source models which are available on internet like `Mistral`. so firstly you should buil environment variables and API keys in Python using the `dotenv` library. Environment variables are a crucial part of configuring your applications, especially when dealing with sensitive information like API keys.\n",
    "\n",
    "\n",
    "Let's start by importing the required libraries and loading our environment variables.\n",
    "\n",
    "[![Open In Colab](https://colab.research.google.com/assets/colab-badge.svg)](https://colab.research.google.com/github/osllmai/inDox/blob/master/Demo/mistral_unstructured.ipynb)\n"
   ],
   "id": "e8b4dc7534ac5f88"
  },
  {
   "cell_type": "code",
   "source": [
    "!pip install mistralai\n",
    "!pip install indox\n",
    "!pip install chromadb"
   ],
   "metadata": {
    "id": "nxmzO5Wei_3U",
    "outputId": "05bd74c8-890c-41ff-9408-d021dd834ba2",
    "colab": {
     "base_uri": "https://localhost:8080/"
    }
   },
   "id": "nxmzO5Wei_3U",
   "outputs": [],
   "execution_count": null
  },
  {
   "metadata": {},
   "cell_type": "markdown",
   "source": [
    "## Setting Up the Python Environment\n",
    "\n",
    "If you are running this project in your local IDE, please create a Python environment to ensure all dependencies are correctly managed. You can follow the steps below to set up a virtual environment named `indox`:\n",
    "\n",
    "### Windows\n",
    "\n",
    "1. **Create the virtual environment:**\n",
    "```bash\n",
    "python -m venv indox\n",
    "```\n",
    "2. **Activate the virtual environment:**\n",
    "```bash\n",
    "indox_judge\\Scripts\\activate\n",
    "```\n",
    "\n",
    "### macOS/Linux\n",
    "\n",
    "1. **Create the virtual environment:**\n",
    "   ```bash\n",
    "   python3 -m venv indox\n",
    "```\n",
    "\n",
    "2. **Activate the virtual environment:**\n",
    "    ```bash\n",
    "   source indox/bin/activate\n",
    "```\n",
    "### Install Dependencies\n",
    "\n",
    "Once the virtual environment is activated, install the required dependencies by running:\n",
    "\n",
    "```bash\n",
    "pip install -r requirements.txt\n",
    "```\n",
    "ئ"
   ],
   "id": "1b1d9e8da377c4b5"
  },
  {
   "metadata": {
    "id": "1d9b422e9d6063e4",
    "ExecuteTime": {
     "end_time": "2024-07-12T12:59:27.250957Z",
     "start_time": "2024-07-12T12:59:27.238294Z"
    }
   },
   "cell_type": "code",
   "source": [
    "import os\n",
    "from dotenv import load_dotenv\n",
    "\n",
    "load_dotenv()\n",
    "MISTRAL_API_KEY = os.getenv('MISTRAL_API_KEY')"
   ],
   "id": "1d9b422e9d6063e4",
   "outputs": [],
   "execution_count": 1
  },
  {
   "metadata": {
    "id": "7688318bb5b4dfa7"
   },
   "cell_type": "markdown",
   "source": [
    "### Import Essential Libraries\n",
    "Then, we import essential libraries for our `Indox` question answering system:\n",
    "- `IndoxRetrievalAugmentation`: Enhances the retrieval process for better QA performance.\n",
    "- `Mistral`: A powerful QA model from Indox, built on top of the semantic understanding.\n",
    "- `UnstructuredLoadAndSplit`: A utility for loading and splitting unstructured data."
   ],
   "id": "7688318bb5b4dfa7"
  },
  {
   "metadata": {
    "id": "a9f40fc686cd072e",
    "ExecuteTime": {
     "end_time": "2024-07-12T12:59:29.786010Z",
     "start_time": "2024-07-12T12:59:29.707179Z"
    }
   },
   "cell_type": "code",
   "source": [
    "from indox import IndoxRetrievalAugmentation\n",
    "indox = IndoxRetrievalAugmentation()"
   ],
   "id": "a9f40fc686cd072e",
   "outputs": [
    {
     "name": "stdout",
     "output_type": "stream",
     "text": [
      "\u001B[32mINFO\u001B[0m: \u001B[1mIndoxRetrievalAugmentation initialized\u001B[0m\n",
      "\n",
      "            ██  ███    ██  ██████   ██████  ██       ██\n",
      "            ██  ████   ██  ██   ██ ██    ██   ██  ██\n",
      "            ██  ██ ██  ██  ██   ██ ██    ██     ██\n",
      "            ██  ██  ██ ██  ██   ██ ██    ██   ██   ██\n",
      "            ██  ██  █████  ██████   ██████  ██       ██\n",
      "            \n"
     ]
    }
   ],
   "execution_count": 2
  },
  {
   "metadata": {
    "id": "449eb2a7ca2e5bce"
   },
   "cell_type": "markdown",
   "source": [
    "### Building the Indox System and Initializing Models\n",
    "\n",
    "Next, we will build our `inDox` system and initialize the Mistral question answering model along with the embedding model. This setup will allow us to leverage the advanced capabilities of Indox for our question answering tasks.\n"
   ],
   "id": "449eb2a7ca2e5bce"
  },
  {
   "metadata": {
    "id": "ac5ff6002e2497b3",
    "ExecuteTime": {
     "end_time": "2024-07-12T12:59:36.521212Z",
     "start_time": "2024-07-12T12:59:31.185755Z"
    }
   },
   "cell_type": "code",
   "source": [
    "from indox.llms import Mistral\n",
    "from indox.embeddings import MistralEmbedding\n",
    "mistral_qa = Mistral(api_key=MISTRAL_API_KEY)\n",
    "embed_mistral = MistralEmbedding(MISTRAL_API_KEY)"
   ],
   "id": "ac5ff6002e2497b3",
   "outputs": [
    {
     "name": "stdout",
     "output_type": "stream",
     "text": [
      "\u001B[32mINFO\u001B[0m: \u001B[1mInitializing MistralAI with model: mistral-medium-latest\u001B[0m\n",
      "\u001B[32mINFO\u001B[0m: \u001B[1mMistralAI initialized successfully\u001B[0m\n",
      "\u001B[32mINFO\u001B[0m: \u001B[1mInitialized Mistral embeddings\u001B[0m\n"
     ]
    }
   ],
   "execution_count": 3
  },
  {
   "metadata": {
    "id": "fd23f48af26265ca"
   },
   "cell_type": "markdown",
   "source": [
    "### Setting Up Reference Directory and File Path\n",
    "\n",
    "To demonstrate the capabilities of our Indox question answering system, we will use a sample directory. This directory will contain our reference data, which we will use for testing and evaluation.\n",
    "\n",
    "First, we specify the path to our sample file. In this case, we are using a file named `sample.txt` located in our working directory. This file will serve as our reference data for the subsequent steps.\n",
    "\n",
    "Let's define the file path for our reference data."
   ],
   "id": "fd23f48af26265ca"
  },
  {
   "metadata": {},
   "cell_type": "code",
   "outputs": [],
   "execution_count": null,
   "source": "!wget https://raw.githubusercontent.com/osllmai/inDox/master/Demo/sample.txt",
   "id": "9706a7ba1cc8deff"
  },
  {
   "metadata": {
    "id": "b38c913b696a2642",
    "ExecuteTime": {
     "end_time": "2024-07-12T12:59:45.881729Z",
     "start_time": "2024-07-12T12:59:45.878322Z"
    }
   },
   "cell_type": "code",
   "source": [
    "file_path = \"sample.txt\""
   ],
   "id": "b38c913b696a2642",
   "outputs": [],
   "execution_count": 4
  },
  {
   "metadata": {
    "id": "e88dd6c433fc600c"
   },
   "cell_type": "markdown",
   "source": [
    "### Chunking Reference Data with UnstructuredLoadAndSplit\n",
    "\n",
    "To effectively utilize our reference data, we need to process and chunk it into manageable parts. This ensures that our question answering system can efficiently handle and retrieve relevant information.\n",
    "\n",
    "We use the `UnstructuredLoadAndSplit` utility for this task. This tool allows us to load the unstructured data from our specified file and split it into smaller chunks. This process enhances the performance of our retrieval and QA models by making the data more accessible and easier to process.\n",
    "\n",
    "In this step, we define the file path for our reference data and use `UnstructuredLoadAndSplit` to chunk the data with a maximum chunk size of 400 characters.\n",
    "\n",
    "Let's proceed with chunking our reference data.\n"
   ],
   "id": "e88dd6c433fc600c"
  },
  {
   "metadata": {
    "id": "4dcc52c1d0416383",
    "outputId": "c43a25f4-7c29-470c-8f82-6cfbb83be6d1",
    "colab": {
     "base_uri": "https://localhost:8080/"
    },
    "ExecuteTime": {
     "end_time": "2024-07-12T13:00:10.670787Z",
     "start_time": "2024-07-12T12:59:54.354652Z"
    }
   },
   "cell_type": "code",
   "source": [
    "from indox.data_loader_splitter import UnstructuredLoadAndSplit\n",
    "load_splitter = UnstructuredLoadAndSplit(file_path=file_path,max_chunk_size=400)\n",
    "docs = load_splitter.load_and_chunk()"
   ],
   "id": "4dcc52c1d0416383",
   "outputs": [
    {
     "name": "stdout",
     "output_type": "stream",
     "text": [
      "\u001B[32mINFO\u001B[0m: \u001B[1mUnstructuredLoadAndSplit initialized successfully\u001B[0m\n",
      "\u001B[32mINFO\u001B[0m: \u001B[1mGetting all documents\u001B[0m\n",
      "\u001B[32mINFO\u001B[0m: \u001B[1mStarting processing\u001B[0m\n",
      "\u001B[32mINFO\u001B[0m: \u001B[1mUsing title-based chunking\u001B[0m\n",
      "\u001B[32mINFO\u001B[0m: \u001B[1mCompleted chunking process\u001B[0m\n",
      "\u001B[32mINFO\u001B[0m: \u001B[1mSuccessfully obtained all documents\u001B[0m\n"
     ]
    }
   ],
   "execution_count": 5
  },
  {
   "metadata": {
    "id": "72d312cf4791f60f"
   },
   "cell_type": "markdown",
   "source": [
    "### Connecting Embedding Model to Indox\n",
    "\n",
    "With our reference data chunked and ready, the next step is to connect our embedding model to the Indox system. This connection enables the system to leverage the embeddings for better semantic understanding and retrieval performance.\n",
    "\n",
    "\n",
    "Let's connect the embedding model to Indox.\n"
   ],
   "id": "72d312cf4791f60f"
  },
  {
   "metadata": {
    "id": "ebc33cc4fb58a305",
    "ExecuteTime": {
     "end_time": "2024-07-12T13:00:11.364428Z",
     "start_time": "2024-07-12T13:00:10.670787Z"
    }
   },
   "cell_type": "code",
   "source": [
    "from indox.vector_stores import Chroma\n",
    "db = Chroma(collection_name=\"sample\",embedding_function=embed_mistral)"
   ],
   "id": "ebc33cc4fb58a305",
   "outputs": [],
   "execution_count": 6
  },
  {
   "metadata": {
    "id": "250da1a633bef038"
   },
   "cell_type": "markdown",
   "source": [
    "### Storing Data in the Vector Store\n",
    "\n",
    "After connecting our embedding model to the Indox system, the next step is to store our chunked reference data in the vector store. This process ensures that our data is indexed and readily available for retrieval during the question-answering process.\n",
    "\n",
    "Let's proceed with storing the data in the vector store.\n"
   ],
   "id": "250da1a633bef038"
  },
  {
   "metadata": {
    "id": "83b2f51f1a359477",
    "outputId": "c2d4c310-d550-4e15-9776-24b7c23a7ee8",
    "colab": {
     "base_uri": "https://localhost:8080/"
    },
    "jupyter": {
     "is_executing": true
    },
    "ExecuteTime": {
     "start_time": "2024-07-12T13:00:11.372085Z"
    }
   },
   "cell_type": "code",
   "source": "db.add(docs=docs)",
   "id": "83b2f51f1a359477",
   "outputs": [
    {
     "name": "stdout",
     "output_type": "stream",
     "text": [
      "\u001B[32mINFO\u001B[0m: \u001B[1mStoring documents in the vector store\u001B[0m\n"
     ]
    }
   ],
   "execution_count": null
  },
  {
   "metadata": {
    "id": "7766ed35249fef6e"
   },
   "cell_type": "markdown",
   "source": [
    "## Query from RAG System with Indox\n",
    "With our Retrieval-Augmented Generation (RAG) system built using Indox, we are now ready to test it with a sample question. This test will demonstrate how effectively our system can retrieve and generate accurate answers based on the reference data stored in the vector store.\n",
    "\n",
    "We'll use a sample query to test our system:\n",
    "- **Query**: \"How did Cinderella reach her happy ending?\"\n",
    "\n",
    "This question will be processed by our Indox system to retrieve relevant information and generate an appropriate response.\n",
    "\n",
    "Let's test our RAG system with the sample question"
   ],
   "id": "7766ed35249fef6e"
  },
  {
   "metadata": {
    "id": "c30a41f4d7293b39",
    "jupyter": {
     "is_executing": true
    }
   },
   "cell_type": "code",
   "source": [
    "query = \"How cinderella reach her happy ending?\""
   ],
   "id": "c30a41f4d7293b39",
   "outputs": [],
   "execution_count": null
  },
  {
   "metadata": {
    "id": "58639a3d46eb327f"
   },
   "cell_type": "markdown",
   "source": [
    "Now that our Retrieval-Augmented Generation (RAG) system with Indox is fully set up, we can test it with a sample question. We'll use the `invoke` submethod to get a response from the system.\n",
    "\n",
    "\n",
    "The `invoke` method processes the query using the connected QA model and retrieves relevant information from the vector store. It returns a list where:\n",
    "- The first index contains the answer.\n",
    "- The second index contains the contexts and their respective scores.\n",
    "\n",
    "\n",
    "We'll pass this query to the `invoke` method and print the response.\n"
   ],
   "id": "58639a3d46eb327f"
  },
  {
   "metadata": {
    "id": "66ecb3768f04d326",
    "jupyter": {
     "is_executing": true
    }
   },
   "cell_type": "code",
   "source": [
    "retriever = indox.QuestionAnswer(vector_database=db,llm=mistral_qa,top_k=5)"
   ],
   "id": "66ecb3768f04d326",
   "outputs": [],
   "execution_count": null
  },
  {
   "metadata": {
    "id": "9adbffdb7d5427bd",
    "jupyter": {
     "is_executing": true
    }
   },
   "cell_type": "code",
   "source": [
    "answer = retriever.invoke(query=query)"
   ],
   "id": "9adbffdb7d5427bd",
   "outputs": [],
   "execution_count": null
  },
  {
   "metadata": {
    "id": "f905f84906433aab",
    "outputId": "da7808e4-2408-4ff6-b185-a97413f08713",
    "colab": {
     "base_uri": "https://localhost:8080/",
     "height": 140
    },
    "jupyter": {
     "is_executing": true
    }
   },
   "cell_type": "code",
   "source": [
    "answer"
   ],
   "id": "f905f84906433aab",
   "outputs": [],
   "execution_count": null
  },
  {
   "metadata": {
    "id": "db289e0dae276aee",
    "outputId": "cafedfc6-1137-48ae-c095-b0052f393dcf",
    "colab": {
     "base_uri": "https://localhost:8080/"
    },
    "jupyter": {
     "is_executing": true
    }
   },
   "cell_type": "code",
   "source": [
    "context = retriever.context\n",
    "context"
   ],
   "id": "db289e0dae276aee",
   "outputs": [],
   "execution_count": null
  },
  {
   "metadata": {
    "id": "ea002e2ab9469d7b"
   },
   "cell_type": "markdown",
   "source": [
    "## Evaluation\n",
    "Evaluating the performance of your question-answering system is crucial to ensure the quality and reliability of the responses. In this section, we will use the `Evaluation` module from Indox to assess our system's outputs.\n"
   ],
   "id": "ea002e2ab9469d7b"
  },
  {
   "metadata": {
    "ExecuteTime": {
     "end_time": "2024-06-09T10:23:21.759373Z",
     "start_time": "2024-06-09T10:23:16.751306Z"
    },
    "id": "48d4718f798523c8"
   },
   "cell_type": "code",
   "source": [
    "from indox.evaluation import Evaluation\n",
    "evaluator = Evaluation([\"BertScore\", \"Toxicity\"])"
   ],
   "id": "48d4718f798523c8",
   "outputs": [],
   "execution_count": null
  },
  {
   "metadata": {
    "id": "dca587b000e0f3d5"
   },
   "cell_type": "markdown",
   "source": [
    "### Preparing Inputs for Evaluation\n",
    "Next, we need to format the inputs according to the Indox evaluator's requirements. This involves creating a dictionary that includes the question, the generated answer, and the context from which the answer was derived."
   ],
   "id": "dca587b000e0f3d5"
  },
  {
   "metadata": {
    "ExecuteTime": {
     "end_time": "2024-06-09T10:23:22.516004Z",
     "start_time": "2024-06-09T10:23:21.759373Z"
    },
    "id": "26d130c534ed349f"
   },
   "cell_type": "code",
   "source": [
    "inputs = {\n",
    "    \"question\" : query,\n",
    "    \"answer\" : answer,\n",
    "    \"context\" : context\n",
    "}\n",
    "result = evaluator(inputs)"
   ],
   "id": "26d130c534ed349f",
   "outputs": [],
   "execution_count": null
  },
  {
   "metadata": {
    "ExecuteTime": {
     "end_time": "2024-06-09T10:23:22.534495Z",
     "start_time": "2024-06-09T10:23:22.516004Z"
    },
    "id": "da14c97311ae1028",
    "outputId": "e982f515-31c3-4b31-89c2-7351a34a67e2"
   },
   "cell_type": "code",
   "source": [
    "result"
   ],
   "id": "da14c97311ae1028",
   "outputs": [
    {
     "data": {
      "text/plain": [
       "                  0\n",
       "Precision  0.524382\n",
       "Recall     0.537209\n",
       "F1-score   0.530718\n",
       "Toxicity   0.074495"
      ],
      "text/html": [
       "<div>\n",
       "<style scoped>\n",
       "    .dataframe tbody tr th:only-of-type {\n",
       "        vertical-align: middle;\n",
       "    }\n",
       "\n",
       "    .dataframe tbody tr th {\n",
       "        vertical-align: top;\n",
       "    }\n",
       "\n",
       "    .dataframe thead th {\n",
       "        text-align: right;\n",
       "    }\n",
       "</style>\n",
       "<table border=\"1\" class=\"dataframe\">\n",
       "  <thead>\n",
       "    <tr style=\"text-align: right;\">\n",
       "      <th></th>\n",
       "      <th>0</th>\n",
       "    </tr>\n",
       "  </thead>\n",
       "  <tbody>\n",
       "    <tr>\n",
       "      <th>Precision</th>\n",
       "      <td>0.524382</td>\n",
       "    </tr>\n",
       "    <tr>\n",
       "      <th>Recall</th>\n",
       "      <td>0.537209</td>\n",
       "    </tr>\n",
       "    <tr>\n",
       "      <th>F1-score</th>\n",
       "      <td>0.530718</td>\n",
       "    </tr>\n",
       "    <tr>\n",
       "      <th>Toxicity</th>\n",
       "      <td>0.074495</td>\n",
       "    </tr>\n",
       "  </tbody>\n",
       "</table>\n",
       "</div>"
      ]
     },
     "execution_count": 15,
     "metadata": {},
     "output_type": "execute_result"
    }
   ],
   "execution_count": null
  },
  {
   "metadata": {
    "id": "1c0e58d968847693"
   },
   "cell_type": "code",
   "outputs": [],
   "execution_count": null,
   "source": [],
   "id": "1c0e58d968847693"
  }
 ],
 "metadata": {
  "kernelspec": {
   "display_name": "Python 3",
   "language": "python",
   "name": "python3"
  },
  "language_info": {
   "codemirror_mode": {
    "name": "ipython",
    "version": 2
   },
   "file_extension": ".py",
   "mimetype": "text/x-python",
   "name": "python",
   "nbconvert_exporter": "python",
   "pygments_lexer": "ipython2",
   "version": "2.7.6"
  },
  "colab": {
   "provenance": []
  }
 },
 "nbformat": 4,
 "nbformat_minor": 5
}
