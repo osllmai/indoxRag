{
 "cells": [
  {
   "metadata": {},
   "cell_type": "markdown",
   "source": [
    "# Using GutenbergReader for Accessing Project Gutenberg Books\n",
    "In this notebook, we will demonstrate how to use the `GutenbergReader` class for accessing books from Project Gutenberg. The `GutenbergReader` class interacts with the Project Gutenberg website to retrieve book content and metadata, which can be valuable for various applications, including research and question-answering systems.\n",
    "\n",
    "To get started, ensure you have your Project Gutenberg book IDs ready for fetching the content. This setup is crucial for accessing and processing book data effectively.\n",
    "\n",
    "To begin, ensure you have set up your environment variables and API keys in Python using the dotenv library. This is crucial for securely managing sensitive information, such as API keys, especially when using services like HuggingFace. Ensure your `HUGGINGFACE_API_KEY` is defined in the `.env` file to avoid hardcoding sensitive data into your codebase, thus enhancing security and maintainability.\n",
    "\n",
    "[![Open In Colab](https://colab.research.google.com/assets/colab-badge.svg)](https://colab.research.google.com/github/osllmai/inDox/blob/master/Demo/guten_chroma_semantic.ipynb)"
   ],
   "id": "3b8b50c8955b671b"
  },
  {
   "metadata": {},
   "cell_type": "code",
   "outputs": [],
   "execution_count": null,
   "source": [
    "!pip install indox\n",
    "!pip install chromadb\n",
    "!pip install beautifulsoup4\n",
    "!pip install sentence_transformers\n",
    "!pip install semantic_text_splitter"
   ],
   "id": "402b1185e6566f03"
  },
  {
   "metadata": {},
   "cell_type": "markdown",
   "source": [
    "## Setting Up the Python Environment\n",
    "\n",
    "If you are running this project in your local IDE, please create a Python environment to ensure all dependencies are correctly managed. You can follow the steps below to set up a virtual environment named `indox`:\n",
    "\n",
    "### Windows\n",
    "\n",
    "1. **Create the virtual environment:**\n",
    "```bash\n",
    "python -m venv indox\n",
    "```\n",
    "2. **Activate the virtual environment:**\n",
    "```bash\n",
    "indox_judge\\Scripts\\activate\n",
    "```\n",
    "\n",
    "### macOS/Linux\n",
    "\n",
    "1. **Create the virtual environment:**\n",
    "   ```bash\n",
    "   python3 -m venv indox\n",
    "    ```\n",
    "\n",
    "2. **Activate the virtual environment:**\n",
    "    ```bash\n",
    "   source indox/bin/activate\n",
    "    ```\n",
    "### Install Dependencies\n",
    "\n",
    "Once the virtual environment is activated, install the required dependencies by running:\n",
    "\n",
    "```bash\n",
    "pip install -r requirements.txt\n",
    "```\n"
   ],
   "id": "34666a88534518cf"
  },
  {
   "metadata": {},
   "cell_type": "markdown",
   "source": [
    "## Import Essential Libraries\n",
    "\n",
    "Next, we import the essential libraries for our Indox question-answering system:\n",
    "\n",
    "- `IndoxRetrievalAugmentation`: Enhances the retrieval process by improving the relevance and quality of the documents retrieved, leading to better QA performance.\n",
    "- `MistralQA`: A powerful QA model provided by Indox, built on top of the Hugging Face model architecture. It leverages state-of-the-art language understanding to deliver precise answers.\n",
    "- `HuggingFaceEmbedding`: This library uses Hugging Face embeddings to enrich semantic understanding, making it easier to capture the contextual meaning of the text.\n",
    "- `SemanticTextSplitter`: utilizes a Hugging Face tokenizer to intelligently split text into chunks based on a specified maximum number of tokens, ensuring that each chunk maintains semantic coherence."
   ],
   "id": "4961379b71c5d3fc"
  },
  {
   "metadata": {
    "ExecuteTime": {
     "end_time": "2024-08-27T07:26:00.925099Z",
     "start_time": "2024-08-27T07:26:00.918099Z"
    }
   },
   "cell_type": "code",
   "source": [
    "import os\n",
    "from dotenv import load_dotenv\n",
    "\n",
    "load_dotenv('api.env')\n",
    "\n",
    "HUGGINGFACE_API_KEY = os.environ['HUGGINGFACE_API_KEY']"
   ],
   "id": "dfc9daa14417b6e9",
   "outputs": [],
   "execution_count": 6
  },
  {
   "cell_type": "code",
   "id": "initial_id",
   "metadata": {
    "collapsed": true,
    "ExecuteTime": {
     "end_time": "2024-08-27T07:26:02.699628Z",
     "start_time": "2024-08-27T07:26:02.694540Z"
    }
   },
   "source": [
    "from indox import IndoxRetrievalAugmentation\n",
    "indox = IndoxRetrievalAugmentation()"
   ],
   "outputs": [
    {
     "name": "stdout",
     "output_type": "stream",
     "text": [
      "\u001B[32mINFO\u001B[0m: \u001B[1mIndoxRetrievalAugmentation initialized\u001B[0m\n",
      "\n",
      "            ██  ███    ██  ██████   ██████  ██       ██\n",
      "            ██  ████   ██  ██   ██ ██    ██   ██  ██\n",
      "            ██  ██ ██  ██  ██   ██ ██    ██     ██\n",
      "            ██  ██  ██ ██  ██   ██ ██    ██   ██   ██\n",
      "            ██  ██  █████  ██████   ██████  ██       ██\n",
      "            \n"
     ]
    }
   ],
   "execution_count": 7
  },
  {
   "metadata": {},
   "cell_type": "markdown",
   "source": [
    "## Building the GutenbergReader System and Initializing Models\n",
    "Next, we will build our `GutenbergReader` system and initialize the necessary models for processing content from Project Gutenberg. This setup will enable us to effectively retrieve and handle texts from Gutenberg's collection, leveraging these models to support various research and question-answering tasks."
   ],
   "id": "e631854ff3240f6a"
  },
  {
   "metadata": {
    "ExecuteTime": {
     "end_time": "2024-08-27T07:26:08.393142Z",
     "start_time": "2024-08-27T07:26:05.295511Z"
    }
   },
   "cell_type": "code",
   "source": [
    "from indox.llms import HuggingFaceModel\n",
    "from indox.embeddings import HuggingFaceEmbedding\n",
    "\n",
    "\n",
    "mistral_qa = HuggingFaceModel(api_key=HUGGINGFACE_API_KEY,model=\"mistralai/Mistral-7B-Instruct-v0.2\")\n",
    "embed = HuggingFaceEmbedding(api_key=HUGGINGFACE_API_KEY,model=\"multi-qa-mpnet-base-cos-v1\")"
   ],
   "id": "aad9a7a29fc81465",
   "outputs": [
    {
     "name": "stdout",
     "output_type": "stream",
     "text": [
      "\u001B[32mINFO\u001B[0m: \u001B[1mInitializing HuggingFaceModel with model: mistralai/Mistral-7B-Instruct-v0.2\u001B[0m\n",
      "\u001B[32mINFO\u001B[0m: \u001B[1mHuggingFaceModel initialized successfully\u001B[0m\n",
      "\u001B[32mINFO\u001B[0m: \u001B[1mInitialized HuggingFaceEmbedding with model: multi-qa-mpnet-base-cos-v1\u001B[0m\n"
     ]
    }
   ],
   "execution_count": 8
  },
  {
   "metadata": {},
   "cell_type": "markdown",
   "source": [
    "## Setting Up the GutenbergReader for Retrieving Book Content\n",
    "To demonstrate the capabilities of our `GutenbergReader` system and its integration with `Indox`, we will use a sample book from Project Gutenberg. This book will serve as our reference data, which we will use for testing and evaluation of the system."
   ],
   "id": "4c29659851115c85"
  },
  {
   "metadata": {
    "ExecuteTime": {
     "end_time": "2024-08-27T07:28:15.003652Z",
     "start_time": "2024-08-27T07:28:12.627524Z"
    }
   },
   "cell_type": "code",
   "source": [
    "from indox.data_connectors import GutenbergReader\n",
    "\n",
    "reader = GutenbergReader()\n",
    "\n",
    "book_id = \"11\"  # Alice's Adventures in Wonderland\n",
    "content = reader.get_content(book_id)"
   ],
   "id": "ff2ba25cec5cb1a",
   "outputs": [],
   "execution_count": 21
  },
  {
   "metadata": {},
   "cell_type": "markdown",
   "source": [
    "## Splitting Content into Manageable Chunks\n",
    "We use the `SemanticTextSplitter` function from the `indox.splitter` module to divide the retrieved content into smaller, meaningful chunks."
   ],
   "id": "bf7b838e3518614d"
  },
  {
   "metadata": {
    "ExecuteTime": {
     "end_time": "2024-08-27T07:28:18.404176Z",
     "start_time": "2024-08-27T07:28:16.353765Z"
    }
   },
   "cell_type": "code",
   "source": [
    "from indox.splitter import SemanticTextSplitter\n",
    "splitter = SemanticTextSplitter(400)\n",
    "content_chunks = splitter.split_text(content)"
   ],
   "id": "835fe1c42c4e31df",
   "outputs": [],
   "execution_count": 22
  },
  {
   "metadata": {},
   "cell_type": "markdown",
   "source": [
    "## Storing and Indexing Content with Chroma\n",
    "We use the `Chroma` vector store from the `indox.vector_stores` module to store and index the content chunks. By creating a collection named \"sample\" and applying an embedding function (`embed`), we convert each chunk into a vector for efficient retrieval. The `add` method then adds these vectors to the database, enabling scalable and effective search for question-answering tasks."
   ],
   "id": "41c4ec0584b71cc9"
  },
  {
   "metadata": {
    "ExecuteTime": {
     "end_time": "2024-08-27T07:28:25.009706Z",
     "start_time": "2024-08-27T07:28:21.355330Z"
    }
   },
   "cell_type": "code",
   "source": [
    "from indox.vector_stores import Chroma\n",
    "db = Chroma(collection_name=\"sample\",embedding_function=embed)\n",
    "db.add(docs=content_chunks)\n"
   ],
   "id": "4636c3ad55b48d94",
   "outputs": [
    {
     "name": "stdout",
     "output_type": "stream",
     "text": [
      "\u001B[32mINFO\u001B[0m: \u001B[1mStoring documents in the vector store\u001B[0m\n",
      "\u001B[32mINFO\u001B[0m: \u001B[1mEmbedding documents\u001B[0m\n",
      "\u001B[32mINFO\u001B[0m: \u001B[1mStarting to fetch embeddings for texts using model: SentenceTransformer(\n",
      "  (0): Transformer({'max_seq_length': 512, 'do_lower_case': False}) with Transformer model: MPNetModel \n",
      "  (1): Pooling({'word_embedding_dimension': 768, 'pooling_mode_cls_token': False, 'pooling_mode_mean_tokens': True, 'pooling_mode_max_tokens': False, 'pooling_mode_mean_sqrt_len_tokens': False, 'pooling_mode_weightedmean_tokens': False, 'pooling_mode_lasttoken': False, 'include_prompt': True})\n",
      "  (2): Normalize()\n",
      ")\u001B[0m\n",
      "\u001B[32mINFO\u001B[0m: \u001B[1mDocument added successfully to the vector store.\u001B[0m\n",
      "\u001B[32mINFO\u001B[0m: \u001B[1mDocuments stored successfully\u001B[0m\n"
     ]
    }
   ],
   "execution_count": 23
  },
  {
   "metadata": {},
   "cell_type": "markdown",
   "source": [
    "## Querying Project Gutenberg Data with Indox\n",
    "With our `GutenbergReader` system and `Indox` fully set up, we are ready to test it using a sample query. This test will demonstrate how effectively our system can retrieve and process information from books in the Project Gutenberg collection.\n",
    "\n",
    "We’ll use the following sample query to evaluate our system:\n",
    "\n",
    "- Query: \"Who is the speaker talking to in the text?\"\n",
    "\n",
    "This question will be processed by the `GutenbergReader` and `Indox` system to retrieve relevant book content and generate an accurate response based on the text.\n",
    "\n",
    "Let’s put our setup to the test with this query."
   ],
   "id": "ad5aaa53fce659c4"
  },
  {
   "metadata": {
    "ExecuteTime": {
     "end_time": "2024-08-27T07:28:33.660564Z",
     "start_time": "2024-08-27T07:28:33.649570Z"
    }
   },
   "cell_type": "code",
   "source": [
    "query = \"Who is the speaker talking to in the text?\"\n",
    "retriever = indox.QuestionAnswer(vector_database=db, llm=mistral_qa, top_k=1)"
   ],
   "id": "a9e7053437d60ca",
   "outputs": [],
   "execution_count": 24
  },
  {
   "metadata": {},
   "cell_type": "markdown",
   "source": [
    "Now that our `GutenbergReader` system with `Indox` is fully set up, we can test it with a sample query. We’ll use the invoke method to get a response from the system.\n",
    "\n",
    "The `invoke` method processes the query using the connected QA model and retrieves relevant information from the book content.\n",
    "\n",
    "We’ll pass the query to the `invoke` method and print the response to evaluate how effectively the system retrieves and generates answers based on the Project Gutenberg content."
   ],
   "id": "c20611d34f3b8773"
  },
  {
   "metadata": {
    "ExecuteTime": {
     "end_time": "2024-08-27T07:28:37.682341Z",
     "start_time": "2024-08-27T07:28:35.895681Z"
    }
   },
   "cell_type": "code",
   "source": [
    "answer = retriever.invoke(query)\n",
    "context = retriever.context"
   ],
   "id": "cad8c3510343e8f",
   "outputs": [
    {
     "name": "stdout",
     "output_type": "stream",
     "text": [
      "\u001B[32mINFO\u001B[0m: \u001B[1mRetrieving context and scores from the vector database\u001B[0m\n",
      "\u001B[32mINFO\u001B[0m: \u001B[1mEmbedding documents\u001B[0m\n",
      "\u001B[32mINFO\u001B[0m: \u001B[1mStarting to fetch embeddings for texts using model: SentenceTransformer(\n",
      "  (0): Transformer({'max_seq_length': 512, 'do_lower_case': False}) with Transformer model: MPNetModel \n",
      "  (1): Pooling({'word_embedding_dimension': 768, 'pooling_mode_cls_token': False, 'pooling_mode_mean_tokens': True, 'pooling_mode_max_tokens': False, 'pooling_mode_mean_sqrt_len_tokens': False, 'pooling_mode_weightedmean_tokens': False, 'pooling_mode_lasttoken': False, 'include_prompt': True})\n",
      "  (2): Normalize()\n",
      ")\u001B[0m\n",
      "\u001B[32mINFO\u001B[0m: \u001B[1mGenerating answer without document relevancy filter\u001B[0m\n",
      "\u001B[32mINFO\u001B[0m: \u001B[1mAnswering question\u001B[0m\n",
      "\u001B[32mINFO\u001B[0m: \u001B[1mSending request to Hugging Face API\u001B[0m\n",
      "\u001B[32mINFO\u001B[0m: \u001B[1mReceived successful response from Hugging Face API\u001B[0m\n",
      "\u001B[32mINFO\u001B[0m: \u001B[1mQuery answered successfully\u001B[0m\n"
     ]
    }
   ],
   "execution_count": 25
  },
  {
   "metadata": {
    "ExecuteTime": {
     "end_time": "2024-08-27T07:28:39.605873Z",
     "start_time": "2024-08-27T07:28:39.593877Z"
    }
   },
   "cell_type": "code",
   "source": "answer",
   "id": "a1edb80591b75581",
   "outputs": [
    {
     "data": {
      "text/plain": [
       "'The speaker is Alice, and she is talking to the crowd of animals that has gathered around Bill the Rabbit.'"
      ]
     },
     "execution_count": 26,
     "metadata": {},
     "output_type": "execute_result"
    }
   ],
   "execution_count": 26
  }
 ],
 "metadata": {
  "kernelspec": {
   "display_name": "Python 3",
   "language": "python",
   "name": "python3"
  },
  "language_info": {
   "codemirror_mode": {
    "name": "ipython",
    "version": 2
   },
   "file_extension": ".py",
   "mimetype": "text/x-python",
   "name": "python",
   "nbconvert_exporter": "python",
   "pygments_lexer": "ipython2",
   "version": "2.7.6"
  }
 },
 "nbformat": 4,
 "nbformat_minor": 5
}
