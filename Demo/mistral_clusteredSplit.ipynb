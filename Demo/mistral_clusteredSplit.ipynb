{
 "cells": [
  {
   "metadata": {},
   "cell_type": "markdown",
   "source": [
    "## Indox Retrieval Augmentation\n",
    "Here, we will explore how to work with Indox Retrieval Augmentation. We are using Mistral as LLM model and HuggingFace for our embedding, we should set our HUGGINGFACE_API_KEY and MISTRAL_API_KEY as an environment variable.\n",
    "\n",
    "[![Open In Colab](https://colab.research.google.com/assets/colab-badge.svg)](https://colab.research.google.com/github/osllmai/inDox/blob/master/Demo/mistral_clusteredSplit.ipynb)"
   ],
   "id": "b992ee491b528602"
  },
  {
   "metadata": {},
   "cell_type": "code",
   "outputs": [],
   "execution_count": null,
   "source": [
    "!pip install indox\n",
    "!pip install mistralai\n",
    "!pip install chromadb"
   ],
   "id": "64b7a71fa49e18d4"
  },
  {
   "metadata": {},
   "cell_type": "markdown",
   "source": [
    "## Setting Up the Python Environment\n",
    "\n",
    "If you are running this project in your local IDE, please create a Python environment to ensure all dependencies are correctly managed. You can follow the steps below to set up a virtual environment named `indox`:\n",
    "\n",
    "### Windows\n",
    "\n",
    "1. **Create the virtual environment:**\n",
    "```bash\n",
    "  python -m venv indox\n",
    "```\n",
    "\n",
    "2. **Activate the virtual environment:**\n",
    "```bash\n",
    "  indox\\Scripts\\activate\n",
    "```\n",
    "\n",
    "\n",
    "### macOS/Linux\n",
    "\n",
    "1. **Create the virtual environment:**\n",
    "   ```bash\n",
    "   python3 -m venv indox\n",
    "   \n",
    "2. **Activate the virtual environment:**\n",
    "```bash\n",
    "  source indox/bin/activate\n",
    "```\n",
    "\n",
    "### Install Dependencies\n",
    "\n",
    "Once the virtual environment is activated, install the required dependencies by running:\n",
    "\n",
    "```bash\n",
    "  pip install -r requirements.txt\n",
    "```\n"
   ],
   "id": "3342aa23beeb948c"
  },
  {
   "metadata": {},
   "cell_type": "code",
   "outputs": [],
   "execution_count": null,
   "source": "!wget https://raw.githubusercontent.com/osllmai/inDox/master/Demo/sample.txt",
   "id": "ce180e33d8226d28"
  },
  {
   "metadata": {},
   "cell_type": "markdown",
   "source": [
    "## Setting Up the Python Environment\n",
    "\n",
    "If you are running this project in your local IDE, please create a Python environment to ensure all dependencies are correctly managed. You can follow the steps below to set up a virtual environment named `indox`:\n",
    "\n",
    "### Windows\n",
    "\n",
    "1. **Create the virtual environment:**\n",
    "```bash\n",
    "python -m venv indox\n",
    "```\n",
    "2. **Activate the virtual environment:**\n",
    "```bash\n",
    "indox_judge\\Scripts\\activate\n",
    "```\n",
    "\n",
    "### macOS/Linux\n",
    "\n",
    "1. **Create the virtual environment:**\n",
    "   ```bash\n",
    "   python3 -m venv indox\n",
    "```\n",
    "\n",
    "2. **Activate the virtual environment:**\n",
    "    ```bash\n",
    "   source indox/bin/activate\n",
    "```\n",
    "### Install Dependencies\n",
    "\n",
    "Once the virtual environment is activated, install the required dependencies by running:\n",
    "\n",
    "```bash\n",
    "pip install -r requirements.txt\n",
    "```\n"
   ],
   "id": "b424880a731bf8af"
  },
  {
   "cell_type": "code",
   "id": "initial_id",
   "metadata": {
    "collapsed": true,
    "ExecuteTime": {
     "end_time": "2024-07-24T05:43:19.981844Z",
     "start_time": "2024-07-24T05:43:19.969220Z"
    }
   },
   "source": [
    "import os\n",
    "from dotenv import load_dotenv\n",
    "\n",
    "load_dotenv()\n",
    "MISTRAL_API_KEY = os.getenv('MISTRAL_API_KEY')\n",
    "HUGGINGFACE_API_KEY = os.getenv('HUGGINGFACE_API_KEY')"
   ],
   "outputs": [],
   "execution_count": 1
  },
  {
   "metadata": {},
   "cell_type": "markdown",
   "source": [
    "### Creating an instance of IndoxTetrivalAugmentation\n",
    "\n",
    "To effectively utilize the Indox Retrieval Augmentation capabilities, you must first create an instance of the IndoxRetrievalAugmentation class. This instance will allow you to access the methods and properties defined within the class, enabling the augmentation and retrieval functionalities."
   ],
   "id": "c7c1f16d899f2423"
  },
  {
   "metadata": {
    "ExecuteTime": {
     "end_time": "2024-07-24T05:43:21.115173Z",
     "start_time": "2024-07-24T05:43:20.930482Z"
    }
   },
   "cell_type": "code",
   "source": [
    "from indox import IndoxRetrievalAugmentation\n",
    "indox = IndoxRetrievalAugmentation()"
   ],
   "id": "92018a2d0b19b301",
   "outputs": [
    {
     "name": "stdout",
     "output_type": "stream",
     "text": [
      "\u001B[32mINFO\u001B[0m: \u001B[1mIndoxRetrievalAugmentation initialized\u001B[0m\n",
      "\n",
      "            ██  ███    ██  ██████   ██████  ██       ██\n",
      "            ██  ████   ██  ██   ██ ██    ██   ██  ██\n",
      "            ██  ██ ██  ██  ██   ██ ██    ██     ██\n",
      "            ██  ██  ██ ██  ██   ██ ██    ██   ██   ██\n",
      "            ██  ██  █████  ██████   ██████  ██       ██\n",
      "            \n"
     ]
    }
   ],
   "execution_count": 2
  },
  {
   "metadata": {
    "ExecuteTime": {
     "end_time": "2024-07-24T05:43:21.905827Z",
     "start_time": "2024-07-24T05:43:21.899330Z"
    }
   },
   "cell_type": "code",
   "source": "indox.__version__",
   "id": "ff10959e7dbf65be",
   "outputs": [
    {
     "data": {
      "text/plain": [
       "'0.1.15'"
      ]
     },
     "execution_count": 3,
     "metadata": {},
     "output_type": "execute_result"
    }
   ],
   "execution_count": 3
  },
  {
   "metadata": {},
   "cell_type": "markdown",
   "source": [
    "### Generating response using Mistral's language models \n",
    "MistralQA class is used to handle question-answering task using Mistral's language models from HuggingFace. This instance creates HuggingFaceEmbedding class to specifying embedding model.By using UnstructuredLoadAndSplit function we can import various file types and split them into chunks."
   ],
   "id": "f497dae86563ecb3"
  },
  {
   "metadata": {
    "ExecuteTime": {
     "end_time": "2024-07-24T05:44:34.937195Z",
     "start_time": "2024-07-24T05:44:34.488676Z"
    }
   },
   "cell_type": "code",
   "source": [
    "from indox.llms import Mistral\n",
    "from indox.embeddings import HuggingFaceEmbedding\n",
    "from indox.data_loader_splitter import ClusteredSplit\n",
    "from indox.embeddings import MistralEmbedding\n",
    "mistral_qa = Mistral(api_key=MISTRAL_API_KEY)\n",
    "# embed_hf = HuggingFaceEmbedding(model=\"multi-qa-mpnet-base-cos-v1\")\n",
    "embed_mistral = MistralEmbedding(MISTRAL_API_KEY,model=\"mistral-embed\")\n",
    "file_path = \"sample.txt\"\n",
    "\n"
   ],
   "id": "e8255e31a4b3e951",
   "outputs": [
    {
     "name": "stdout",
     "output_type": "stream",
     "text": [
      "\u001B[32mINFO\u001B[0m: \u001B[1mInitializing MistralAI with model: mistral-medium-latest\u001B[0m\n",
      "\u001B[32mINFO\u001B[0m: \u001B[1mMistralAI initialized successfully\u001B[0m\n",
      "\u001B[32mINFO\u001B[0m: \u001B[1mInitialized MistralEmbedding with model: mistral-embed\u001B[0m\n"
     ]
    }
   ],
   "execution_count": 7
  },
  {
   "metadata": {
    "ExecuteTime": {
     "end_time": "2024-07-24T05:45:18.671382Z",
     "start_time": "2024-07-24T05:44:36.205057Z"
    }
   },
   "cell_type": "code",
   "source": [
    "loader_splitter = ClusteredSplit(file_path=file_path,summary_model=mistral_qa,embeddings=embed_mistral)\n",
    "docs = loader_splitter.load_and_chunk()"
   ],
   "id": "a1927daaf1dd2db3",
   "outputs": [
    {
     "name": "stdout",
     "output_type": "stream",
     "text": [
      "\u001B[32mINFO\u001B[0m: \u001B[1mClusteredSplit initialized successfully\u001B[0m\n",
      "\u001B[32mINFO\u001B[0m: \u001B[1mStarting processing for documents\u001B[0m\n",
      "\u001B[32mINFO\u001B[0m: \u001B[1mEmbedding documents\u001B[0m\n",
      "\u001B[32mINFO\u001B[0m: \u001B[1mStarting to fetch embeddings for texts using engine: mistral-embed\u001B[0m\n",
      "\u001B[32mINFO\u001B[0m: \u001B[1m--Generated 6 clusters--\u001B[0m\n",
      "\u001B[32mINFO\u001B[0m: \u001B[1mGenerating summary for documentation\u001B[0m\n",
      "\u001B[32mINFO\u001B[0m: \u001B[1mGenerating summary for documentation\u001B[0m\n",
      "\u001B[32mINFO\u001B[0m: \u001B[1mGenerating summary for documentation\u001B[0m\n",
      "\u001B[32mINFO\u001B[0m: \u001B[1mGenerating summary for documentation\u001B[0m\n",
      "\u001B[32mINFO\u001B[0m: \u001B[1mGenerating summary for documentation\u001B[0m\n",
      "\u001B[32mINFO\u001B[0m: \u001B[1mGenerating summary for documentation\u001B[0m\n",
      "\u001B[32mINFO\u001B[0m: \u001B[1mEmbedding documents\u001B[0m\n",
      "\u001B[32mINFO\u001B[0m: \u001B[1mStarting to fetch embeddings for texts using engine: mistral-embed\u001B[0m\n",
      "\u001B[32mINFO\u001B[0m: \u001B[1m--Generated 1 clusters--\u001B[0m\n",
      "\u001B[32mINFO\u001B[0m: \u001B[1mGenerating summary for documentation\u001B[0m\n",
      "\u001B[32mINFO\u001B[0m: \u001B[1mCompleted chunking & clustering process\u001B[0m\n",
      "\u001B[32mINFO\u001B[0m: \u001B[1mSuccessfully obtained all documents\u001B[0m\n"
     ]
    }
   ],
   "execution_count": 8
  },
  {
   "metadata": {},
   "cell_type": "markdown",
   "source": " Here ChromaVectorStore handles the storage and retrieval of vector embeddings by specifying a collection name and sets up a vector store where text embeddings can be stored and queried.",
   "id": "8a7b62989d2708c2"
  },
  {
   "metadata": {
    "ExecuteTime": {
     "end_time": "2024-07-24T05:45:20.112580Z",
     "start_time": "2024-07-24T05:45:19.512146Z"
    }
   },
   "cell_type": "code",
   "source": [
    "from indox.vector_stores import Chroma\n",
    "db = Chroma(collection_name=\"sample\",embedding_function=embed_mistral)"
   ],
   "id": "5a3923803005cbc5",
   "outputs": [
    {
     "name": "stdout",
     "output_type": "stream",
     "text": [
      "\u001B[32mINFO\u001B[0m: \u001B[1mConnection to the vector store database established successfully\u001B[0m\n"
     ]
    },
    {
     "data": {
      "text/plain": [
       "<indox.vector_stores.chroma.Chroma at 0x27bb81d07a0>"
      ]
     },
     "execution_count": 9,
     "metadata": {},
     "output_type": "execute_result"
    }
   ],
   "execution_count": 9
  },
  {
   "metadata": {},
   "cell_type": "markdown",
   "source": [
    "### load and preprocess data\n",
    "This part of code demonstrates how to load and preprocess text data from a file, split it into chunks, and store these chunks in the vector store that was set up previously."
   ],
   "id": "55887dfe04c1f8fd"
  },
  {
   "metadata": {
    "ExecuteTime": {
     "end_time": "2024-07-24T05:45:33.396418Z",
     "start_time": "2024-07-24T05:45:27.012223Z"
    }
   },
   "cell_type": "code",
   "source": [
    "from indox.data_loader_splitter import UnstructuredLoadAndSplit\n",
    "loader_splitter = UnstructuredLoadAndSplit(file_path=file_path,max_chunk_size=400)\n",
    "docs = loader_splitter.load_and_chunk()"
   ],
   "id": "554442a48598a32e",
   "outputs": [
    {
     "name": "stdout",
     "output_type": "stream",
     "text": [
      "\u001B[32mINFO\u001B[0m: \u001B[1mUnstructuredLoadAndSplit initialized successfully\u001B[0m\n",
      "\u001B[32mINFO\u001B[0m: \u001B[1mGetting all documents\u001B[0m\n",
      "\u001B[32mINFO\u001B[0m: \u001B[1mStarting processing\u001B[0m\n",
      "\u001B[32mINFO\u001B[0m: \u001B[1mUsing title-based chunking\u001B[0m\n",
      "\u001B[32mINFO\u001B[0m: \u001B[1mCompleted chunking process\u001B[0m\n",
      "\u001B[32mINFO\u001B[0m: \u001B[1mSuccessfully obtained all documents\u001B[0m\n"
     ]
    }
   ],
   "execution_count": 10
  },
  {
   "metadata": {
    "ExecuteTime": {
     "end_time": "2024-07-24T05:45:36.301219Z",
     "start_time": "2024-07-24T05:45:36.297358Z"
    }
   },
   "cell_type": "code",
   "source": "len(docs)",
   "id": "a7f6d80399dd8ffc",
   "outputs": [
    {
     "data": {
      "text/plain": [
       "40"
      ]
     },
     "execution_count": 11,
     "metadata": {},
     "output_type": "execute_result"
    }
   ],
   "execution_count": 11
  },
  {
   "metadata": {
    "ExecuteTime": {
     "end_time": "2024-07-24T05:45:39.914566Z",
     "start_time": "2024-07-24T05:45:36.590646Z"
    }
   },
   "cell_type": "code",
   "source": "db.add(docs=docs)",
   "id": "ea39b02fcf49dca8",
   "outputs": [
    {
     "name": "stdout",
     "output_type": "stream",
     "text": [
      "\u001B[32mINFO\u001B[0m: \u001B[1mStoring documents in the vector store\u001B[0m\n",
      "\u001B[32mINFO\u001B[0m: \u001B[1mEmbedding documents\u001B[0m\n",
      "\u001B[32mINFO\u001B[0m: \u001B[1mStarting to fetch embeddings for texts using engine: mistral-embed\u001B[0m\n",
      "\u001B[32mINFO\u001B[0m: \u001B[1mDocument added successfully to the vector store.\u001B[0m\n",
      "\u001B[32mINFO\u001B[0m: \u001B[1mDocuments stored successfully\u001B[0m\n"
     ]
    },
    {
     "data": {
      "text/plain": [
       "<indox.vector_stores.chroma.Chroma at 0x27bb81d07a0>"
      ]
     },
     "execution_count": 12,
     "metadata": {},
     "output_type": "execute_result"
    }
   ],
   "execution_count": 12
  },
  {
   "metadata": {},
   "cell_type": "markdown",
   "source": [
    "### Retrieve relevant information and generate an answer\n",
    "The main purpose of these lines is to perform a query on the vector store to retrieve the most relevant information (top_k=5) and generate an answer using the language model."
   ],
   "id": "b8415803dad81e57"
  },
  {
   "metadata": {
    "ExecuteTime": {
     "end_time": "2024-07-24T05:45:42.993478Z",
     "start_time": "2024-07-24T05:45:42.989372Z"
    }
   },
   "cell_type": "code",
   "source": [
    "query = \"How cinderella reach her happy ending?\"\n",
    "retriever = indox.QuestionAnswer(vector_database=db,llm=mistral_qa,top_k=5)"
   ],
   "id": "7ff68754e1bc960",
   "outputs": [],
   "execution_count": 13
  },
  {
   "metadata": {},
   "cell_type": "markdown",
   "source": [
    "invoke(query) method sends the query to the retriever, which searches the vector store for relevant text chunks and uses the language model to generate a response based on the retrieved information.\n",
    "Context property retrieves the context or the detailed information that the retriever used to generate the answer to the query. It provides insight into how the query was answered by showing the relevant text chunks and any additional information used."
   ],
   "id": "b6acc665c7968a42"
  },
  {
   "metadata": {
    "ExecuteTime": {
     "end_time": "2024-07-24T05:45:53.591676Z",
     "start_time": "2024-07-24T05:45:45.073440Z"
    }
   },
   "cell_type": "code",
   "source": "retriever.invoke(query)",
   "id": "ade4b6dc40510ea",
   "outputs": [
    {
     "name": "stdout",
     "output_type": "stream",
     "text": [
      "\u001B[32mINFO\u001B[0m: \u001B[1mRetrieving context and scores from the vector database\u001B[0m\n",
      "\u001B[32mINFO\u001B[0m: \u001B[1mEmbedding documents\u001B[0m\n",
      "\u001B[32mINFO\u001B[0m: \u001B[1mStarting to fetch embeddings for texts using engine: mistral-embed\u001B[0m\n",
      "\u001B[32mINFO\u001B[0m: \u001B[1mGenerating answer without document relevancy filter\u001B[0m\n",
      "\u001B[32mINFO\u001B[0m: \u001B[1mAnswering question\u001B[0m\n",
      "\u001B[32mINFO\u001B[0m: \u001B[1mAttempting to generate an answer for the question\u001B[0m\n",
      "\u001B[32mINFO\u001B[0m: \u001B[1mQuery answered successfully\u001B[0m\n"
     ]
    },
    {
     "data": {
      "text/plain": [
       "\"Cinderella's happy ending began when her fairy godmother appeared and granted her wishes. With the help of the fairy godmother, Cinderella was able to attend the king's festival and dance with the prince. Despite the stepsisters' attempts to keep her from attending, Cinderella was able to go to the ball with the help of her magical dress, glass slippers, and carriage.\\n\\nAt the ball, the prince fell in love with Cinderella and danced with her all night. However, when the clock struck midnight, Cinderella had to leave in a hurry and accidentally left behind one of her glass slippers. The prince, determined to find the woman he had fallen in love with, searched the entire kingdom for the owner of the glass slipper. When he finally found Cinderella and the slipper fit her foot, he knew he had found his true love.\\n\\nIn the end, Cinderella married the prince and lived happily ever after. Despite the hardships she faced with her evil stepmother and stepsisters, Cinderella was able to overcome them and find her happily ever after with the help of a little bit of magic and a lot of determination.\""
      ]
     },
     "execution_count": 14,
     "metadata": {},
     "output_type": "execute_result"
    }
   ],
   "execution_count": 14
  },
  {
   "metadata": {
    "ExecuteTime": {
     "end_time": "2024-07-09T15:59:48.698313Z",
     "start_time": "2024-07-09T15:59:48.692530Z"
    }
   },
   "cell_type": "code",
   "source": "retriever.context",
   "id": "7c0c09a366864a80",
   "outputs": [
    {
     "data": {
      "text/plain": [
       "['by the hearth in the cinders. And as on that account she alwayslooked dusty and dirty, they called her cinderella.It happened that the father was once going to the fair, and heasked his two step-daughters what he should bring back for them.Beautiful dresses, said one, pearls and jewels, said the second.And you, cinderella, said he, what will you have. Father',\n",
       " \"to appear among the number, they were delighted, called cinderellaand said, comb our hair for us, brush our shoes and fasten ourbuckles, for we are going to the wedding at the king's palace.Cinderella obeyed, but wept, because she too would have liked togo with them to the dance, and begged her step-mother to allowher to do so. You go, cinderella, said she, covered in dust and\",\n",
       " 'cinderella expressed a wish, the bird threw down to her what shehad wished for.It happened, however, that the king gave orders for a festivalwhich was to last three days, and to which all the beautiful younggirls in the country were invited, in order that his son might choosehimself a bride. When the two step-sisters heard that they too were',\n",
       " \"danced with her only, and if any one invited her to dance, he saidthis is my partner.When evening came, cinderella wished to leave, and the king'sson was anxious to go with her, but she escaped from him so quicklythat he could not follow her. The king's son, however, hademployed a ruse, and had caused the whole staircase to be smeared\",\n",
       " \"Then the maiden was delighted, and believed that she might now gowith them to the wedding. But the step-mother said, all this willnot help. You cannot go with us, for you have no clothes and cannot dance. We should be ashamed of you. On this she turned herback on cinderella, and hurried away with her two proud daughters.As no one was now at home, cinderella went to her mother's\"]"
      ]
     },
     "execution_count": 18,
     "metadata": {},
     "output_type": "execute_result"
    }
   ],
   "execution_count": 18
  },
  {
   "metadata": {},
   "cell_type": "markdown",
   "source": [
    "### With AgenticRag\n",
    "\n",
    "AgenticRag stands for Agentic Retrieval-Augmented Generation. This concept combines retrieval-based methods and generation-based methods in natural language processing (NLP). The key idea is to enhance the generative capabilities of a language model by incorporating relevant information retrieved from a database or a vector store. \n",
    " AgenticRag is designed to provide more contextually rich and accurate responses by utilizing external knowledge sources. It retrieves relevant pieces of information (chunks) from a vector store based on a query and then uses a language model to generate a comprehensive response that incorporates this retrieved information."
   ],
   "id": "eb878e173a36425a"
  },
  {
   "metadata": {
    "ExecuteTime": {
     "end_time": "2024-07-09T16:00:40.691245Z",
     "start_time": "2024-07-09T16:00:21.487778Z"
    }
   },
   "cell_type": "code",
   "source": [
    "agent = indox.AgenticRag(llm=mistral_qa,vector_database=db,top_k=5)\n",
    "agent.run(\"where does messi plays right now?\")"
   ],
   "id": "43f1a9b5c6bf58d0",
   "outputs": [
    {
     "name": "stderr",
     "output_type": "stream",
     "text": [
      "2024-07-09 19:30:22,358 INFO:HTTP Request: POST https://api.mistral.ai/v1/embeddings \"HTTP/1.1 200 OK\"\n",
      "2024-07-09 19:30:23,247 INFO:HTTP Request: POST https://api.mistral.ai/v1/chat/completions \"HTTP/1.1 200 OK\"\n",
      "2024-07-09 19:30:29,288 INFO:HTTP Request: POST https://api.mistral.ai/v1/chat/completions \"HTTP/1.1 200 OK\"\n",
      "2024-07-09 19:30:30,881 INFO:HTTP Request: POST https://api.mistral.ai/v1/chat/completions \"HTTP/1.1 200 OK\"\n",
      "2024-07-09 19:30:32,840 INFO:HTTP Request: POST https://api.mistral.ai/v1/chat/completions \"HTTP/1.1 200 OK\"\n",
      "2024-07-09 19:30:33,450 INFO:HTTP Request: POST https://api.mistral.ai/v1/chat/completions \"HTTP/1.1 200 OK\"\n"
     ]
    },
    {
     "name": "stdout",
     "output_type": "stream",
     "text": [
      "\u001B[32mINFO\u001B[0m: \u001B[1mNo Relevant document found, Start web search\u001B[0m\n",
      "\u001B[32mINFO\u001B[0m: \u001B[1mNo Relevant Context Found, Start Searching On Web...\u001B[0m\n",
      "\u001B[32mINFO\u001B[0m: \u001B[1mAnswer Base On Web Search\u001B[0m\n",
      "\u001B[32mINFO\u001B[0m: \u001B[1mAnswering question\u001B[0m\n",
      "\u001B[32mINFO\u001B[0m: \u001B[1mAttempting to generate an answer for the question\u001B[0m\n"
     ]
    },
    {
     "name": "stderr",
     "output_type": "stream",
     "text": [
      "2024-07-09 19:30:39,215 INFO:HTTP Request: POST https://api.mistral.ai/v1/chat/completions \"HTTP/1.1 200 OK\"\n"
     ]
    },
    {
     "name": "stdout",
     "output_type": "stream",
     "text": [
      "\u001B[32mINFO\u001B[0m: \u001B[1mCheck For Hallucination In Generated Answer Base On Web Search\u001B[0m\n"
     ]
    },
    {
     "name": "stderr",
     "output_type": "stream",
     "text": [
      "2024-07-09 19:30:39,726 INFO:HTTP Request: POST https://api.mistral.ai/v1/chat/completions \"HTTP/1.1 200 OK\"\n"
     ]
    },
    {
     "name": "stdout",
     "output_type": "stream",
     "text": [
      "\u001B[32mINFO\u001B[0m: \u001B[1mHallucination detected, Regenerate the answer...\u001B[0m\n",
      "\u001B[32mINFO\u001B[0m: \u001B[1mAnswering question\u001B[0m\n",
      "\u001B[32mINFO\u001B[0m: \u001B[1mAttempting to generate an answer for the question\u001B[0m\n"
     ]
    },
    {
     "name": "stderr",
     "output_type": "stream",
     "text": [
      "2024-07-09 19:30:40,687 INFO:HTTP Request: POST https://api.mistral.ai/v1/chat/completions \"HTTP/1.1 200 OK\"\n"
     ]
    },
    {
     "data": {
      "text/plain": [
       "'Based on the provided context information, Lionel Messi currently plays for Inter Miami CF in Major League Soccer (MLS).'"
      ]
     },
     "execution_count": 20,
     "metadata": {},
     "output_type": "execute_result"
    }
   ],
   "execution_count": 20
  },
  {
   "metadata": {},
   "cell_type": "code",
   "outputs": [],
   "execution_count": null,
   "source": "",
   "id": "a19f8d5c255e240c"
  }
 ],
 "metadata": {
  "kernelspec": {
   "display_name": "Python 3",
   "language": "python",
   "name": "python3"
  },
  "language_info": {
   "codemirror_mode": {
    "name": "ipython",
    "version": 2
   },
   "file_extension": ".py",
   "mimetype": "text/x-python",
   "name": "python",
   "nbconvert_exporter": "python",
   "pygments_lexer": "ipython2",
   "version": "2.7.6"
  }
 },
 "nbformat": 4,
 "nbformat_minor": 5
}
