{
 "cells": [
  {
   "metadata": {},
   "cell_type": "markdown",
   "source": "### Load api key for pinecone and huggingface\n",
   "id": "5e3be32b1e3534d2"
  },
  {
   "metadata": {
    "ExecuteTime": {
     "end_time": "2024-08-28T23:55:15.379259Z",
     "start_time": "2024-08-28T23:55:15.357949Z"
    }
   },
   "cell_type": "code",
   "source": [
    "import os\n",
    "from dotenv import load_dotenv\n",
    "\n",
    "load_dotenv('api.env')\n",
    "HUGGINGFACE_API_KEY = os.environ['HUGGINGFACE_API_KEY']\n",
    "\n",
    "PINECONE_API_KEY = os.environ['PINECONE_API_KEY']"
   ],
   "id": "a2b0f15ed3ce3f66",
   "outputs": [],
   "execution_count": 1
  },
  {
   "metadata": {},
   "cell_type": "markdown",
   "source": "### If you dont have index in pinecone, make an index using below ",
   "id": "54131f279d26049b"
  },
  {
   "cell_type": "code",
   "execution_count": null,
   "id": "initial_id",
   "metadata": {
    "collapsed": true
   },
   "outputs": [],
   "source": [
    "from indox.vector_stores import PineconeVectorStore\n",
    "\n",
    "PineconeVectorStore.create_index(\n",
    "    index_name=\"testindex4\",\n",
    "    dimension=768,\n",
    "    metric=\"cosine\",\n",
    "    cloud=\"aws\",\n",
    "    region=\"us-east-1\"\n",
    ")"
   ]
  },
  {
   "metadata": {},
   "cell_type": "markdown",
   "source": "### Embedding function",
   "id": "4cf36e4b04300643"
  },
  {
   "metadata": {
    "ExecuteTime": {
     "end_time": "2024-08-28T23:55:25.552019Z",
     "start_time": "2024-08-28T23:55:18.850285Z"
    }
   },
   "cell_type": "code",
   "source": [
    "from indox.embeddings import HuggingFaceEmbedding\n",
    "PINECONE_INDEX_NAME = 'testindex3'\n",
    "embedding_function = HuggingFaceEmbedding(api_key=HUGGINGFACE_API_KEY,model=\"multi-qa-mpnet-base-cos-v1\")"
   ],
   "id": "eff8ec5b1bde0e12",
   "outputs": [
    {
     "name": "stdout",
     "output_type": "stream",
     "text": [
      "\u001B[32mINFO\u001B[0m: \u001B[1mInitialized HuggingFaceEmbedding with model: multi-qa-mpnet-base-cos-v1\u001B[0m\n"
     ]
    }
   ],
   "execution_count": 2
  },
  {
   "metadata": {},
   "cell_type": "markdown",
   "source": "### Connecting to pinecone",
   "id": "95bbf7d3c06d6a2a"
  },
  {
   "metadata": {
    "ExecuteTime": {
     "end_time": "2024-08-28T23:55:41.092730Z",
     "start_time": "2024-08-28T23:55:39.785486Z"
    }
   },
   "cell_type": "code",
   "source": [
    "from indox.vector_stores import PineconeVectorStore\n",
    "try:\n",
    "    pinecone_store = PineconeVectorStore(\n",
    "        index_name=PINECONE_INDEX_NAME,\n",
    "        embedding_function=embedding_function,\n",
    "        text_key='content'\n",
    "    )\n",
    "    print(f\"Successfully connected to Pinecone index: {PINECONE_INDEX_NAME}\")\n",
    "except Exception as e:\n",
    "    print(f\"Error connecting to Pinecone: {str(e)}\")\n",
    "    print(\"Please check your API key and index name.\")\n",
    "    exit(1)\n"
   ],
   "id": "49d88e62144e5eb8",
   "outputs": [
    {
     "name": "stdout",
     "output_type": "stream",
     "text": [
      "Successfully connected to Pinecone index: testindex3\n"
     ]
    }
   ],
   "execution_count": 3
  },
  {
   "metadata": {},
   "cell_type": "markdown",
   "source": "### Adding Documents",
   "id": "631c96b4562b4637"
  },
  {
   "metadata": {
    "ExecuteTime": {
     "end_time": "2024-08-28T23:55:44.696844Z",
     "start_time": "2024-08-28T23:55:43.549294Z"
    }
   },
   "cell_type": "code",
   "source": [
    "from indox.core import  Document\n",
    "docs = [\n",
    "    Document(page_content=\"The quick brown fox jumps over the lazy dog\", metadata={\"animal\": \"fox\"}),\n",
    "    Document(page_content=\"A journey of a thousand miles begins with a single step\", metadata={\"type\": \"proverb\"}),\n",
    "    Document(page_content=\"To be or not to be, that is the question\", metadata={\"type\": \"quote\", \"author\": \"Shakespeare\"})\n",
    "]\n",
    "\n",
    "print(\"Adding documents...\")\n",
    "try:\n",
    "    added_ids = pinecone_store.add(docs)\n",
    "    print(f\"Successfully added {len(added_ids)} documents.\")\n",
    "except Exception as e:\n",
    "    print(f\"Error adding documents: {str(e)}\")"
   ],
   "id": "84cac8a7689e4bc",
   "outputs": [
    {
     "name": "stdout",
     "output_type": "stream",
     "text": [
      "Adding documents...\n",
      "\u001B[32mINFO\u001B[0m: \u001B[1mEmbedding documents\u001B[0m\n",
      "\u001B[32mINFO\u001B[0m: \u001B[1mStarting to fetch embeddings for texts using model: SentenceTransformer(\n",
      "  (0): Transformer({'max_seq_length': 512, 'do_lower_case': False}) with Transformer model: MPNetModel \n",
      "  (1): Pooling({'word_embedding_dimension': 768, 'pooling_mode_cls_token': False, 'pooling_mode_mean_tokens': True, 'pooling_mode_max_tokens': False, 'pooling_mode_mean_sqrt_len_tokens': False, 'pooling_mode_weightedmean_tokens': False, 'pooling_mode_lasttoken': False, 'include_prompt': True})\n",
      "  (2): Normalize()\n",
      ")\u001B[0m\n",
      "Successfully added 3 documents.\n"
     ]
    }
   ],
   "execution_count": 4
  },
  {
   "metadata": {},
   "cell_type": "markdown",
   "source": "### Performing similarity search",
   "id": "188b1c7da1b19b87"
  },
  {
   "metadata": {
    "ExecuteTime": {
     "end_time": "2024-08-28T23:56:01.917066Z",
     "start_time": "2024-08-28T23:56:01.591594Z"
    }
   },
   "cell_type": "code",
   "source": [
    "print(\"\\nPerforming similarity search...\")\n",
    "query = \"What did the fox do?\"\n",
    "results = pinecone_store.similarity_search(query, k=1)\n",
    "for doc in results:\n",
    "    print(f\"Content: {doc.page_content}\")\n",
    "    print(f\"Metadata: {doc.metadata}\")\n",
    "    print()"
   ],
   "id": "ff390f5732e67ee6",
   "outputs": [
    {
     "name": "stdout",
     "output_type": "stream",
     "text": [
      "\n",
      "Performing similarity search...\n",
      "\u001B[32mINFO\u001B[0m: \u001B[1mEmbedding documents\u001B[0m\n",
      "\u001B[32mINFO\u001B[0m: \u001B[1mStarting to fetch embeddings for texts using model: SentenceTransformer(\n",
      "  (0): Transformer({'max_seq_length': 512, 'do_lower_case': False}) with Transformer model: MPNetModel \n",
      "  (1): Pooling({'word_embedding_dimension': 768, 'pooling_mode_cls_token': False, 'pooling_mode_mean_tokens': True, 'pooling_mode_max_tokens': False, 'pooling_mode_mean_sqrt_len_tokens': False, 'pooling_mode_weightedmean_tokens': False, 'pooling_mode_lasttoken': False, 'include_prompt': True})\n",
      "  (2): Normalize()\n",
      ")\u001B[0m\n",
      "Content: The quick brown fox jumps over the lazy dog\n",
      "Metadata: {'id': 'fd5a41e6-ff07-4c70-ac4d-18ed6fed39d7', 'metadata': \"{'animal': 'fox'}\"}\n",
      "\n"
     ]
    }
   ],
   "execution_count": 5
  },
  {
   "metadata": {},
   "cell_type": "markdown",
   "source": "### Testing deletion",
   "id": "6fbb5602cba208d4"
  },
  {
   "metadata": {
    "ExecuteTime": {
     "end_time": "2024-08-28T23:56:08.406815Z",
     "start_time": "2024-08-28T23:56:07.341938Z"
    }
   },
   "cell_type": "code",
   "source": [
    "results = pinecone_store.similarity_search(\"To be or not to be, that is the question\",k=1)\n",
    "if results:\n",
    "    doc_to_delete = results[0]\n",
    "    # print(doc_to_delete)\n",
    "    id_to_delete = doc_to_delete.metadata.get('id')\n",
    "    if id_to_delete:\n",
    "        pinecone_store.delete([id_to_delete])\n",
    "        print(f\"Deleted document with content: {doc_to_delete.page_content}\")\n",
    "    else:\n",
    "        print(\"No ID found for the document to delete\")\n",
    "else:\n",
    "    print(\"No results found to delete\")\n",
    "\n",
    "# Verify deletion\n",
    "print(\"\\nVerifying deletion...\")\n",
    "new_results = pinecone_store.similarity_search(query, k=2)\n",
    "for doc in new_results:\n",
    "    print(f\"Content: {doc.page_content}\")\n",
    "    print(f\"Metadata: {doc.metadata}\")\n",
    "    print()\n",
    "\n",
    "# Print total number of documents\n",
    "print(f\"Total documents in store: {len(pinecone_store)}\")"
   ],
   "id": "43b401e469252dd0",
   "outputs": [
    {
     "name": "stdout",
     "output_type": "stream",
     "text": [
      "\u001B[32mINFO\u001B[0m: \u001B[1mEmbedding documents\u001B[0m\n",
      "\u001B[32mINFO\u001B[0m: \u001B[1mStarting to fetch embeddings for texts using model: SentenceTransformer(\n",
      "  (0): Transformer({'max_seq_length': 512, 'do_lower_case': False}) with Transformer model: MPNetModel \n",
      "  (1): Pooling({'word_embedding_dimension': 768, 'pooling_mode_cls_token': False, 'pooling_mode_mean_tokens': True, 'pooling_mode_max_tokens': False, 'pooling_mode_mean_sqrt_len_tokens': False, 'pooling_mode_weightedmean_tokens': False, 'pooling_mode_lasttoken': False, 'include_prompt': True})\n",
      "  (2): Normalize()\n",
      ")\u001B[0m\n",
      "Deleted document with content: To be or not to be, that is the question\n",
      "\n",
      "Verifying deletion...\n",
      "\u001B[32mINFO\u001B[0m: \u001B[1mEmbedding documents\u001B[0m\n",
      "\u001B[32mINFO\u001B[0m: \u001B[1mStarting to fetch embeddings for texts using model: SentenceTransformer(\n",
      "  (0): Transformer({'max_seq_length': 512, 'do_lower_case': False}) with Transformer model: MPNetModel \n",
      "  (1): Pooling({'word_embedding_dimension': 768, 'pooling_mode_cls_token': False, 'pooling_mode_mean_tokens': True, 'pooling_mode_max_tokens': False, 'pooling_mode_mean_sqrt_len_tokens': False, 'pooling_mode_weightedmean_tokens': False, 'pooling_mode_lasttoken': False, 'include_prompt': True})\n",
      "  (2): Normalize()\n",
      ")\u001B[0m\n",
      "Content: The quick brown fox jumps over the lazy dog\n",
      "Metadata: {'id': 'fd5a41e6-ff07-4c70-ac4d-18ed6fed39d7', 'metadata': \"{'animal': 'fox'}\"}\n",
      "\n",
      "Content: A journey of a thousand miles begins with a single step\n",
      "Metadata: {'id': '2aa249e7-2eca-48eb-aecc-aa913b917127', 'metadata': \"{'type': 'proverb'}\"}\n",
      "\n",
      "Total documents in store: 2\n"
     ]
    }
   ],
   "execution_count": 6
  }
 ],
 "metadata": {
  "kernelspec": {
   "display_name": "Python 3",
   "language": "python",
   "name": "python3"
  },
  "language_info": {
   "codemirror_mode": {
    "name": "ipython",
    "version": 2
   },
   "file_extension": ".py",
   "mimetype": "text/x-python",
   "name": "python",
   "nbconvert_exporter": "python",
   "pygments_lexer": "ipython2",
   "version": "2.7.6"
  }
 },
 "nbformat": 4,
 "nbformat_minor": 5
}
