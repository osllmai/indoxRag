{
 "cells": [
  {
   "cell_type": "markdown",
   "id": "7e95779738aca6f6",
   "metadata": {},
   "source": [
    "# Quick Start"
   ]
  },
  {
   "cell_type": "markdown",
   "id": "f24e01441be4b95",
   "metadata": {},
   "source": [
    "[![Open In Colab](https://colab.research.google.com/assets/colab-badge.svg)](https://colab.research.google.com/github/osllmai/inDox/blob/master/Demo/quick_start.ipynb)"
   ]
  },
  {
   "cell_type": "code",
   "execution_count": null,
   "id": "2e19065cca32a590",
   "metadata": {},
   "outputs": [],
   "source": [
    "!pip install indox\n",
    "!pip install openai\n",
    "!pip install chromadb\n",
    "!pip install semantic_text_splitter"
   ]
  },
  {
   "cell_type": "markdown",
   "id": "ad09035513fec084",
   "metadata": {},
   "source": [
    "## Setting Up the Python Environment\n",
    "\n",
    "If you are running this project in your local IDE, please create a Python environment to ensure all dependencies are correctly managed. You can follow the steps below to set up a virtual environment named `indox`:\n",
    "\n",
    "### Windows\n",
    "\n",
    "1. **Create the virtual environment:**\n",
    "```bash\n",
    "python -m venv indox\n",
    "```\n",
    "2. **Activate the virtual environment:**\n",
    "```bash\n",
    "indox_judge\\Scripts\\activate\n",
    "```\n",
    "\n",
    "### macOS/Linux\n",
    "\n",
    "1. **Create the virtual environment:**\n",
    "   ```bash\n",
    "   python3 -m venv indox\n",
    "```\n",
    "\n",
    "2. **Activate the virtual environment:**\n",
    "    ```bash\n",
    "   source indox/bin/activate\n",
    "```\n",
    "### Install Dependencies\n",
    "\n",
    "Once the virtual environment is activated, install the required dependencies by running:\n",
    "\n",
    "```bash\n",
    "pip install -r requirements.txt\n",
    "```\n"
   ]
  },
  {
   "cell_type": "code",
   "id": "88e8c38ba3b8886d",
   "metadata": {
    "ExecuteTime": {
     "end_time": "2024-09-01T14:36:36.955800Z",
     "start_time": "2024-09-01T14:36:36.936731Z"
    }
   },
   "source": [
    "import os\n",
    "from dotenv import load_dotenv\n",
    "\n",
    "load_dotenv()\n",
    "\n",
    "OPENAI_API_KEY = os.environ['OPENAI_API_KEY']"
   ],
   "outputs": [],
   "execution_count": 1
  },
  {
   "cell_type": "markdown",
   "id": "ac995737f9b2fe6e",
   "metadata": {},
   "source": [
    "## Initial Setup\n",
    "\n",
    "The following imports are essential for setting up the Indox application. These imports include the main Indox retrieval augmentation module, question-answering models, embeddings, and data loader splitter."
   ]
  },
  {
   "cell_type": "code",
   "id": "131692307c9154db",
   "metadata": {
    "ExecuteTime": {
     "end_time": "2024-09-01T08:46:35.800610Z",
     "start_time": "2024-09-01T08:46:35.760723Z"
    }
   },
   "source": [
    "from indox import IndoxRetrievalAugmentation\n",
    "\n",
    "indox = IndoxRetrievalAugmentation()"
   ],
   "outputs": [
    {
     "name": "stdout",
     "output_type": "stream",
     "text": [
      "\u001B[32mINFO\u001B[0m: \u001B[1mIndoxRetrievalAugmentation initialized\u001B[0m\n",
      "\n",
      "            ██  ███    ██  ██████   ██████  ██       ██\n",
      "            ██  ████   ██  ██   ██ ██    ██   ██  ██\n",
      "            ██  ██ ██  ██  ██   ██ ██    ██     ██\n",
      "            ██  ██  ██ ██  ██   ██ ██    ██   ██   ██\n",
      "            ██  ██  █████  ██████   ██████  ██       ██\n",
      "            \n"
     ]
    }
   ],
   "execution_count": 2
  },
  {
   "cell_type": "markdown",
   "id": "759db8f502cbd91f",
   "metadata": {},
   "source": [
    "### Generating response using OpenAI's language models \n",
    "OpenAIQA class is used to handle question-answering task using OpenAI's language models. This instance creates OpenAiEmbedding class to specifying embedding model. Here ChromaVectorStore handles the storage and retrieval of vector embeddings by specifying a collection name and sets up a vector store where text embeddings can be stored and queried."
   ]
  },
  {
   "cell_type": "code",
   "id": "f32d98545c6d3c3c",
   "metadata": {},
   "source": [
    "from indox.embeddings import OpenAiEmbedding\n",
    "from indox.llms import OpenAi\n",
    "\n",
    "openai_qa = OpenAi(api_key=OPENAI_API_KEY, model=\"gpt-4o-mini\")\n",
    "embed_openai = OpenAiEmbedding(api_key=OPENAI_API_KEY, model=\"text-embedding-3-small\")\n",
    "\n",
    "from indox.vector_stores import Chroma\n",
    "db = Chroma(collection_name=\"sample\",embedding_function=embed_openai)"
   ],
   "outputs": [],
   "execution_count": null
  },
  {
   "cell_type": "markdown",
   "id": "1e3408e8f8a8ad17",
   "metadata": {},
   "source": [
    "### load and preprocess data\n",
    "This part of code demonstrates how to load and preprocess text data from a file, split it into chunks, and store these chunks in the vector store that was set up previously."
   ]
  },
  {
   "cell_type": "code",
   "id": "e765b79a32060e9e",
   "metadata": {
    "ExecuteTime": {
     "end_time": "2024-08-17T11:00:23.407526Z",
     "start_time": "2024-08-17T11:00:23.224598Z"
    }
   },
   "source": "!wget https://raw.githubusercontent.com/osllmai/inDox/master/Demo/sample.txt",
   "outputs": [
    {
     "name": "stdout",
     "output_type": "stream",
     "text": [
      "^C\n"
     ]
    }
   ],
   "execution_count": 4
  },
  {
   "cell_type": "code",
   "id": "1d8e56a9f88e03cf",
   "metadata": {
    "ExecuteTime": {
     "end_time": "2024-09-01T08:47:15.288065Z",
     "start_time": "2024-09-01T08:47:15.283027Z"
    }
   },
   "source": [
    "file_path = \"sample.txt\""
   ],
   "outputs": [],
   "execution_count": 6
  },
  {
   "cell_type": "code",
   "id": "827c44ce67f972c7",
   "metadata": {
    "ExecuteTime": {
     "end_time": "2024-09-01T08:48:25.155040Z",
     "start_time": "2024-09-01T08:48:25.146412Z"
    }
   },
   "source": [
    "from indox.data_loaders import Txt\n",
    "\n",
    "loader = Txt(txt_path=file_path)\n",
    "doc = loader.load()"
   ],
   "outputs": [],
   "execution_count": 9
  },
  {
   "metadata": {
    "ExecuteTime": {
     "end_time": "2024-09-01T08:49:19.381095Z",
     "start_time": "2024-09-01T08:49:18.614398Z"
    }
   },
   "cell_type": "code",
   "source": [
    "from indox.splitter import SemanticTextSplitter\n",
    "splitter = SemanticTextSplitter(chunk_size=400)\n",
    "docs = splitter.split_text(doc)"
   ],
   "id": "2f6baa4a0d0f3d47",
   "outputs": [],
   "execution_count": 11
  },
  {
   "metadata": {
    "ExecuteTime": {
     "end_time": "2024-09-01T08:49:24.008259Z",
     "start_time": "2024-09-01T08:49:23.999623Z"
    }
   },
   "cell_type": "code",
   "source": "docs",
   "id": "ad4c9ce6ab25008a",
   "outputs": [
    {
     "data": {
      "text/plain": [
       "[\"The wife of a rich man fell sick, and as she felt that her end\\nwas drawing near, she called her only daughter to her bedside and\\nsaid, dear child, be good and pious, and then the\\ngood God will always protect you, and I will look down on you\\nfrom heaven and be near you.  Thereupon she closed her eyes and\\ndeparted.  Every day the maiden went out to her mother's grave,\\nand wept, and she remained pious and good.  When winter came\\nthe snow spread a white sheet over the grave, and by the time the\\nspring sun had drawn it off again, the man had taken another wife.\\nThe woman had brought with her into the house two daughters,\\nwho were beautiful and fair of face, but vile and black of heart.\\nNow began a bad time for the poor step-child.  Is the stupid goose\\nto sit in the parlor with us, they said.  He who wants to eat bread\\nmust earn it.  Out with the kitchen-wench.  They took her pretty\\nclothes away from her, put an old grey bedgown on her, and gave\\nher wooden shoes.  Just look at the proud princess, how decked\\nout she is, they cried, and laughed, and led her into the kitchen.\\nThere she had to do hard work from morning till night, get up\\nbefore daybreak, carry water, light fires, cook and wash.  Besides\\nthis, the sisters did her every imaginable injury - they mocked her\\nand emptied her peas and lentils into the ashes, so that she was\\nforced to sit and pick them out again.  In the evening when she had\\nworked till she was weary she had no bed to go to, but had to sleep\\nby the hearth in the cinders.  And as on that account she always\\nlooked dusty and dirty, they called her cinderella.\\nIt happened that the father was once going to the fair, and he\\nasked his two step-daughters what he should bring back for them.\",\n",
       " \"Beautiful dresses, said one, pearls and jewels, said the second.\\nAnd you, cinderella, said he, what will you have.  Father\\nbreak off for me the first branch which knocks against your hat on\\nyour way home.  So he bought beautiful dresses, pearls and jewels\\nfor his two step-daughters, and on his way home, as he was riding\\nthrough a green thicket, a hazel twig brushed against him and\\nknocked off his hat.  Then he broke off the branch and took it with\\nhim.  When he reached home he gave his step-daughters the things\\nwhich they had wished for, and to cinderella he gave the branch\\nfrom the hazel-bush.  Cinderella thanked him, went to her mother's\\ngrave and planted the branch on it, and wept so much that the tears\\nfell down on it and watered it.  And it grew and became a handsome\\ntree. Thrice a day cinderella went and sat beneath it, and wept and\\nprayed, and a little white bird always came on the tree, and if\\ncinderella expressed a wish, the bird threw down to her what she\\nhad wished for.\\nIt happened, however, that the king gave orders for a festival\\nwhich was to last three days, and to which all the beautiful young\\ngirls in the country were invited, in order that his son might choose\\nhimself a bride.  When the two step-sisters heard that they too were\\nto appear among the number, they were delighted, called cinderella\\nand said, comb our hair for us, brush our shoes and fasten our\\nbuckles, for we are going to the wedding at the king's palace.\\nCinderella obeyed, but wept, because she too would have liked to\\ngo with them to the dance, and begged her step-mother to allow\\nher to do so.  You go, cinderella, said she, covered in dust and\\ndirt as you are, and would go to the festival.  You have no clothes\\nand shoes, and yet would dance.  As, however, cinderella went on\",\n",
       " 'asking, the step-mother said at last, I have emptied a dish of\\nlentils into the ashes for you, if you have picked them out again in\\ntwo hours, you shall go with us.  The maiden went through the\\nback-door into the garden, and called, you tame pigeons, you\\nturtle-doves, and all you birds beneath the sky, come and help me\\nto pick\\n     the good into the pot,\\n     the bad into the crop.\\nThen two white pigeons came in by the kitchen window, and\\nafterwards the turtle-doves, and at last all the birds beneath the\\nsky, came whirring and crowding in, and alighted amongst the ashes.\\nAnd the pigeons nodded with their heads and began pick, pick,\\npick, pick, and the rest began also pick, pick, pick, pick, and\\ngathered all the good grains into the dish.  Hardly had one hour\\npassed before they had finished, and all flew out again.  Then the\\ngirl took the dish to her step-mother, and was glad, and believed\\nthat now she would be allowed to go with them to the festival.\\nBut the step-mother said, no, cinderella, you have no clothes and\\nyou can not dance.  You would only be laughed at.  And as\\ncinderella wept at this, the step-mother said, if you can pick two\\ndishes of lentils out of the ashes for me in one hour, you shall go\\nwith us.  And she thought to herself, that she most certainly\\ncannot do again.  When the step-mother had emptied the two\\ndishes of lentils amongst the ashes, the maiden went through the\\nback-door into the garden and cried, you tame pigeons, you\\nturtle-doves, and all you birds beneath the sky, come and help me\\nto pick\\n     the good into the pot,\\n     the bad into the crop.\\nThen two white pigeons came in by the kitchen-window, and',\n",
       " \"afterwards the turtle-doves, and at length all the birds beneath the\\nsky, came whirring and crowding in, and alighted amongst the\\nashes.  And the doves nodded with their heads and began pick,\\npick, pick, pick, and the others began also pick, pick, pick, pick,\\nand gathered all the good seeds into the dishes, and before half an\\nhour was over they had already finished, and all flew out again.\\nThen the maiden was delighted, and believed that she might now go\\nwith them to the wedding.  But the step-mother said, all this will\\nnot help.  You cannot go with us, for you have no clothes and can\\nnot dance.  We should be ashamed of you.  On this she turned her\\nback on cinderella, and hurried away with her two proud daughters.\\nAs no one was now at home, cinderella went to her mother's\\ngrave beneath the hazel-tree, and cried -\\n     shiver and quiver, little tree,\\n     silver and gold throw down over me.\\nThen the bird threw a gold and silver dress down to her, and\\nslippers embroidered with silk and silver.  She put on the dress\\nwith all speed, and went to the wedding.  Her step-sisters and the\\nstep-mother however did not know her, and thought she must be a\\nforeign princess, for she looked so beautiful in the golden dress.\\nThey never once thought of cinderella, and believed that she was\\nsitting at home in the dirt, picking lentils out of the ashes.  The\\nprince approached her, took her by the hand and danced with her.\\nHe would dance with no other maiden, and never let loose of her\\nhand, and if any one else came to invite her, he said, this is my\\npartner.\\nShe danced till it was evening, and then she wanted to go home.\\nBut the king's son said, I will go with you and bear you company,\\nfor he wished to see to whom the beautiful maiden belonged.\",\n",
       " \"She escaped from him, however, and sprang into the\\npigeon-house.  The king's son waited until her father came, and\\nthen he told him that the unknown maiden had leapt into the\\npigeon-house.  The old man thought, can it be cinderella.  And\\nthey had to bring him an axe and a pickaxe that he might hew\\nthe pigeon-house to pieces, but no one was inside it.  And when they\\ngot home cinderella lay in her dirty clothes among the ashes, and\\na dim little oil-lamp was burning on the mantle-piece, for\\ncinderella had jumped quickly down from the back of the pigeon-house\\nand had run to the little hazel-tree, and there she had taken off\\nher beautiful clothes and laid them on the grave, and the bird had\\ntaken them away again, and then she had seated herself in the\\nkitchen amongst the ashes in her grey gown.\\nNext day when the festival began afresh, and her parents and\\nthe step-sisters had gone once more, cinderella went to the\\nhazel-tree and said -\\n     shiver and quiver, my little tree,\\n     silver and gold throw down over me.\\nThen the bird threw down a much more beautiful dress than on\\nthe preceding day. And when cinderella appeared at the wedding\\nin this dress, every one was astonished at her beauty.  The king's\\nson had waited until she came, and instantly took her by the hand\\nand danced with no one but her.  When others came and invited\\nher, he said, this is my partner.  When evening came she wished\\nto leave, and the king's son followed her and wanted to see into\\nwhich house she went.  But she sprang away from him, and into\\nthe garden behind the house.  Therein stood a beautiful tall tree on\\nwhich hung the most magnificent pears.  She clambered so nimbly\\nbetween the branches like a squirrel that the king's son did not\\nknow where she was gone.  He waited until her father came, and\",\n",
       " \"said to him, the unknown maiden has escaped from me, and I\\nbelieve she has climbed up the pear-tree.  The father thought,\\ncan it be cinderella.  And had an axe brought and cut the\\ntree down, but no one was on it.  And when they got into the\\nkitchen, cinderella lay there among the ashes, as usual, for she\\nhad jumped down on the other side of the tree, had taken the\\nbeautiful dress to the bird on the little hazel-tree, and put on her\\ngrey gown.\\nOn the third day, when the parents and sisters had gone away,\\ncinderella went once more to her mother's grave and said to the\\nlittle tree -\\n     shiver and quiver, my little tree,\\n     silver and gold throw down over me.\\nAnd now the bird threw down to her a dress which was more\\nsplendid and magnificent than any she had yet had, and the\\nslippers were golden.  And when she went to the festival in the\\ndress, no one knew how to speak for astonishment.  The king's son\\ndanced with her only, and if any one invited her to dance, he said\\nthis is my partner.\\nWhen evening came, cinderella wished to leave, and the king's\\nson was anxious to go with her, but she escaped from him so quickly\\nthat he could not follow her.  The king's son, however, had\\nemployed a ruse, and had caused the whole staircase to be smeared\\nwith pitch, and there, when she ran down, had the maiden's left\\nslipper remained stuck.  The king's son picked it up, and it was\\nsmall and dainty, and all golden.  Next morning, he went with it to\\nthe father, and said to him, no one shall be my wife but she whose\\nfoot this golden slipper fits.  Then were the two sisters glad,\\nfor they had pretty feet.  The eldest went with the shoe into her\\nroom and wanted to try it on, and her mother stood by.  But she\",\n",
       " \"could not get her big toe into it, and the shoe was too small for\\nher.  Then her mother gave her a knife and said, cut the toe off,\\nwhen you are queen you will have no more need to go on foot.  The\\nmaiden cut the toe off, forced the foot into the shoe, swallowed\\nthe pain, and went out to the king's son.  Then he took her on his\\nhis horse as his bride and rode away with her.  They were\\nobliged, however, to pass the grave, and there, on the hazel-tree,\\nsat the two pigeons and cried -\\n     turn and peep, turn and peep,\\n     there's blood within the shoe,\\n     the shoe it is too small for her,\\n     the true bride waits for you.\\nThen he looked at her foot and saw how the blood was trickling\\nfrom it.  He turned his horse round and took the false bride\\nhome again, and said she was not the true one, and that the\\nother sister was to put the shoe on.  Then this one went into her\\nchamber and got her toes safely into the shoe, but her heel was\\ntoo large.  So her mother gave her a knife and said,  cut a bit\\noff your heel, when you are queen you will have no more need\\nto go on foot.  The maiden cut a bit off her heel, forced\\nher foot into the shoe, swallowed the pain, and went out to the\\nking's son.  He took her on his horse as his bride, and rode away\\nwith her, but when they passed by the hazel-tree, the two pigeons\\nsat on it and cried -\\n     turn and peep, turn and peep,\\n     there's blood within the shoe,\\n     the shoe it is too small for her,\\n     the true bride waits for you.\\nHe looked down at her foot and saw how the blood was running\\nout of her shoe, and how it had stained her white stocking quite\\nred.  Then he turned his horse and took the false bride home\",\n",
       " \"again.  This also is not the right one, said he, have you no\\nother daughter.  No, said the man, there is still a little\\nstunted kitchen-wench which my late wife left behind her, but\\nshe cannot possibly be the bride.  The king's son said he was\\nto send her up to him, but the mother answered, oh, no, she is\\nmuch too dirty, she cannot show herself.  But he absolutely\\ninsisted on it, and cinderella had to be called.  She first\\nwashed her hands and face clean, and then went and bowed down\\nbefore the king's son, who gave her the golden shoe.  Then she\\nseated herself on a stool, drew her foot out of the heavy\\nwooden shoe, and put it into the slipper, which fitted like a\\nglove.  And when she rose up and the king's son looked at her\\nface he recognized the beautiful maiden who had danced with\\nhim and cried, that is the true bride.  The step-mother and\\nthe two sisters were horrified and became pale with rage, he,\\nhowever, took cinderella on his horse and rode away with her.  As\\nthey passed by the hazel-tree, the two white doves cried -\\n     turn and peep, turn and peep,\\n     no blood is in the shoe,\\n     the shoe is not too small for her,\\n     the true bride rides with you,\\nand when they had cried that, the two came flying down and\\nplaced themselves on cinderella's shoulders, one on the right,\\nthe other on the left, and remained sitting there.\\nWhen the wedding with the king's son was to be celebrated, the\\ntwo false sisters came and wanted to get into favor with\\ncinderella and share her good fortune.  When the betrothed\\ncouple went to church, the elder was at the right side and the\\nyounger at the left, and the pigeons pecked out one eye from\\neach of them.  Afterwards as they came back the elder was at\",\n",
       " 'the left, and the younger at the right, and then the pigeons\\npecked out the other eye from each.  And thus, for their\\nwickedness and falsehood, they were punished with blindness\\nall their days.']"
      ]
     },
     "execution_count": 12,
     "metadata": {},
     "output_type": "execute_result"
    }
   ],
   "execution_count": 12
  },
  {
   "cell_type": "code",
   "id": "4557891dec337e31",
   "metadata": {
    "ExecuteTime": {
     "end_time": "2024-09-01T08:49:34.825272Z",
     "start_time": "2024-09-01T08:49:27.073881Z"
    }
   },
   "source": "db.add(docs=docs)",
   "outputs": [
    {
     "name": "stdout",
     "output_type": "stream",
     "text": [
      "\u001B[32mINFO\u001B[0m: \u001B[1mStoring documents in the vector store\u001B[0m\n",
      "\u001B[32mINFO\u001B[0m: \u001B[1mEmbedding documents\u001B[0m\n",
      "\u001B[32mINFO\u001B[0m: \u001B[1mStarting to fetch embeddings for texts using engine: text-embedding-3-small\u001B[0m\n",
      "\u001B[32mINFO\u001B[0m: \u001B[1mDocument added successfully to the vector store.\u001B[0m\n",
      "\u001B[32mINFO\u001B[0m: \u001B[1mDocuments stored successfully\u001B[0m\n"
     ]
    }
   ],
   "execution_count": 13
  },
  {
   "cell_type": "markdown",
   "id": "cd6bd4924ad116fd",
   "metadata": {},
   "source": [
    "### Retrieve relevant information and generate an answer\n",
    "The main purpose of these lines is to perform a query on the vector store to retrieve the most relevant information (top_k=5) and generate an answer using the language model."
   ]
  },
  {
   "cell_type": "code",
   "id": "593ec3a85c796115",
   "metadata": {
    "ExecuteTime": {
     "end_time": "2024-09-01T08:49:47.932174Z",
     "start_time": "2024-09-01T08:49:47.919102Z"
    }
   },
   "source": [
    "query = \"How Cinderella reach her happy ending?\"\n",
    "retriever = indox.QuestionAnswer(vector_database=db, llm=openai_qa, top_k=5)"
   ],
   "outputs": [],
   "execution_count": 15
  },
  {
   "cell_type": "markdown",
   "id": "9e778403c8d864c4",
   "metadata": {},
   "source": [
    "invoke(query) method sends the query to the retriever, which searches the vector store for relevant text chunks and uses the language model to generate a response based on the retrieved information.\n",
    "Context property retrieves the context or the detailed information that the retriever used to generate the answer to the query. It provides insight into how the query was answered by showing the relevant text chunks and any additional information used."
   ]
  },
  {
   "cell_type": "code",
   "id": "58d79450c0807286",
   "metadata": {
    "ExecuteTime": {
     "end_time": "2024-09-01T08:49:55.174402Z",
     "start_time": "2024-09-01T08:49:49.772011Z"
    }
   },
   "source": [
    "answer = retriever.invoke(query)\n",
    "context = retriever.context"
   ],
   "outputs": [
    {
     "name": "stdout",
     "output_type": "stream",
     "text": [
      "\u001B[32mINFO\u001B[0m: \u001B[1mRetrieving context and scores from the vector database\u001B[0m\n",
      "\u001B[32mINFO\u001B[0m: \u001B[1mEmbedding documents\u001B[0m\n",
      "\u001B[32mINFO\u001B[0m: \u001B[1mStarting to fetch embeddings for texts using engine: text-embedding-3-small\u001B[0m\n",
      "\u001B[32mINFO\u001B[0m: \u001B[1mGenerating answer without document relevancy filter\u001B[0m\n",
      "\u001B[32mINFO\u001B[0m: \u001B[1mAnswering question\u001B[0m\n",
      "\u001B[32mINFO\u001B[0m: \u001B[1mGenerating response\u001B[0m\n",
      "\u001B[32mINFO\u001B[0m: \u001B[1mResponse generated successfully\u001B[0m\n",
      "\u001B[32mINFO\u001B[0m: \u001B[1mQuery answered successfully\u001B[0m\n"
     ]
    }
   ],
   "execution_count": 16
  },
  {
   "cell_type": "code",
   "id": "4a443f8a7116bd41",
   "metadata": {
    "ExecuteTime": {
     "end_time": "2024-09-01T08:49:57.069903Z",
     "start_time": "2024-09-01T08:49:57.057629Z"
    }
   },
   "source": "answer",
   "outputs": [
    {
     "data": {
      "text/plain": [
       "\"Cinderella reached her happy ending by attending the three-day festival at the king's palace with the help of the hazel tree and the little white bird. Each day, she went to her mother's grave, where she asked the tree for beautiful dresses and accessories, which the bird would then provide for her. On the third day, she received a splendid dress and golden slippers. At the festival, the king's son danced only with her and was captivated by her beauty. When Cinderella tried to leave, the king's son followed her, but she escaped. However, he found her golden slipper, and he declared that he would marry the woman whose foot fit the slipper. After trying the slipper on Cinderella, they recognized each other, and the king's son declared her as the true bride. Despite the opposition from her stepmother and stepsisters, Cinderella rode away with the king's son, and they lived happily ever after.\""
      ]
     },
     "execution_count": 17,
     "metadata": {},
     "output_type": "execute_result"
    }
   ],
   "execution_count": 17
  },
  {
   "cell_type": "markdown",
   "id": "486878b3d49c9871",
   "metadata": {},
   "source": [
    "### With AgenticRag\n",
    "\n",
    "AgenticRag stands for Agentic Retrieval-Augmented Generation. This concept combines retrieval-based methods and generation-based methods in natural language processing (NLP). The key idea is to enhance the generative capabilities of a language model by incorporating relevant information retrieved from a database or a vector store. \n",
    " AgenticRag is designed to provide more contextually rich and accurate responses by utilizing external knowledge sources. It retrieves relevant pieces of information (chunks) from a vector store based on a query and then uses a language model to generate a comprehensive response that incorporates this retrieved information."
   ]
  },
  {
   "cell_type": "code",
   "execution_count": null,
   "id": "394533a0e6ab8228",
   "metadata": {},
   "outputs": [],
   "source": [
    "agent = indox.AgenticRag(llm=openai_qa, vector_database=db, top_k=5)\n",
    "agent.run(query)"
   ]
  },
  {
   "metadata": {
    "ExecuteTime": {
     "end_time": "2024-09-03T05:25:28.954536Z",
     "start_time": "2024-09-03T05:25:28.949224Z"
    }
   },
   "cell_type": "code",
   "source": [
    "import os\n",
    "from dotenv import load_dotenv\n",
    "load_dotenv()\n",
    "INDOX_API_KEY= os.getenv(\"INDOX_API_KEY\")"
   ],
   "id": "d6e540c9fe4710a",
   "outputs": [],
   "execution_count": 3
  },
  {
   "metadata": {
    "ExecuteTime": {
     "end_time": "2024-09-03T05:25:31.912546Z",
     "start_time": "2024-09-03T05:25:30.304505Z"
    }
   },
   "cell_type": "code",
   "source": [
    "from indox.llms import IndoxApi\n",
    "llm = IndoxApi(api_key=INDOX_API_KEY)\n",
    "llm.chat(\"tell me a joke\")"
   ],
   "id": "5d5ad41701b01405",
   "outputs": [
    {
     "data": {
      "text/plain": [
       "'Why did the scarecrow win an award?\\n\\nBecause he was outstanding in his field!'"
      ]
     },
     "execution_count": 4,
     "metadata": {},
     "output_type": "execute_result"
    }
   ],
   "execution_count": 4
  },
  {
   "metadata": {},
   "cell_type": "code",
   "outputs": [],
   "execution_count": null,
   "source": "",
   "id": "c9e0c18b0314d335"
  }
 ],
 "metadata": {
  "kernelspec": {
   "display_name": "Python 3",
   "language": "python",
   "name": "python3"
  },
  "language_info": {
   "codemirror_mode": {
    "name": "ipython",
    "version": 3
   },
   "file_extension": ".py",
   "mimetype": "text/x-python",
   "name": "python",
   "nbconvert_exporter": "python",
   "pygments_lexer": "ipython3",
   "version": "3.12.0"
  }
 },
 "nbformat": 4,
 "nbformat_minor": 5
}
