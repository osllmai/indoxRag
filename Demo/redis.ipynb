{
 "cells": [
  {
   "metadata": {},
   "cell_type": "markdown",
   "source": [
    "# RedisDB \n",
    "In this notebook, we will demonstrate how to use RedisDB, for accessing and querying data efficiently. RedisDB is designed to work seamlessly with modern analytical workloads, making it a powerful tool for data analysis, research, and question-answering systems.\n",
    "\n",
    "To begin, ensure you have `redis` installed in your Python environment. You can easily install it using `pip install redis`.\n",
    "\n",
    "[![Open In Colab](https://colab.research.google.com/assets/colab-badge.svg)](https://colab.research.google.com/github/osllmai/inDox/blob/master/Demo/redis.ipynb)"
   ],
   "id": "66d16b260e797498"
  },
  {
   "metadata": {},
   "cell_type": "code",
   "outputs": [],
   "execution_count": null,
   "source": [
    "!pip install indox\n",
    "!pip install redis\n",
    "!pip install semantic_text_splitter\n",
    "!pip install sentence-transformers"
   ],
   "id": "20fd100490f6aead"
  },
  {
   "metadata": {},
   "cell_type": "markdown",
   "source": [
    "## Setting Up the Python Environment\n",
    "\n",
    "If you are running this project in your local IDE, please create a Python environment to ensure all dependencies are correctly managed. You can follow the steps below to set up a virtual environment named `indox`:\n",
    "\n",
    "### Windows\n",
    "\n",
    "1. **Create the virtual environment:**\n",
    "```bash\n",
    "python -m venv indox\n",
    "```\n",
    "2. **Activate the virtual environment:**\n",
    "```bash\n",
    "indox_judge\\Scripts\\activate\n",
    "```\n",
    "\n",
    "### macOS/Linux\n",
    "\n",
    "1. **Create the virtual environment:**\n",
    "   ```bash\n",
    "   python3 -m venv indox\n",
    "```\n",
    "\n",
    "2. **Activate the virtual environment:**\n",
    "    ```bash\n",
    "   source indox/bin/activate\n",
    "```\n",
    "### Install Dependencies\n",
    "\n",
    "Once the virtual environment is activated, install the required dependencies by running:\n",
    "\n",
    "```bash\n",
    "pip install -r requirements.txt\n",
    "```\n"
   ],
   "id": "ba946c4a1c135f6e"
  },
  {
   "metadata": {},
   "cell_type": "markdown",
   "source": "### Load Hugging face API key \n",
   "id": "b448d1b92083b8d0"
  },
  {
   "cell_type": "code",
   "id": "initial_id",
   "metadata": {
    "collapsed": true,
    "ExecuteTime": {
     "end_time": "2024-09-09T08:00:40.801979Z",
     "start_time": "2024-09-09T08:00:40.786421Z"
    }
   },
   "source": [
    "import os\n",
    "from dotenv import load_dotenv\n",
    "\n",
    "load_dotenv('api.env')\n",
    "\n",
    "HUGGINGFACE_API_KEY = os.environ['HUGGINGFACE_API_KEY']"
   ],
   "outputs": [],
   "execution_count": 1
  },
  {
   "metadata": {
    "ExecuteTime": {
     "end_time": "2024-09-09T08:00:42.519487Z",
     "start_time": "2024-09-09T08:00:42.502080Z"
    }
   },
   "cell_type": "code",
   "source": [
    "from indox import IndoxRetrievalAugmentation\n",
    "indox = IndoxRetrievalAugmentation()"
   ],
   "id": "75406ae18cd7fb72",
   "outputs": [
    {
     "name": "stdout",
     "output_type": "stream",
     "text": [
      "\u001B[32mINFO\u001B[0m: \u001B[1mIndoxRetrievalAugmentation initialized\u001B[0m\n",
      "\n",
      "            ██  ███    ██  ██████   ██████  ██       ██\n",
      "            ██  ████   ██  ██   ██ ██    ██   ██  ██\n",
      "            ██  ██ ██  ██  ██   ██ ██    ██     ██\n",
      "            ██  ██  ██ ██  ██   ██ ██    ██   ██   ██\n",
      "            ██  ██  █████  ██████   ██████  ██       ██\n",
      "            \n"
     ]
    }
   ],
   "execution_count": 2
  },
  {
   "metadata": {},
   "cell_type": "markdown",
   "source": "Initialize a language model and an embedding model using the indox library with Hugging Face . The HuggingFaceModel class is used to create an instance of the Mistral-7B-Instruct model for tasks like question answering",
   "id": "62a6c2401d2b5258"
  },
  {
   "metadata": {
    "ExecuteTime": {
     "end_time": "2024-09-09T08:01:03.179684Z",
     "start_time": "2024-09-09T08:00:44.854357Z"
    }
   },
   "cell_type": "code",
   "source": [
    "from indox.llms import HuggingFaceModel\n",
    "from indox.embeddings import HuggingFaceEmbedding\n",
    "mistral_qa = HuggingFaceModel(api_key=HUGGINGFACE_API_KEY,model=\"mistralai/Mistral-7B-Instruct-v0.2\")\n",
    "embed = HuggingFaceEmbedding(api_key=HUGGINGFACE_API_KEY,model=\"multi-qa-mpnet-base-cos-v1\")"
   ],
   "id": "bee284b62dded7e4",
   "outputs": [
    {
     "name": "stdout",
     "output_type": "stream",
     "text": [
      "\u001B[32mINFO\u001B[0m: \u001B[1mInitializing HuggingFaceModel with model: mistralai/Mistral-7B-Instruct-v0.2\u001B[0m\n",
      "\u001B[32mINFO\u001B[0m: \u001B[1mHuggingFaceModel initialized successfully\u001B[0m\n",
      "\u001B[32mINFO\u001B[0m: \u001B[1mInitialized HuggingFaceEmbedding with model: multi-qa-mpnet-base-cos-v1\u001B[0m\n"
     ]
    }
   ],
   "execution_count": 3
  },
  {
   "metadata": {},
   "cell_type": "markdown",
   "source": "### Load Sample Data",
   "id": "7e974ab7307b37d5"
  },
  {
   "metadata": {},
   "cell_type": "code",
   "outputs": [],
   "execution_count": null,
   "source": "!wget https://raw.githubusercontent.com/osllmai/inDox/master/Demo/sample.txt",
   "id": "1daed75719c10e3"
  },
  {
   "metadata": {
    "ExecuteTime": {
     "end_time": "2024-09-09T08:01:04.910159Z",
     "start_time": "2024-09-09T08:01:04.905154Z"
    }
   },
   "cell_type": "code",
   "source": [
    "file_path = \"sample.txt\"\n",
    "with open(file_path, \"r\") as file:\n",
    "    text = file.read()"
   ],
   "id": "affabcdec988b3c",
   "outputs": [],
   "execution_count": 4
  },
  {
   "metadata": {},
   "cell_type": "markdown",
   "source": "use the `RecursiveCharacterTextSplitter` class from the indox library to divide a large text into smaller, manageable chunks",
   "id": "4a9333b7bf6675d0"
  },
  {
   "metadata": {
    "ExecuteTime": {
     "end_time": "2024-09-09T08:01:07.105498Z",
     "start_time": "2024-09-09T08:01:07.095676Z"
    }
   },
   "cell_type": "code",
   "source": [
    "from indox.splitter import RecursiveCharacterTextSplitter\n",
    "\n",
    "splitter = RecursiveCharacterTextSplitter(400,20)\n",
    "content_chunks = splitter.split_text(text)\n",
    "\n",
    "\n"
   ],
   "id": "d59e28878e06d79",
   "outputs": [],
   "execution_count": 5
  },
  {
   "metadata": {},
   "cell_type": "markdown",
   "source": "### Set up vector store\n",
   "id": "225d23e56668dd3c"
  },
  {
   "metadata": {
    "ExecuteTime": {
     "end_time": "2024-09-09T08:01:09.362172Z",
     "start_time": "2024-09-09T08:01:09.290021Z"
    }
   },
   "cell_type": "code",
   "source": [
    "from indox.vector_stores import RedisDB\n",
    "redis_store = RedisDB(\n",
    "    host='host',\n",
    "    port=port,\n",
    "    password='password',\n",
    "    embedding=embed\n",
    ")\n"
   ],
   "id": "a72f9ce7dc4912b6",
   "outputs": [],
   "execution_count": 6
  },
  {
   "metadata": {},
   "cell_type": "markdown",
   "source": "### Storing Data in the Vector Store",
   "id": "6505f14dd0367e08"
  },
  {
   "metadata": {
    "ExecuteTime": {
     "end_time": "2024-09-09T08:01:14.623571Z",
     "start_time": "2024-09-09T08:01:11.679592Z"
    }
   },
   "cell_type": "code",
   "source": "redis_store.add(texts=content_chunks)\n",
   "id": "ccab47dfbbdc1a9f",
   "outputs": [
    {
     "name": "stdout",
     "output_type": "stream",
     "text": [
      "\u001B[32mINFO\u001B[0m: \u001B[1mEmbedding documents\u001B[0m\n",
      "\u001B[32mINFO\u001B[0m: \u001B[1mStarting to fetch embeddings for texts using model: SentenceTransformer(\n",
      "  (0): Transformer({'max_seq_length': 512, 'do_lower_case': False}) with Transformer model: MPNetModel \n",
      "  (1): Pooling({'word_embedding_dimension': 768, 'pooling_mode_cls_token': False, 'pooling_mode_mean_tokens': True, 'pooling_mode_max_tokens': False, 'pooling_mode_mean_sqrt_len_tokens': False, 'pooling_mode_weightedmean_tokens': False, 'pooling_mode_lasttoken': False, 'include_prompt': True})\n",
      "  (2): Normalize()\n",
      ")\u001B[0m\n"
     ]
    },
    {
     "name": "stderr",
     "output_type": "stream",
     "text": [
      "Batches: 100%|██████████| 2/2 [00:00<00:00,  6.99it/s]\n"
     ]
    },
    {
     "name": "stdout",
     "output_type": "stream",
     "text": [
      "\u001B[32mINFO\u001B[0m: \u001B[1mAdded 38 texts successfully to the vector store.\u001B[0m\n"
     ]
    },
    {
     "data": {
      "text/plain": [
       "['a34fba11-915e-4290-ab21-616ac23d0c28',\n",
       " 'bd06dc46-375d-4c35-a92b-bf2de9909b0a',\n",
       " 'd0e00a14-6760-4f1b-aad0-7b6d306fbb24',\n",
       " '7ecd5729-b8b5-4161-ab26-b096394a7837',\n",
       " '58aa1b45-c47a-4a99-96a1-d704073f6caf',\n",
       " '47514120-de26-492f-9f8c-747ec15bdbff',\n",
       " '3a1700c0-c6b6-4cd2-b57f-a31f30ddf1e7',\n",
       " 'e59cc5f1-fe07-4d0c-8903-2b4ec6566489',\n",
       " '46dd468a-f2d0-41c6-97aa-b8cc2466b386',\n",
       " '8e6fcb25-0c55-4e6b-8495-06341e3e0fb6',\n",
       " '775fa1fd-94a1-44b3-aa5c-79d7a01f3d90',\n",
       " 'c1857a44-72ac-4590-89da-a86d3e31dd6e',\n",
       " '85b4a7b0-ff15-47fd-b55b-a7d5f42188f2',\n",
       " 'fe4612dd-4208-4158-9e44-fd3c0e1b057a',\n",
       " '52e736cb-64b8-4ad4-8ee0-447543694230',\n",
       " 'be2f70c1-0d28-489c-91dd-d0439db932db',\n",
       " '33aca7c9-f8e5-4978-9f03-70fbfa59d160',\n",
       " 'a12ac9b8-47f6-40d4-8202-3588b9c57500',\n",
       " '11c4eca6-7604-4844-bab9-ffd2103e5acb',\n",
       " '6f218133-cea2-4a76-8c41-f19c6a33ddd6',\n",
       " '6c3027f1-9136-4e0b-b10e-2312a23ee698',\n",
       " 'f960bb89-5272-41d9-9d33-3329d051c4e6',\n",
       " 'cc74141b-eb66-4cb7-99af-9ed38ea455b6',\n",
       " 'd06d10fc-f68e-4da5-bcb0-a5a00e7140b2',\n",
       " '2974aeda-edee-4b61-ae32-1c3a9032a236',\n",
       " 'd21c8120-1870-4e26-be21-10733bcbed48',\n",
       " 'eb43b95e-dee9-4ad9-8e72-a8d6b5ba422c',\n",
       " 'e23d752a-ae02-4375-92e1-1509ed954330',\n",
       " '68491497-f907-4672-ad2f-9034697050e8',\n",
       " '260012e6-206e-4923-989d-fc90274523bd',\n",
       " '1af10b8f-693f-41fd-8b61-4e1c13d4caf8',\n",
       " '3a15d594-9039-468b-8472-eac40456837f',\n",
       " '55a99249-e592-4391-b282-a34ed2aa7196',\n",
       " '75b8226a-6b4a-4ba8-bb41-2ab1fef87265',\n",
       " '755c925f-1281-4e5e-b335-4d8d3d0a1c09',\n",
       " '941d8846-f066-40af-87ac-9e2e9bb98402',\n",
       " '9f9c4537-2be7-4276-8592-d2d5f1a580f2',\n",
       " '37e46d8b-1a61-4269-b074-881df805c9eb']"
      ]
     },
     "execution_count": 7,
     "metadata": {},
     "output_type": "execute_result"
    }
   ],
   "execution_count": 7
  },
  {
   "metadata": {
    "ExecuteTime": {
     "end_time": "2024-09-09T08:01:16.001009Z",
     "start_time": "2024-09-09T08:01:15.996972Z"
    }
   },
   "cell_type": "code",
   "source": "retriever = indox.QuestionAnswer(vector_database=redis_store,llm=mistral_qa,top_k=5)\n",
   "id": "ab60bbae564a9746",
   "outputs": [],
   "execution_count": 8
  },
  {
   "metadata": {
    "ExecuteTime": {
     "end_time": "2024-09-09T08:01:24.631056Z",
     "start_time": "2024-09-09T08:01:19.440606Z"
    }
   },
   "cell_type": "code",
   "source": [
    "query = \"How cinderella reach her happy ending?\"\n",
    "answer = retriever.invoke(query=query)\n"
   ],
   "id": "5da3240868f466ed",
   "outputs": [
    {
     "name": "stdout",
     "output_type": "stream",
     "text": [
      "\u001B[32mINFO\u001B[0m: \u001B[1mRetrieving context and scores from the vector database\u001B[0m\n",
      "\u001B[32mINFO\u001B[0m: \u001B[1mEmbedding documents\u001B[0m\n",
      "\u001B[32mINFO\u001B[0m: \u001B[1mStarting to fetch embeddings for texts using model: SentenceTransformer(\n",
      "  (0): Transformer({'max_seq_length': 512, 'do_lower_case': False}) with Transformer model: MPNetModel \n",
      "  (1): Pooling({'word_embedding_dimension': 768, 'pooling_mode_cls_token': False, 'pooling_mode_mean_tokens': True, 'pooling_mode_max_tokens': False, 'pooling_mode_mean_sqrt_len_tokens': False, 'pooling_mode_weightedmean_tokens': False, 'pooling_mode_lasttoken': False, 'include_prompt': True})\n",
      "  (2): Normalize()\n",
      ")\u001B[0m\n"
     ]
    },
    {
     "name": "stderr",
     "output_type": "stream",
     "text": [
      "Batches: 100%|██████████| 1/1 [00:00<00:00, 110.18it/s]\n"
     ]
    },
    {
     "name": "stdout",
     "output_type": "stream",
     "text": [
      "\u001B[32mINFO\u001B[0m: \u001B[1mGenerating answer without document relevancy filter\u001B[0m\n",
      "\u001B[32mINFO\u001B[0m: \u001B[1mAnswering question\u001B[0m\n",
      "\u001B[32mINFO\u001B[0m: \u001B[1mSending request to Hugging Face API\u001B[0m\n",
      "\u001B[32mINFO\u001B[0m: \u001B[1mReceived successful response from Hugging Face API\u001B[0m\n",
      "\u001B[32mINFO\u001B[0m: \u001B[1mQuery answered successfully\u001B[0m\n"
     ]
    }
   ],
   "execution_count": 9
  },
  {
   "metadata": {
    "ExecuteTime": {
     "end_time": "2024-09-09T08:01:26.201848Z",
     "start_time": "2024-09-09T08:01:26.196750Z"
    }
   },
   "cell_type": "code",
   "source": "answer",
   "id": "f41fd55b52f2cbc4",
   "outputs": [
    {
     "data": {
      "text/plain": [
       "'Cinderella reached her happy ending when she made a wish and the bird granted it. The wish came true when the king threw a grand festival for his son to choose a bride, and Cinderella attended in disguise using the magic slippers left by the bird. At the ball, the prince was instantly drawn to Cinderella, but she left before he could catch her identity. With the help of the slipper, the prince was able to trace Cinderella down, and they'"
      ]
     },
     "execution_count": 10,
     "metadata": {},
     "output_type": "execute_result"
    }
   ],
   "execution_count": 10
  }
 ],
 "metadata": {
  "kernelspec": {
   "display_name": "Python 3",
   "language": "python",
   "name": "python3"
  },
  "language_info": {
   "codemirror_mode": {
    "name": "ipython",
    "version": 2
   },
   "file_extension": ".py",
   "mimetype": "text/x-python",
   "name": "python",
   "nbconvert_exporter": "python",
   "pygments_lexer": "ipython2",
   "version": "2.7.6"
  }
 },
 "nbformat": 4,
 "nbformat_minor": 5
}
