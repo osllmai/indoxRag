{
 "cells": [
  {
   "metadata": {},
   "cell_type": "markdown",
   "source": [
    "## Retrieval Augmentation Using Ollama\n",
    "Here, we will explore how to work with Indox Retrieval Augmentation with Ollama. Actually Ollama is an open-source project that running LLMs on your local nachine. Ollama provides access to a diverse and continuously expanding library of pre-trained LLM models.\n",
    "\n",
    "### Effortless Installation and Setup\n",
    "One of Ollama’s standout features is its user-friendly installation process. Whether you’re a Windows, macOS, or Linux user, Ollama offers intuitive\n",
    " installation methods tailored to your operating system, ensuring a smooth and hassle-free setup experience.\n",
    " \n",
    "### How to Download Ollama\n",
    "You need to download Ollama, head on to the official website of [Ollama](https://ollama.com/) and hit the download button.Ollama supports 3 different operating systems.\n",
    "\n",
    "### How to Run Ollama\n",
    "you can download the intended model using the following cammand:\n"
   ],
   "id": "d0981252e4322d58"
  },
  {
   "metadata": {},
   "cell_type": "code",
   "outputs": [],
   "execution_count": null,
   "source": "ollama run llama2",
   "id": "33257d031d72d7e2"
  },
  {
   "metadata": {},
   "cell_type": "markdown",
   "source": [
    "## Now lets run Indox\n",
    "If you haven't install required packages, please download them."
   ],
   "id": "a49b95e88ee1d3d7"
  },
  {
   "metadata": {},
   "cell_type": "code",
   "outputs": [],
   "execution_count": null,
   "source": [
    "!pip install ollama\n",
    "!pip install mistralai\n",
    "!pip install ollama\n",
    "!pip install chromadb"
   ],
   "id": "b37ae34d97113c37"
  },
  {
   "metadata": {},
   "cell_type": "markdown",
   "source": "[![Open In Colab](https://colab.research.google.com/assets/colab-badge.svg)](https://colab.research.google.com/github/osllmai/inDox/blob/master/Demo/ollama.ipynb)",
   "id": "81ca133b82c5396a"
  },
  {
   "metadata": {},
   "cell_type": "markdown",
   "source": [
    "## Setting Up the Python Environment\n",
    "\n",
    "If you are running this project in your local IDE, please create a Python environment to ensure all dependencies are correctly managed. You can follow the steps below to set up a virtual environment named `indox`:\n",
    "\n",
    "### Windows\n",
    "\n",
    "1. **Create the virtual environment:**\n",
    "```bash\n",
    "python -m venv indox\n",
    "```\n",
    "2. **Activate the virtual environment:**\n",
    "```bash\n",
    "indox_judge\\Scripts\\activate\n",
    "```\n",
    "\n",
    "### macOS/Linux\n",
    "\n",
    "1. **Create the virtual environment:**\n",
    "   ```bash\n",
    "   python3 -m venv indox\n",
    "```\n",
    "\n",
    "2. **Activate the virtual environment:**\n",
    "    ```bash\n",
    "   source indox/bin/activate\n",
    "```\n",
    "### Install Dependencies\n",
    "\n",
    "Once the virtual environment is activated, install the required dependencies by running:\n",
    "\n",
    "```bash\n",
    "pip install -r requirements.txt\n",
    "```\n"
   ],
   "id": "d5aa43994945a017"
  },
  {
   "metadata": {},
   "cell_type": "markdown",
   "source": " we should set our MISTRAL_API_KEY as an environment variable.",
   "id": "74fc3e1ed0e324d6"
  },
  {
   "cell_type": "code",
   "id": "initial_id",
   "metadata": {
    "collapsed": true,
    "ExecuteTime": {
     "end_time": "2024-07-10T18:17:34.365253Z",
     "start_time": "2024-07-10T18:17:34.355252Z"
    }
   },
   "source": [
    "import os\n",
    "from dotenv import load_dotenv\n",
    "\n",
    "load_dotenv()\n",
    "MISTRAL_API_KEY = os.getenv('MISTRAL_API_KEY')"
   ],
   "outputs": [],
   "execution_count": 1
  },
  {
   "metadata": {},
   "cell_type": "markdown",
   "source": [
    "### Import Essential Libraries\n",
    "Then, we import essential libraries for our `Indox` question answering system:\n",
    "- `IndoxRetrievalAugmentation`: Enhances the retrieval process for better QA performance.\n",
    "- `Ollama`: Any intended model from Ollama.\n",
    "- `MistralEmbedding`: Utilizes Mistral embeddings for improved semantic understanding.\n",
    "- `SimpleLoadAndSplit`: A utility for loading and splitting PDF files.\n",
    "- `ChromaVectorStore`: Using ChromaVectorStore to store our documents."
   ],
   "id": "27a339acc4254a8b"
  },
  {
   "metadata": {
    "ExecuteTime": {
     "end_time": "2024-07-10T18:17:46.782342Z",
     "start_time": "2024-07-10T18:17:37.093763Z"
    }
   },
   "cell_type": "code",
   "source": [
    "from indox import IndoxRetrievalAugmentation\n",
    "from indox.data_loader_splitter import SimpleLoadAndSplit\n",
    "from indox.llms import Ollama\n",
    "from indox.vector_stores import Chroma\n",
    "from indox.embeddings import MistralEmbedding"
   ],
   "id": "d27fed528e7a718f",
   "outputs": [],
   "execution_count": 2
  },
  {
   "metadata": {},
   "cell_type": "markdown",
   "source": [
    "### Building the Indox System and Initializing Models\n",
    "\n",
    "Next, we will build our `inDox` system and initialize the Ollama model which we have already downloaded,  along with the embedding model. This setup will allow us to leverage the advanced capabilities of Indox for our tasks.\n"
   ],
   "id": "a3fc2ce70ef8291f"
  },
  {
   "metadata": {
    "ExecuteTime": {
     "end_time": "2024-07-10T18:17:46.788015Z",
     "start_time": "2024-07-10T18:17:46.783392Z"
    }
   },
   "cell_type": "code",
   "source": [
    "indox = IndoxRetrievalAugmentation()\n",
    "llm_model = Ollama(model=\"llama3\")"
   ],
   "id": "d5882489fb5469db",
   "outputs": [
    {
     "name": "stdout",
     "output_type": "stream",
     "text": [
      "\u001B[32mINFO\u001B[0m: \u001B[1mIndoxRetrievalAugmentation initialized\u001B[0m\n",
      "\n",
      "            ██  ███    ██  ██████   ██████  ██       ██\n",
      "            ██  ████   ██  ██   ██ ██    ██   ██  ██\n",
      "            ██  ██ ██  ██  ██   ██ ██    ██     ██\n",
      "            ██  ██  ██ ██  ██   ██ ██    ██   ██   ██\n",
      "            ██  ██  █████  ██████   ██████  ██       ██\n",
      "            \n"
     ]
    }
   ],
   "execution_count": 3
  },
  {
   "metadata": {},
   "cell_type": "markdown",
   "source": [
    "### Connecting Embedding Model to Indox\n",
    "\n",
    "With our reference data chunked and ready, the next step is to connect our embedding model to the Indox system. This connection enables the system to leverage the embeddings for better semantic understanding and retrieval performance.\n",
    "\n",
    "We use the `connect_to_vectorstore` method to link the `HuggingFaceEmbedding` model with our Indox system. By specifying the embeddings and a collection name, we ensure that our reference data is appropriately indexed and stored, facilitating efficient retrieval during the question-answering process.\n",
    "\n",
    "Let's connect the embedding model to Indox.\n"
   ],
   "id": "f4594f26e7046af2"
  },
  {
   "metadata": {},
   "cell_type": "code",
   "outputs": [],
   "execution_count": null,
   "source": "embed_mistral = MistralEmbedding(MISTRAL_API_KEY)",
   "id": "1d2fd39eaaa8f14a"
  },
  {
   "metadata": {},
   "cell_type": "markdown",
   "source": [
    "### Setting Up Reference Directory and File Path\n",
    "\n",
    "To demonstrate the capabilities of our Indox question answering system, we will use a sample directory. This directory will contain our reference data, which we will use for testing and evaluation.\n",
    "\n",
    "First, we specify the path to our sample file. In this case, we are using a file named `sample.txt` located in our working directory. This file will serve as our reference data for the subsequent steps.\n",
    "\n",
    "Let's define the file path for our reference data."
   ],
   "id": "8323c0ae0d62b467"
  },
  {
   "metadata": {
    "ExecuteTime": {
     "end_time": "2024-07-10T18:17:56.050765Z",
     "start_time": "2024-07-10T18:17:54.864608Z"
    }
   },
   "cell_type": "code",
   "source": [
    "!wget https://raw.githubusercontent.com/osllmai/inDox/master/Demo/sample.txt\n",
    "file_path = \"Demo/sample.txt\""
   ],
   "id": "2bb98959fb81e1b5",
   "outputs": [
    {
     "name": "stdout",
     "output_type": "stream",
     "text": [
      "\u001B[32mINFO\u001B[0m: \u001B[1mUnstructuredLoadAndSplit initialized successfully\u001B[0m\n",
      "\u001B[32mINFO\u001B[0m: \u001B[1mStarting processing\u001B[0m\n",
      "\u001B[32mINFO\u001B[0m: \u001B[1mCreated initial document elements\u001B[0m\n",
      "\u001B[32mINFO\u001B[0m: \u001B[1mCompleted chunking process\u001B[0m\n",
      "\u001B[32mINFO\u001B[0m: \u001B[1mSuccessfully obtained all documents\u001B[0m\n"
     ]
    }
   ],
   "execution_count": 4
  },
  {
   "metadata": {},
   "cell_type": "markdown",
   "source": [
    "### Chunking Reference Data with SimpleLoadAndSplit\n",
    "\n",
    "To effectively utilize our reference data, we need to process and chunk it into manageable parts. This ensures that our question answering system can efficiently handle and retrieve relevant information.\n",
    "\n",
    "We use the `SimpleLoadAndSplit` utility for this task. This tool allows us to load the PDF files and split it into smaller chunks. This process enhances the performance of our retrieval and QA models by making the data more accessible and easier to process. We are using 'bert-base-uncased' model for splitting data.\n",
    "\n",
    "In this step, we define the file path for our reference data and use `SimpleLoadAndSplit` to chunk the data with a maximum chunk size of 200 characters. Also we can handle to remove stop words or not by initializing `remove-sword` parameter.\n",
    "\n",
    "Let's proceed with chunking our reference data."
   ],
   "id": "80640d8be9a688fd"
  },
  {
   "metadata": {
    "ExecuteTime": {
     "end_time": "2024-07-10T18:18:08.095992Z",
     "start_time": "2024-07-10T18:18:08.091370Z"
    }
   },
   "cell_type": "code",
   "source": [
    "loader_splitter = SimpleLoadAndSplit(file_path=file_path)\n",
    "docs = loader_splitter.load_and_chunk()"
   ],
   "id": "34ba3b12a6b4bcbc",
   "outputs": [
    {
     "name": "stdout",
     "output_type": "stream",
     "text": [
      "\u001B[32mINFO\u001B[0m: \u001B[1mInitializing Ollama with model: llama3\u001B[0m\n",
      "\u001B[32mINFO\u001B[0m: \u001B[1mOllama initialized successfully\u001B[0m\n"
     ]
    }
   ],
   "execution_count": 5
  },
  {
   "metadata": {},
   "cell_type": "markdown",
   "source": [
    "### Storing Data in the Vector Store\n",
    "\n",
    "After connecting our embedding model to the Indox system, the next step is to store our chunked reference data in the vector store. This process ensures that our data is indexed and readily available for retrieval during the question-answering process.\n",
    "\n",
    "We use the `store_in_vectorstore` method to store the processed data in the vector store. By doing this, we enhance the system's ability to quickly access and retrieve relevant information based on the embeddings generated earlier.\n",
    "\n",
    "Let's proceed with storing the data in the vector store."
   ],
   "id": "8ac95f8485fd64a5"
  },
  {
   "metadata": {
    "ExecuteTime": {
     "end_time": "2024-07-10T18:18:18.912304Z",
     "start_time": "2024-07-10T18:18:16.726513Z"
    }
   },
   "cell_type": "code",
   "source": "db = Chroma(collection_name=\"sample\", embedding_function=embed_mistral)",
   "id": "7ed207f88927896b",
   "outputs": [
    {
     "name": "stdout",
     "output_type": "stream",
     "text": [
      "\u001B[32mINFO\u001B[0m: \u001B[1mInitialized Mistral embeddings\u001B[0m\n"
     ]
    }
   ],
   "execution_count": 6
  },
  {
   "metadata": {
    "ExecuteTime": {
     "end_time": "2024-07-10T18:18:22.667383Z",
     "start_time": "2024-07-10T18:18:22.659873Z"
    }
   },
   "cell_type": "code",
   "source": "db.add(docs=docs)",
   "id": "e945c2bc3d348a57",
   "outputs": [
    {
     "name": "stdout",
     "output_type": "stream",
     "text": [
      "\u001B[32mINFO\u001B[0m: \u001B[1mConnection to the vector store database established successfully\u001B[0m\n"
     ]
    },
    {
     "data": {
      "text/plain": [
       "<indox.vector_stores.Chroma.ChromaVectorStore at 0x2528c616300>"
      ]
     },
     "execution_count": 7,
     "metadata": {},
     "output_type": "execute_result"
    }
   ],
   "execution_count": 7
  },
  {
   "metadata": {},
   "cell_type": "markdown",
   "source": [
    "## Query from RAG System with Indox\n",
    "With our Retrieval-Augmented Generation (RAG) system built using Indox, we are now ready to test it with a sample question. This test will demonstrate how effectively our system can retrieve and generate accurate answers based on the reference data stored in the vector store.\n",
    "\n",
    "We'll use a sample query to test our system:\n",
    "- **Query**: \"How did Cinderella reach her happy ending?\"\n",
    "\n",
    "This question will be processed by our Indox system to retrieve relevant information and generate an appropriate response.\n",
    "\n",
    "Let's test our RAG system with the sample question"
   ],
   "id": "9efdb398b438c802"
  },
  {
   "metadata": {
    "ExecuteTime": {
     "end_time": "2024-07-10T18:18:41.853099Z",
     "start_time": "2024-07-10T18:18:41.849083Z"
    }
   },
   "cell_type": "code",
   "source": "retriever = indox.QuestionAnswer(vector_database=db, llm=llm_model)",
   "id": "c9b067ed6bcd1f86",
   "outputs": [],
   "execution_count": 9
  },
  {
   "metadata": {
    "ExecuteTime": {
     "end_time": "2024-07-10T18:18:49.559773Z",
     "start_time": "2024-07-10T18:18:49.556257Z"
    }
   },
   "cell_type": "code",
   "source": "query = \"How cinderella reach her happy ending?\"",
   "id": "2a2484cfb4314bbd",
   "outputs": [],
   "execution_count": 10
  },
  {
   "metadata": {},
   "cell_type": "markdown",
   "source": [
    "Now that our Retrieval-Augmented Generation (RAG) system with Indox is fully set up, we can test it with a sample question. We'll use the `invoke` submethod to get a response from the system.\n",
    "\n",
    "\n",
    "The `invoke` method processes the query using the connected QA model and retrieves relevant information from the vector store. It returns a list where:\n",
    "- The first index contains the answer.\n",
    "- The second index contains the contexts and their respective scores.\n",
    "\n",
    "\n",
    "We'll pass this query to the `invoke` method and print the response.\n"
   ],
   "id": "f7130213f529abd9"
  },
  {
   "metadata": {
    "ExecuteTime": {
     "end_time": "2024-07-10T18:21:41.286921Z",
     "start_time": "2024-07-10T18:19:00.123359Z"
    }
   },
   "cell_type": "code",
   "source": "answer = retriever.invoke(query)",
   "id": "8f2efd8d91526c72",
   "outputs": [
    {
     "name": "stdout",
     "output_type": "stream",
     "text": [
      "\u001B[32mINFO\u001B[0m: \u001B[1mRetrieving context and scores from the vector database\u001B[0m\n",
      "\u001B[32mINFO\u001B[0m: \u001B[1mGenerating answer without document relevancy filter\u001B[0m\n",
      "\u001B[32mINFO\u001B[0m: \u001B[1mAnswering question\u001B[0m\n",
      "\u001B[32mINFO\u001B[0m: \u001B[1mGenerating response\u001B[0m\n",
      "\u001B[32mINFO\u001B[0m: \u001B[1mResponse generated successfully\u001B[0m\n",
      "\u001B[32mINFO\u001B[0m: \u001B[1mQuery answered successfully\u001B[0m\n"
     ]
    }
   ],
   "execution_count": 11
  },
  {
   "metadata": {
    "ExecuteTime": {
     "end_time": "2024-07-10T18:22:03.681929Z",
     "start_time": "2024-07-10T18:22:03.677384Z"
    }
   },
   "cell_type": "code",
   "source": "answer",
   "id": "66f2002910cb744b",
   "outputs": [
    {
     "data": {
      "text/plain": [
       "\"Based on the given context, here are the options:A) Cinderella's fairy godmother helped her get ready for the ball.B) Cinderella's kindness and hard work earned her a magical dress from the bird on the hazel-tree.C) Cinderella's step-sisters and mother helped her get ready for the wedding.D) Cinderella used her magic to transform herself into a beautiful princess.And the best full answer is:B) Cinderella's kindness and hard work earned her a magical dress from the bird on the hazel-tree.This option stands out as the most correct because it highlights Cinderella's humble nature and her good deeds, which ultimately led to her receiving a magical dress that transformed her into a beautiful princess.\""
      ]
     },
     "execution_count": 12,
     "metadata": {},
     "output_type": "execute_result"
    }
   ],
   "execution_count": 12
  },
  {
   "metadata": {},
   "cell_type": "markdown",
   "source": [
    "## Retrieve information by using Agnet\n",
    "Here we are using Agent to retrieve answer.\n",
    "Note: to be more familiar with AgenticRAG pleas read [this page](\"https://docs.osllm.ai/agenticRag.html\")"
   ],
   "id": "b544ab5d25a8b3ea"
  },
  {
   "metadata": {
    "ExecuteTime": {
     "end_time": "2024-07-10T18:25:42.283720Z",
     "start_time": "2024-07-10T18:22:08.523093Z"
    }
   },
   "cell_type": "code",
   "source": [
    "agent = indox.AgenticRag(vector_database=db,llm=llm_model)\n",
    "agent.run(\"where does messi plays right now?\")"
   ],
   "id": "cea0bad80fd439c3",
   "outputs": [
    {
     "name": "stdout",
     "output_type": "stream",
     "text": [
      "\u001B[32mINFO\u001B[0m: \u001B[1mGenerating response\u001B[0m\n",
      "\u001B[32mINFO\u001B[0m: \u001B[1mResponse generated successfully\u001B[0m\n",
      "\u001B[32mINFO\u001B[0m: \u001B[1mNot relevant doc\u001B[0m\n",
      "\u001B[32mINFO\u001B[0m: \u001B[1mGenerating response\u001B[0m\n",
      "\u001B[32mINFO\u001B[0m: \u001B[1mResponse generated successfully\u001B[0m\n",
      "\u001B[32mINFO\u001B[0m: \u001B[1mNot relevant doc\u001B[0m\n",
      "\u001B[32mINFO\u001B[0m: \u001B[1mGenerating response\u001B[0m\n",
      "\u001B[32mINFO\u001B[0m: \u001B[1mResponse generated successfully\u001B[0m\n",
      "\u001B[32mINFO\u001B[0m: \u001B[1mNot relevant doc\u001B[0m\n",
      "\u001B[32mINFO\u001B[0m: \u001B[1mGenerating response\u001B[0m\n",
      "\u001B[32mINFO\u001B[0m: \u001B[1mResponse generated successfully\u001B[0m\n",
      "\u001B[32mINFO\u001B[0m: \u001B[1mNot relevant doc\u001B[0m\n",
      "\u001B[32mINFO\u001B[0m: \u001B[1mGenerating response\u001B[0m\n",
      "\u001B[32mINFO\u001B[0m: \u001B[1mResponse generated successfully\u001B[0m\n",
      "\u001B[32mINFO\u001B[0m: \u001B[1mNot relevant doc\u001B[0m\n",
      "\u001B[32mINFO\u001B[0m: \u001B[1mNo Relevant document found, Start web search\u001B[0m\n",
      "\u001B[32mINFO\u001B[0m: \u001B[1mNo Relevant Context Found, Start Searching On Web...\u001B[0m\n",
      "\u001B[32mINFO\u001B[0m: \u001B[1mAnswer Base On Web Search\u001B[0m\n",
      "\u001B[32mINFO\u001B[0m: \u001B[1mAnswering question\u001B[0m\n",
      "\u001B[32mINFO\u001B[0m: \u001B[1mGenerating response\u001B[0m\n",
      "\u001B[32mINFO\u001B[0m: \u001B[1mResponse generated successfully\u001B[0m\n",
      "\u001B[32mINFO\u001B[0m: \u001B[1mCheck For Hallucination In Generated Answer Base On Web Search\u001B[0m\n",
      "\u001B[32mINFO\u001B[0m: \u001B[1mChecking hallucination for answer\u001B[0m\n",
      "\u001B[32mINFO\u001B[0m: \u001B[1mGenerating response\u001B[0m\n",
      "\u001B[32mINFO\u001B[0m: \u001B[1mResponse generated successfully\u001B[0m\n",
      "\u001B[32mINFO\u001B[0m: \u001B[1mHallucination detected, Regenerate the answer...\u001B[0m\n",
      "\u001B[32mINFO\u001B[0m: \u001B[1mAnswering question\u001B[0m\n",
      "\u001B[32mINFO\u001B[0m: \u001B[1mGenerating response\u001B[0m\n",
      "\u001B[32mINFO\u001B[0m: \u001B[1mResponse generated successfully\u001B[0m\n"
     ]
    },
    {
     "data": {
      "text/plain": [
       "'Based on the given context, it appears that Lionel Messi is currently playing for Inter Miami, as he has announced his decision to join the Major League Soccer (MLS) team.'"
      ]
     },
     "execution_count": 13,
     "metadata": {},
     "output_type": "execute_result"
    }
   ],
   "execution_count": 13
  },
  {
   "metadata": {},
   "cell_type": "code",
   "outputs": [],
   "execution_count": null,
   "source": "",
   "id": "63ab9c9dd6a539bd"
  },
  {
   "metadata": {},
   "cell_type": "code",
   "outputs": [],
   "execution_count": null,
   "source": "",
   "id": "5320b74d616988c2"
  },
  {
   "metadata": {},
   "cell_type": "code",
   "outputs": [],
   "execution_count": null,
   "source": "",
   "id": "213844005a828d1"
  }
 ],
 "metadata": {
  "kernelspec": {
   "display_name": "Python 3",
   "language": "python",
   "name": "python3"
  },
  "language_info": {
   "codemirror_mode": {
    "name": "ipython",
    "version": 2
   },
   "file_extension": ".py",
   "mimetype": "text/x-python",
   "name": "python",
   "nbconvert_exporter": "python",
   "pygments_lexer": "ipython2",
   "version": "2.7.6"
  }
 },
 "nbformat": 4,
 "nbformat_minor": 5
}
