{
 "cells": [
  {
   "metadata": {
    "ExecuteTime": {
     "end_time": "2024-09-17T14:03:47.216750Z",
     "start_time": "2024-09-17T14:03:47.194114Z"
    }
   },
   "cell_type": "code",
   "source": [
    "import os\n",
    "from dotenv import load_dotenv\n",
    "\n",
    "load_dotenv()\n",
    "INDOX_API_KEY = os.environ['INDOX_API_KEY']\n",
    "OPENAI_API_KEY = os.environ['OPENAI_API_KEY']\n",
    "NVIDIA_API_KEY = os.environ['NVIDIA_API_KEY']"
   ],
   "id": "162e006c2caefe19",
   "outputs": [],
   "execution_count": 1
  },
  {
   "cell_type": "code",
   "id": "initial_id",
   "metadata": {
    "collapsed": true,
    "ExecuteTime": {
     "end_time": "2024-09-17T14:03:57.972291Z",
     "start_time": "2024-09-17T14:03:57.965133Z"
    }
   },
   "source": [
    "from openai import OpenAI\n",
    "import os\n",
    "import re\n",
    "import numpy as np\n",
    "import pandas as pd\n",
    "from sklearn.cluster import KMeans\n",
    "import matplotlib.pyplot as plt\n",
    "import json\n",
    "import matplotlib"
   ],
   "outputs": [],
   "execution_count": 3
  },
  {
   "metadata": {
    "ExecuteTime": {
     "end_time": "2024-09-17T14:03:59.247851Z",
     "start_time": "2024-09-17T14:03:58.350842Z"
    }
   },
   "cell_type": "code",
   "source": [
    "from indox.llms import OpenAi\n",
    "\n",
    "nemotron = OpenAi(api_key=NVIDIA_API_KEY, model=\"nvidia/nemotron-4-340b-instruct\",\n",
    "                  base_url=\"https://integrate.api.nvidia.com/v1\")\n",
    "openai = OpenAi(api_key=OPENAI_API_KEY, model=\"gpt-4o-mini\")"
   ],
   "id": "8358fd22bfd2a426",
   "outputs": [
    {
     "name": "stdout",
     "output_type": "stream",
     "text": [
      "\u001B[32mINFO\u001B[0m: \u001B[1mInitializing OpenAi with model: nvidia/nemotron-4-340b-instruct\u001B[0m\n",
      "\u001B[32mINFO\u001B[0m: \u001B[1mOpenAi initialized successfully\u001B[0m\n",
      "\u001B[32mINFO\u001B[0m: \u001B[1mInitializing OpenAi with model: gpt-4o-mini\u001B[0m\n",
      "\u001B[32mINFO\u001B[0m: \u001B[1mOpenAi initialized successfully\u001B[0m\n"
     ]
    }
   ],
   "execution_count": 4
  },
  {
   "metadata": {
    "ExecuteTime": {
     "end_time": "2024-09-17T06:53:13.810848Z",
     "start_time": "2024-09-17T06:53:11.495498Z"
    }
   },
   "cell_type": "code",
   "source": [
    "datagen_model = \"gpt-4o-mini\"\n",
    "question = \"\"\"\n",
    "Create a CSV file with 10 rows of housing data.\n",
    "Each row should include the following fields:\n",
    " - id (incrementing integer starting at 1)\n",
    " - house size (m^2)\n",
    " - house price\n",
    " - location\n",
    " - number of bedrooms\n",
    "\n",
    "Make sure that the numbers make sense (i.e. more rooms is usually bigger size, more expensive locations increase price. more size is usually higher price etc. make sure all the numbers make sense). Also only respond with the CSV.\n",
    "\"\"\"\n",
    "\n",
    "response = client.chat.completions.create(\n",
    "    model=datagen_model,\n",
    "    messages=[\n",
    "        {\"role\": \"system\", \"content\": \"You are a helpful assistant designed to generate synthetic data.\"},\n",
    "        {\"role\": \"user\", \"content\": question}\n",
    "    ]\n",
    ")\n",
    "res = response.choices[0].message.content\n",
    "print(res)"
   ],
   "id": "e4d76e31dbde0ae",
   "outputs": [
    {
     "name": "stdout",
     "output_type": "stream",
     "text": [
      "```csv\n",
      "id,house_size_m2,house_price_location_USD,location,number_of_bedrooms\n",
      "1,50,150000,\"Downtown\",1\n",
      "2,75,200000,\"City Suburb\",2\n",
      "3,100,300000,\"Popular Neighborhood\",3\n",
      "4,120,350000,\"City Suburb\",3\n",
      "5,150,500000,\"Upscale Area\",4\n",
      "6,180,600000,\"Luxury District\",4\n",
      "7,200,750000,\"Waterfront\",5\n",
      "8,250,900000,\"Downtown\",5\n",
      "9,300,1200000,\"Luxury District\",6\n",
      "10,400,1500000,\"Exclusive Area\",7\n",
      "```\n"
     ]
    }
   ],
   "execution_count": 4
  },
  {
   "metadata": {
    "ExecuteTime": {
     "end_time": "2024-09-17T06:55:55.712949Z",
     "start_time": "2024-09-17T06:55:49.936289Z"
    }
   },
   "cell_type": "code",
   "source": [
    "question = \"\"\"\n",
    "Create a Python program to generate 100 rows of housing data.\n",
    "I want you to at the end of it output a pandas dataframe with 100 rows of data.\n",
    "Each row should include the following fields:\n",
    " - id (incrementing integer starting at 1)\n",
    " - house size (m^2)\n",
    " - house price\n",
    " - location\n",
    " - number of bedrooms\n",
    "\n",
    "Make sure that the numbers make sense (i.e. more rooms is usually bigger size, more expensive locations increase price. more size is usually higher price etc. make sure all the numbers make sense).\n",
    "\"\"\"\n",
    "\n",
    "response = client.chat.completions.create(\n",
    "    model=datagen_model,\n",
    "    messages=[\n",
    "        {\"role\": \"system\", \"content\": \"You are a helpful assistant designed to generate synthetic data.\"},\n",
    "        {\"role\": \"user\", \"content\": question}\n",
    "    ]\n",
    ")\n",
    "res = response.choices[0].message.content\n",
    "print(res)"
   ],
   "id": "351a642031ee4032",
   "outputs": [
    {
     "name": "stdout",
     "output_type": "stream",
     "text": [
      "Certainly! Below is a Python program that generates 100 rows of synthetic housing data. The program uses the Pandas library to create a DataFrame with the specified structure and considerations regarding the relationships between the features.\n",
      "\n",
      "```python\n",
      "import pandas as pd\n",
      "import numpy as np\n",
      "\n",
      "# Set random seed for reproducibility\n",
      "np.random.seed(42)\n",
      "\n",
      "# Constants for generating data\n",
      "num_rows = 100\n",
      "location_multiplier = {\n",
      "    'city_center': 1.5,\n",
      "    'suburbs': 1.0,\n",
      "    'rural': 0.5\n",
      "}\n",
      "\n",
      "# Generate sample data\n",
      "data = []\n",
      "for i in range(1, num_rows + 1):\n",
      "    location = np.random.choice(['city_center', 'suburbs', 'rural'])\n",
      "    \n",
      "    # Define number of bedrooms based on location\n",
      "    if location == 'city_center':\n",
      "        bedrooms = np.random.randint(1, 5)  # more expensive areas tend to have smaller properties\n",
      "    elif location == 'suburbs':\n",
      "        bedrooms = np.random.randint(2, 6)  # suburbs usually have bigger houses\n",
      "    else:  # rural\n",
      "        bedrooms = np.random.randint(3, 7)  # rural houses tend to be larger with more amenities\n",
      "\n",
      "    # House size in m^2 will be generated based on number of bedrooms\n",
      "    house_size = np.random.randint(bedrooms * 20, bedrooms * 40)\n",
      "\n",
      "    # House price calculation (using a base and scaling by size and location factor)\n",
      "    base_price_per_m2 = 1000 * location_multiplier[location]\n",
      "    house_price = int(house_size * base_price_per_m2)\n",
      "\n",
      "    # Append to the data list\n",
      "    data.append({\n",
      "        'id': i,\n",
      "        'house_size_m2': house_size,\n",
      "        'house_price': house_price,\n",
      "        'location': location,\n",
      "        'number_of_bedrooms': bedrooms\n",
      "    })\n",
      "\n",
      "# Create a DataFrame\n",
      "housing_df = pd.DataFrame(data)\n",
      "\n",
      "# Display the first few rows of the DataFrame\n",
      "print(housing_df)\n",
      "```\n",
      "\n",
      "### Explanation:\n",
      "\n",
      "1. **Location Multiplier**: The `location_multiplier` dictionary defines how much more expensive houses are in different locations.\n",
      "  \n",
      "2. **Loop for Data Generation**: A loop runs 100 times to generate `id`, `location`, `number_of_bedrooms`, `house_size`, and `house_price`.\n",
      "\n",
      "3. **House Size and Price Calculation**:\n",
      "    - The number of bedrooms is randomly selected based on the type of location, which influences the average size and price of the houses.\n",
      "    - The house size is typically a function of the number of bedrooms, calculated within certain ranges.\n",
      "    - The house price is derived from the house size and the base price per square meter, which is determined by the location.\n",
      "\n",
      "4. **Creating DataFrame**: Finally, the program creates a Pandas DataFrame and prints it out. \n",
      "\n",
      "Make sure you have the `pandas` and `numpy` libraries installed in your Python environment to run the program. You can install them using:\n",
      "\n",
      "```bash\n",
      "pip install pandas numpy\n",
      "```\n"
     ]
    }
   ],
   "execution_count": 5
  },
  {
   "metadata": {
    "ExecuteTime": {
     "end_time": "2024-09-17T14:04:03.191143Z",
     "start_time": "2024-09-17T14:04:03.186012Z"
    }
   },
   "cell_type": "code",
   "source": [
    "question = f\"\"\"\n",
    "  I am creating input output training pairs to fine tune my gpt model. I want the input to be product name and category and output to be description. the category should be things like: mobile phones, shoes, headphones, laptop, electronic toothbrush, etc. and also more importantly the categories should come under 4 main topics: vehicle, clothing, toiletries, food)\n",
    "  After the number of each example also state the topic area. The format should be of the form:\n",
    "  1. topic_area\n",
    "  Input: product_name, category\n",
    "  Output: description\n",
    "\n",
    "  Do not add any extra characters around that formatting as it will make the output parsing break.\n",
    "\n",
    "  Here are some helpful examples so you get the style of output correct.\n",
    "\n",
    "  1) clothing\n",
    "  Input: \"Shoe Name, Shoes\"\n",
    "  Output: \"Experience unparalleled comfort. These shoes feature a blend of modern style and the traditional superior cushioning, perfect for those always on the move.\"\n",
    "  \"\"\"\n"
   ],
   "id": "5ac96257d6464e7d",
   "outputs": [],
   "execution_count": 5
  },
  {
   "metadata": {
    "ExecuteTime": {
     "end_time": "2024-09-17T14:06:56.931438Z",
     "start_time": "2024-09-17T14:04:14.384716Z"
    }
   },
   "cell_type": "code",
   "source": [
    "output_string = \"\"\n",
    "for i in range(3):\n",
    "    response = nemotron.chat(prompt=question,\n",
    "                                  system_prompt=\"You are a helpful assistant designed to generate synthetic data.\")\n",
    "    output_string += response + \"\\n\" + \"\\n\"\n"
   ],
   "id": "1bfdec614cfeec6f",
   "outputs": [
    {
     "name": "stdout",
     "output_type": "stream",
     "text": [
      "\u001B[32mINFO\u001B[0m: \u001B[1mGenerating response\u001B[0m\n",
      "\u001B[32mINFO\u001B[0m: \u001B[1mResponse generated successfully\u001B[0m\n",
      "\u001B[32mINFO\u001B[0m: \u001B[1mGenerating response\u001B[0m\n",
      "\u001B[32mINFO\u001B[0m: \u001B[1mResponse generated successfully\u001B[0m\n",
      "\u001B[32mINFO\u001B[0m: \u001B[1mGenerating response\u001B[0m\n",
      "\u001B[32mINFO\u001B[0m: \u001B[1mResponse generated successfully\u001B[0m\n"
     ]
    }
   ],
   "execution_count": 6
  },
  {
   "metadata": {
    "ExecuteTime": {
     "end_time": "2024-09-17T14:10:03.469665Z",
     "start_time": "2024-09-17T14:10:03.450744Z"
    }
   },
   "cell_type": "code",
   "source": "print(output_string[:1000])  #displaying truncated response",
   "id": "c322b361c6aa8869",
   "outputs": [
    {
     "name": "stdout",
     "output_type": "stream",
     "text": [
      "Sure, I'd be happy to help you generate some input-output training pairs for your GPT model. Here are some examples that follow the format you provided:\n",
      "\n",
      "1. vehicle\n",
      "Input: \"Tesla Model S, Electric Cars\"\n",
      "Output: \"The Tesla Model S is a premium electric sedan that combines sleek design, impressive performance, and advanced technology. With a range of up to 400 miles on a single charge, it offers a sustainable and luxurious driving experience.\"\n",
      "\n",
      "2. clothing\n",
      "Input: \"Levi's 501 Jeans, Denim Pants\"\n",
      "Output: \"Levi's 501 Jeans are a timeless classic, featuring a straight-leg fit and durable denim construction. These jeans are perfect for any casual occasion and are built to last, making them a staple in any wardrobe.\"\n",
      "\n",
      "3. toiletries\n",
      "Input: \"Oral-B Pro 1000 Electric Toothbrush, Electronic Toothbrushes\"\n",
      "Output: \"The Oral-B Pro 1000 Electric Toothbrush provides a superior clean compared to manual toothbrushes. With its oscillating and rotating technology, it removes more plaque and promotes health\n"
     ]
    }
   ],
   "execution_count": 17
  },
  {
   "metadata": {
    "ExecuteTime": {
     "end_time": "2024-09-17T14:10:25.611465Z",
     "start_time": "2024-09-17T14:10:25.594175Z"
    }
   },
   "cell_type": "code",
   "source": "correct_output_string = output_string[154:]",
   "id": "9ddc0a3f4eacc98b",
   "outputs": [],
   "execution_count": 18
  },
  {
   "metadata": {
    "ExecuteTime": {
     "end_time": "2024-09-17T14:11:10.704336Z",
     "start_time": "2024-09-17T14:11:10.698829Z"
    }
   },
   "cell_type": "code",
   "source": "print(correct_output_string[:1000])",
   "id": "553fccf103cfa23e",
   "outputs": [
    {
     "name": "stdout",
     "output_type": "stream",
     "text": [
      "1. vehicle\n",
      "Input: \"Tesla Model S, Electric Cars\"\n",
      "Output: \"The Tesla Model S is a premium electric sedan that combines sleek design, impressive performance, and advanced technology. With a range of up to 400 miles on a single charge, it offers a sustainable and luxurious driving experience.\"\n",
      "\n",
      "2. clothing\n",
      "Input: \"Levi's 501 Jeans, Denim Pants\"\n",
      "Output: \"Levi's 501 Jeans are a timeless classic, featuring a straight-leg fit and durable denim construction. These jeans are perfect for any casual occasion and are built to last, making them a staple in any wardrobe.\"\n",
      "\n",
      "3. toiletries\n",
      "Input: \"Oral-B Pro 1000 Electric Toothbrush, Electronic Toothbrushes\"\n",
      "Output: \"The Oral-B Pro 1000 Electric Toothbrush provides a superior clean compared to manual toothbrushes. With its oscillating and rotating technology, it removes more plaque and promotes healthier gums, leaving your mouth feeling fresh and clean.\"\n",
      "\n",
      "4. food\n",
      "Input: \" KIND Dark Chocolate Nuts & Sea Salt Bars, Snack Bars\"\n",
      "Output: \"KIND Dark Chocolat\n"
     ]
    }
   ],
   "execution_count": 22
  },
  {
   "metadata": {
    "ExecuteTime": {
     "end_time": "2024-09-17T14:11:38.708539Z",
     "start_time": "2024-09-17T14:11:38.692403Z"
    }
   },
   "cell_type": "code",
   "source": [
    "pattern = re.compile(r'(\\d+)\\.\\s*(\\w+)\\s*Input:\\s*\"(.+?),\\s*(.+?)\"\\s*Output:\\s*\"(.*?)\"', re.DOTALL)\n",
    "matches = pattern.findall(correct_output_string)\n",
    "\n",
    "topics = []\n",
    "products = []\n",
    "categories = []\n",
    "descriptions = []\n",
    "\n",
    "for match in matches:\n",
    "    number, topic, product, category, description = match\n",
    "    topics.append(topic)\n",
    "    products.append(product)\n",
    "    categories.append(category)\n",
    "    descriptions.append(description)"
   ],
   "id": "a768eb7ba591859b",
   "outputs": [],
   "execution_count": 23
  },
  {
   "metadata": {
    "ExecuteTime": {
     "end_time": "2024-09-17T14:11:52.286438Z",
     "start_time": "2024-09-17T14:11:52.267418Z"
    }
   },
   "cell_type": "code",
   "source": "products",
   "id": "9b0aafd3dc3e47d4",
   "outputs": [
    {
     "data": {
      "text/plain": [
       "['Tesla Model S',\n",
       " \"Levi's 501 Jeans\",\n",
       " 'Oral-B Pro 1000 Electric Toothbrush',\n",
       " ' KIND Dark Chocolate Nuts & Sea Salt Bars',\n",
       " 'Apple MacBook Pro',\n",
       " 'Adidas Ultraboost 21 Running Shoes',\n",
       " \"Gillette Fusion5 ProGlide Men's Razor\",\n",
       " \"Annie's Organic Shells & White Cheddar Macaroni & Cheese\",\n",
       " 'Sony WH-1000XM4 Wireless Noise-Cancelling Headphones',\n",
       " 'Honda Civic',\n",
       " 'Tesla Model S',\n",
       " \"Levi's 501 Jeans\",\n",
       " 'Oral-B Pro 1000 Electric Toothbrush',\n",
       " ' KIND Dark Chocolate Nuts & Sea Salt Bars',\n",
       " 'Apple MacBook Pro',\n",
       " 'Adidas Ultraboost 21 Running Shoes',\n",
       " \"Gillette Fusion5 ProGlide Men's Razor\",\n",
       " \"Annie's Organic Shells & White Cheddar Macaroni & Cheese\",\n",
       " 'Sony WH-1000XM4 Wireless Noise-Cancelling Headphones',\n",
       " 'Honda Civic',\n",
       " 'Tesla Model S',\n",
       " \"Levi's 501 Jeans\",\n",
       " 'Oral-B Pro 1000 Electric Toothbrush',\n",
       " ' KIND Dark Chocolate Nuts & Sea Salt Bars',\n",
       " 'Apple MacBook Pro',\n",
       " 'Adidas Ultraboost 21 Running Shoes',\n",
       " \"Gillette Fusion5 ProGlide Men's Razor\",\n",
       " \"Annie's Organic Shells & White Cheddar Macaroni & Cheese\",\n",
       " 'Sony WH-1000XM4 Wireless Noise-Cancelling Headphones',\n",
       " 'Honda Civic']"
      ]
     },
     "execution_count": 25,
     "metadata": {},
     "output_type": "execute_result"
    }
   ],
   "execution_count": 25
  },
  {
   "metadata": {
    "ExecuteTime": {
     "end_time": "2024-09-17T14:19:23.751216Z",
     "start_time": "2024-09-17T14:19:23.738877Z"
    }
   },
   "cell_type": "code",
   "source": [
    "data = {\n",
    "    'Product': products,\n",
    "    'Category': categories,\n",
    "    'Description': descriptions\n",
    "}\n",
    "\n",
    "df = pd.DataFrame(data)"
   ],
   "id": "67c2a8ee2853fc6b",
   "outputs": [],
   "execution_count": 26
  },
  {
   "metadata": {},
   "cell_type": "code",
   "outputs": [],
   "execution_count": null,
   "source": "",
   "id": "9c050ad9e9f70fa8"
  }
 ],
 "metadata": {
  "kernelspec": {
   "display_name": "Python 3",
   "language": "python",
   "name": "python3"
  },
  "language_info": {
   "codemirror_mode": {
    "name": "ipython",
    "version": 2
   },
   "file_extension": ".py",
   "mimetype": "text/x-python",
   "name": "python",
   "nbconvert_exporter": "python",
   "pygments_lexer": "ipython2",
   "version": "2.7.6"
  }
 },
 "nbformat": 4,
 "nbformat_minor": 5
}
